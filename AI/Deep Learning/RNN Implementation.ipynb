{
 "cells": [
  {
   "cell_type": "code",
   "execution_count": 46,
   "id": "f666cd40-2e7e-4e23-90b4-1cc7e8b26223",
   "metadata": {},
   "outputs": [],
   "source": [
    "import os\n",
    "import io\n",
    "import unicodedata\n",
    "import string\n",
    "import glob\n",
    "import torch\n",
    "import torch.nn as nn\n",
    "import matplotlib.pyplot as plt"
   ]
  },
  {
   "cell_type": "code",
   "execution_count": 47,
   "id": "6213c6b2-a61b-4c9a-8a2d-dbd9cc6fab27",
   "metadata": {},
   "outputs": [],
   "source": [
    "ALL_LETTERS = string.ascii_letters + '.,;'\n",
    "N_LETTERS = len(ALL_LETTERS)"
   ]
  },
  {
   "cell_type": "code",
   "execution_count": 48,
   "id": "9d6bc8a5-2e2a-4fda-ae7d-d8cfa32d3d58",
   "metadata": {},
   "outputs": [],
   "source": [
    "# Turn a unicode string to plain ASCII\n",
    "\n",
    "def unicode_to_ascii(s):\n",
    "    return ''.join(\n",
    "        c for c in unicodedata.normalize('NFD', s)\n",
    "        if unicodedata.category(c) != 'Mn'\n",
    "        and c in ALL_LETTERS\n",
    "    )"
   ]
  },
  {
   "cell_type": "code",
   "execution_count": 49,
   "id": "d734d887-b388-4b95-a0f7-fa0ff34e2e57",
   "metadata": {},
   "outputs": [],
   "source": [
    "def load_data():\n",
    "    # Build category lines dictonary, a list of names per langauge\n",
    "    category_lines ={}\n",
    "    all_categories = []\n",
    "    def find_files(path):\n",
    "        return glob.glob(path)\n",
    "    def read_lines(filename):\n",
    "        lines = io.open(filename, encoding = 'utf-8').read().strip().split('\\n')\n",
    "        return [unicode_to_ascii(line) for line in lines]\n",
    "    for filename in find_files('names/*.txt'):\n",
    "        category = os.path.splitext(os.path.basename(filename))[0]\n",
    "        all_categories.append(category)\n",
    "        lines = read_lines(filename)\n",
    "        category_lines[category] = lines\n",
    "    return category_lines, all_categories"
   ]
  },
  {
   "cell_type": "code",
   "execution_count": 50,
   "id": "484febf9-fa76-4be0-8698-8ae1925502b4",
   "metadata": {},
   "outputs": [],
   "source": [
    "# Find letter index in all letters\n",
    "def letter_to_index(letter):\n",
    "    return ALL_LETTERS.find(letter)\n",
    "\n",
    "def letter_to_tensor(letter):\n",
    "    tensor = torch.zeros(1, N_LETTERS)\n",
    "    tensor[0][letter_to_index(letter)] = 1\n",
    "    return tensor\n",
    "    \n",
    "# Turn a line into a tensor of <1 x N_LETTERS>\n",
    "def line_to_tensor(line):\n",
    "    tensor = torch.zeros(len(line), 1, N_LETTERS)\n",
    "    for i, letter in enumerate(line):\n",
    "        tensor[i][0][letter_to_index(letter)] =1\n",
    "    return tensor\n",
    "def random_training_example(category_lines, all_categories):\n",
    "    def random_choice(a):\n",
    "        random_idx = torch.randint(0, len(a), (1,)).item()\n",
    "        return a[random_idx]\n",
    "    category = random_choice(all_categories)\n",
    "    line = random_choice(category_lines[category])\n",
    "    category_tensor = torch.tensor([all_categories.index(category)], dtype = torch.long)\n",
    "    line_tensor = line_to_tensor(line)\n",
    "    return category, line, category_tensor, line_tensor"
   ]
  },
  {
   "cell_type": "code",
   "execution_count": 51,
   "id": "220328a3-162a-401a-9b61-50e16172a91d",
   "metadata": {},
   "outputs": [],
   "source": [
    "# print(unicode_to_ascii(\"Héllo, ça va?\"))\n",
    "# category_lines, all_categories = load_data()\n",
    "# print(category_lines['German'][1])\n",
    "# print(line_to_tensor(category_lines['German'][1]))"
   ]
  },
  {
   "cell_type": "code",
   "execution_count": 53,
   "id": "20bf3188-a97a-4fa4-99d3-33a5e8c465a8",
   "metadata": {},
   "outputs": [
    {
     "data": {
      "text/plain": [
       "18"
      ]
     },
     "execution_count": 53,
     "metadata": {},
     "output_type": "execute_result"
    }
   ],
   "source": [
    "category_lines, all_categories = load_data()\n",
    "n_categories = len(all_categories)\n",
    "n_categories"
   ]
  },
  {
   "cell_type": "code",
   "execution_count": 54,
   "id": "1d8f1956-c1f3-4320-aa6c-038d2f76879f",
   "metadata": {},
   "outputs": [],
   "source": [
    "n_hidden = 128"
   ]
  },
  {
   "cell_type": "code",
   "execution_count": 68,
   "id": "63bb0c29-0572-4ea8-8d41-e8be9807db9b",
   "metadata": {},
   "outputs": [],
   "source": [
    "class RNN(nn.Module):\n",
    "    def __init__(self, input_size, hidden_size, output_size):\n",
    "        super(RNN, self).__init__()\n",
    "        self.hidden_size = hidden_size\n",
    "        self.i2h = nn.Linear(input_size + hidden_size, hidden_size)\n",
    "        self.i2o = nn.Linear(input_size + hidden_size, output_size)\n",
    "        self.softmax = nn.LogSoftmax(dim= 1)\n",
    "    def forward(self, input_tensor, hidden_tensor):\n",
    "        combined = torch.cat((input_tensor, hidden_tensor), 1)\n",
    "        hidden = self.i2h(combined)\n",
    "        output = self.i2o(combined)\n",
    "        output = self.softmax(output)\n",
    "        return output, hidden\n",
    "    def init_hidden(self):\n",
    "        return torch.zeros(1, self.hidden_size)"
   ]
  },
  {
   "cell_type": "code",
   "execution_count": 69,
   "id": "b8bae345-45ee-4871-ac4f-a95eede5ce9e",
   "metadata": {},
   "outputs": [],
   "source": [
    "rnn = RNN(\n",
    "    input_size= N_LETTERS,\n",
    "    hidden_size=n_hidden,\n",
    "    output_size=n_categories,\n",
    ")"
   ]
  },
  {
   "cell_type": "code",
   "execution_count": 70,
   "id": "220bfd44-8d63-438f-8330-7011b9a4ec28",
   "metadata": {},
   "outputs": [
    {
     "name": "stdout",
     "output_type": "stream",
     "text": [
      "torch.Size([1, 18])\n",
      "torch.Size([1, 128])\n"
     ]
    }
   ],
   "source": [
    "# One step\n",
    "input_tensor = letter_to_tensor('A')\n",
    "hidden_tensor = rnn.init_hidden()\n",
    "output, next_hidden = rnn(input_tensor, hidden_tensor)\n",
    "print(output.shape)\n",
    "print(next_hidden.shape)"
   ]
  },
  {
   "cell_type": "code",
   "execution_count": 71,
   "id": "b1ea76d1-4adb-4d92-8631-31a06211d75a",
   "metadata": {},
   "outputs": [
    {
     "name": "stdout",
     "output_type": "stream",
     "text": [
      "torch.Size([1, 18])\n",
      "torch.Size([1, 128])\n"
     ]
    }
   ],
   "source": [
    "# Whole sequence / Name\n",
    "\n",
    "input_tensor = line_to_tensor('Albert')\n",
    "hidden_tensor = rnn.init_hidden()\n",
    "output, next_hidden = rnn(input_tensor[0], hidden_tensor)\n",
    "print(output.shape)\n",
    "print(next_hidden.shape)"
   ]
  },
  {
   "cell_type": "code",
   "execution_count": 72,
   "id": "8bbdd4ee-2592-477f-a86a-e34fb0e6981d",
   "metadata": {},
   "outputs": [],
   "source": [
    "def category_from_output(output, all_categories = all_categories):\n",
    "    category_idx = torch.argmax(output).item()\n",
    "    return all_categories[category_idx]"
   ]
  },
  {
   "cell_type": "code",
   "execution_count": 73,
   "id": "35cbee65-0238-4a3b-9d8c-e6acbc6f9b0e",
   "metadata": {},
   "outputs": [
    {
     "name": "stdout",
     "output_type": "stream",
     "text": [
      "Russian\n"
     ]
    }
   ],
   "source": [
    "print(category_from_output(output))"
   ]
  },
  {
   "cell_type": "code",
   "execution_count": 74,
   "id": "4ac03116-de93-4870-936d-da9161eb389e",
   "metadata": {},
   "outputs": [],
   "source": [
    "# Train RNN\n",
    "criterion = nn.NLLLoss()\n",
    "lr = 0.001\n",
    "optimizer = torch.optim.SGD(rnn.parameters(),lr= lr)"
   ]
  },
  {
   "cell_type": "code",
   "execution_count": 75,
   "id": "71aa76a3-4956-447c-b07f-72bf2340e6ab",
   "metadata": {},
   "outputs": [],
   "source": [
    "def train_model(line_tensor, category_tensor):\n",
    "    hidden = rnn.init_hidden()\n",
    "    for i in range(line_tensor.size()[0]):\n",
    "        output, hidden = rnn(\n",
    "            line_tensor[i],\n",
    "            hidden\n",
    "        )\n",
    "    loss = criterion(output, category_tensor)\n",
    "    optimizer.zero_grad()\n",
    "    loss.backward()\n",
    "    optimizer.step()\n",
    "    return output, loss.item()"
   ]
  },
  {
   "cell_type": "code",
   "execution_count": 76,
   "id": "2973c9a9-6505-4d76-8f34-6f177efff2df",
   "metadata": {},
   "outputs": [
    {
     "name": "stdout",
     "output_type": "stream",
     "text": [
      "4999 4.999 2.9345 Azarola / Portuguese WRONG: (Spanish)\n",
      "9999 9.998999999999999 2.9083 Baik / Irish WRONG: (Korean)\n",
      "14999 14.999 2.8729 Ha / Japanese WRONG: (Vietnamese)\n",
      "19999 19.999 2.7168 Woo / Portuguese WRONG: (Korean)\n",
      "24999 24.999 2.8989 Manus / Portuguese WRONG: (Irish)\n",
      "29999 29.999 1.5408 Bing / Chinese CORRECT\n",
      "34999 34.999 0.4594 Theofilopoulos / Greek CORRECT\n",
      "39999 39.999 1.9043 Coelho / Portuguese CORRECT\n",
      "44999 44.999 1.7073 Kalachihin / Russian CORRECT\n",
      "49999 49.999 1.6204 Ho / Korean WRONG: (Vietnamese)\n",
      "54999 54.998999999999995 1.8013 Ton / Korean WRONG: (Vietnamese)\n",
      "59999 59.999 2.4208 Trucco / Portuguese WRONG: (Italian)\n",
      "64999 64.999 2.4909 Adkins / Japanese WRONG: (English)\n",
      "69999 69.999 3.2476 Gaspar / Arabic WRONG: (Portuguese)\n",
      "74999 74.99900000000001 1.4206 Sneijers / Dutch CORRECT\n",
      "79999 79.999 2.1694 Laren / Spanish WRONG: (Dutch)\n",
      "84999 84.999 3.3938 Marqueringh / Irish WRONG: (Dutch)\n",
      "89999 89.999 2.4810 David / Arabic WRONG: (French)\n",
      "94999 94.999 1.0443 Jamieson / Scottish CORRECT\n",
      "99999 99.99900000000001 0.5006 Sokolsky / Polish CORRECT\n"
     ]
    },
    {
     "data": {
      "image/png": "[encoded data removed]",
      "text/plain": [
       "<Figure size 640x480 with 1 Axes>"
      ]
     },
     "metadata": {},
     "output_type": "display_data"
    }
   ],
   "source": [
    "current_loss = 0\n",
    "all_losses = []\n",
    "plot_steps, print_steps = 1000, 5000\n",
    "n_iters = 100000\n",
    "for i in range(n_iters):\n",
    "    category, line, category_tensor, line_tensor = random_training_example(category_lines, all_categories)\n",
    "    output, loss = train_model(line_tensor, category_tensor)\n",
    "    current_loss += loss\n",
    "    if (i + 1) % plot_steps == 0:\n",
    "        all_losses.append(current_loss/plot_steps)\n",
    "        current_loss = 0\n",
    "    if (i + 1) % print_steps == 0:\n",
    "        guess = category_from_output(output)\n",
    "        correct = \"CORRECT\" if guess == category else f\"WRONG: ({category})\"\n",
    "        print(f\"{i} {i/n_iters* 100} {loss:.4f} {line} / {guess} {correct}\")\n",
    "plt.figure()\n",
    "plt.plot(all_losses)\n",
    "plt.show()"
   ]
  },
  {
   "cell_type": "code",
   "execution_count": 77,
   "id": "e3ebec3c-9840-40e1-b863-6f6ae624396f",
   "metadata": {},
   "outputs": [],
   "source": [
    "def predict(input_line):\n",
    "    print(f\"\\n> {input_line}\")\n",
    "    with torch.inference_mode():\n",
    "        line_tensor = line_to_tensor(input_line)\n",
    "        hidden = rnn.init_hidden()\n",
    "        for i in range(line_tensor.size()[0]):\n",
    "            output, hidden = rnn(\n",
    "                line_tensor[i],\n",
    "                hidden)\n",
    "        guess = category_from_output(output)\n",
    "        print(guess)\n",
    "        \n",
    "            "
   ]
  },
  {
   "cell_type": "code",
   "execution_count": 78,
   "id": "5614387c-42e2-48f9-b737-d887297ff5d0",
   "metadata": {},
   "outputs": [
    {
     "name": "stdin",
     "output_type": "stream",
     "text": [
      "Input: quit\n"
     ]
    }
   ],
   "source": [
    "while True:\n",
    "    sentence = input(\"Input:\")\n",
    "    if sentence == \"quit\":\n",
    "        break\n",
    "    predict(sentence)"
   ]
  }
 ],
 "metadata": {
  "kernelspec": {
   "display_name": "Python 3 (ipykernel)",
   "language": "python",
   "name": "python3"
  },
  "language_info": {
   "codemirror_mode": {
    "name": "ipython",
    "version": 3
   },
   "file_extension": ".py",
   "mimetype": "text/x-python",
   "name": "python",
   "nbconvert_exporter": "python",
   "pygments_lexer": "ipython3",
   "version": "3.10.16"
  }
 },
 "nbformat": 4,
 "nbformat_minor": 5
}

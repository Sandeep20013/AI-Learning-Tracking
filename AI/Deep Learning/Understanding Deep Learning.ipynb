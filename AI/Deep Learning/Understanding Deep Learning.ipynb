{
 "cells": [
  {
   "cell_type": "markdown",
   "id": "86fcd17e-7dd3-4c86-ad0f-ba20b0c431b2",
   "metadata": {},
   "source": [
    "## Under the Hood: Training a Digit Classifier:\n",
    "\n",
    "We will be trying to understand how a deep learning model works underneath, we will be using the MNIST number classification dataset for this."
   ]
  },
  {
   "cell_type": "code",
   "execution_count": 1,
   "id": "13491b08-4e30-4369-ae2b-d23bfcbc139a",
   "metadata": {},
   "outputs": [],
   "source": [
    "from fastai.vision.all import *\n",
    "import pandas as pd\n"
   ]
  },
  {
   "cell_type": "markdown",
   "id": "2023cb63-f21f-421f-95aa-235e86a0ebca",
   "metadata": {},
   "source": [
    "For this initial tutorial we are just going to try to create a model that can classify any image as a 3 or a 7. So let's download a sample of MNIST that contains images of just these digits:"
   ]
  },
  {
   "cell_type": "code",
   "execution_count": 2,
   "id": "5fa5cfbd-39a2-4454-82e8-d4aeb368337c",
   "metadata": {},
   "outputs": [],
   "source": [
    "path = untar_data(URLs.MNIST_SAMPLE)"
   ]
  },
  {
   "cell_type": "code",
   "execution_count": 3,
   "id": "e9682a9d-801d-4bab-9f46-08cb383c0eb2",
   "metadata": {},
   "outputs": [],
   "source": [
    "Path.BASE_PATH = path"
   ]
  },
  {
   "cell_type": "code",
   "execution_count": 4,
   "id": "f617f517-e41d-4d46-af8a-62ea80da31b8",
   "metadata": {},
   "outputs": [
    {
     "data": {
      "text/plain": [
       "(#3) [Path('labels.csv'),Path('train'),Path('valid')]"
      ]
     },
     "execution_count": 4,
     "metadata": {},
     "output_type": "execute_result"
    }
   ],
   "source": [
    "path.ls()"
   ]
  },
  {
   "cell_type": "code",
   "execution_count": 5,
   "id": "c682cf2e-1f0c-44fe-b774-fe8028e94dbd",
   "metadata": {},
   "outputs": [
    {
     "data": {
      "text/plain": [
       "(#2) [Path('train/3'),Path('train/7')]"
      ]
     },
     "execution_count": 5,
     "metadata": {},
     "output_type": "execute_result"
    }
   ],
   "source": [
    "(path/'train').ls()"
   ]
  },
  {
   "cell_type": "code",
   "execution_count": 6,
   "id": "8f1abb7b-5bac-4737-ac31-17a467d689f2",
   "metadata": {},
   "outputs": [
    {
     "data": {
      "text/plain": [
       "(#6131) [Path('train/3/10.png'),Path('train/3/10000.png'),Path('train/3/10011.png'),Path('train/3/10031.png'),Path('train/3/10034.png'),Path('train/3/10042.png'),Path('train/3/10052.png'),Path('train/3/1007.png'),Path('train/3/10074.png'),Path('train/3/10091.png'),Path('train/3/10093.png'),Path('train/3/10097.png'),Path('train/3/10099.png'),Path('train/3/10116.png'),Path('train/3/10125.png'),Path('train/3/10137.png'),Path('train/3/10141.png'),Path('train/3/10144.png'),Path('train/3/10155.png'),Path('train/3/10161.png')...]"
      ]
     },
     "execution_count": 6,
     "metadata": {},
     "output_type": "execute_result"
    }
   ],
   "source": [
    "threes = (path/'train'/'3').ls().sorted()\n",
    "sevens = (path/'train'/'7').ls().sorted()\n",
    "threes"
   ]
  },
  {
   "cell_type": "code",
   "execution_count": 7,
   "id": "9512da5b-407b-41ff-b68f-a9fd01b4d6a9",
   "metadata": {},
   "outputs": [
    {
     "data": {
      "image/jpeg": "[encoded data removed]",
      "image/png": "[encoded data removed]",
      "text/plain": [
       "<PIL.PngImagePlugin.PngImageFile image mode=L size=28x28>"
      ]
     },
     "execution_count": 7,
     "metadata": {},
     "output_type": "execute_result"
    }
   ],
   "source": [
    "im3_path = threes[1]\n",
    "im3 = Image.open(im3_path)\n",
    "im3"
   ]
  },
  {
   "cell_type": "code",
   "execution_count": 8,
   "id": "e2fc388d-5b65-4f1a-a492-4b3dd8337f67",
   "metadata": {},
   "outputs": [
    {
     "data": {
      "text/plain": [
       "array([[  0,   0,   0,   0,   0,   0],\n",
       "       [  0,   0,   0,   0,   0,  29],\n",
       "       [  0,   0,   0,  48, 166, 224],\n",
       "       [  0,  93, 244, 249, 253, 187],\n",
       "       [  0, 107, 253, 253, 230,  48],\n",
       "       [  0,   3,  20,  20,  15,   0]], dtype=uint8)"
      ]
     },
     "execution_count": 8,
     "metadata": {},
     "output_type": "execute_result"
    }
   ],
   "source": [
    "array(im3)[4:10, 4:10]"
   ]
  },
  {
   "cell_type": "code",
   "execution_count": 9,
   "id": "4c41b206-d7ed-47f4-9891-8cd1de8dd30e",
   "metadata": {},
   "outputs": [
    {
     "data": {
      "text/plain": [
       "tensor([[  0,   0,   0,   0,   0,   0],\n",
       "        [  0,   0,   0,   0,   0,  29],\n",
       "        [  0,   0,   0,  48, 166, 224],\n",
       "        [  0,  93, 244, 249, 253, 187],\n",
       "        [  0, 107, 253, 253, 230,  48],\n",
       "        [  0,   3,  20,  20,  15,   0]], dtype=torch.uint8)"
      ]
     },
     "execution_count": 9,
     "metadata": {},
     "output_type": "execute_result"
    }
   ],
   "source": [
    "tensor(im3)[4:10, 4:10]"
   ]
  },
  {
   "cell_type": "markdown",
   "id": "101c915a-528a-4265-8a9f-9b6fbef5a007",
   "metadata": {},
   "source": [
    "Let's show it in display with colouring the pixel using pandas dataframe."
   ]
  },
  {
   "cell_type": "code",
   "execution_count": 10,
   "id": "acf08890-f435-4d1f-aebf-e84092b9d935",
   "metadata": {},
   "outputs": [
    {
     "data": {
      "text/html": [
       "<style type=\"text/css\">\n",
       "#T_8dc5e_row0_col0, #T_8dc5e_row0_col1, #T_8dc5e_row0_col2, #T_8dc5e_row0_col3, #T_8dc5e_row0_col4, #T_8dc5e_row0_col5, #T_8dc5e_row0_col6, #T_8dc5e_row0_col7, #T_8dc5e_row0_col8, #T_8dc5e_row0_col9, #T_8dc5e_row0_col10, #T_8dc5e_row0_col11, #T_8dc5e_row0_col12, #T_8dc5e_row0_col13, #T_8dc5e_row0_col14, #T_8dc5e_row0_col15, #T_8dc5e_row0_col16, #T_8dc5e_row0_col17, #T_8dc5e_row0_col18, #T_8dc5e_row0_col19, #T_8dc5e_row0_col20, #T_8dc5e_row1_col0, #T_8dc5e_row1_col1, #T_8dc5e_row1_col2, #T_8dc5e_row1_col3, #T_8dc5e_row1_col4, #T_8dc5e_row1_col5, #T_8dc5e_row1_col6, #T_8dc5e_row1_col7, #T_8dc5e_row1_col8, #T_8dc5e_row1_col9, #T_8dc5e_row1_col10, #T_8dc5e_row1_col11, #T_8dc5e_row1_col12, #T_8dc5e_row1_col13, #T_8dc5e_row1_col14, #T_8dc5e_row1_col15, #T_8dc5e_row1_col16, #T_8dc5e_row1_col17, #T_8dc5e_row1_col18, #T_8dc5e_row1_col19, #T_8dc5e_row1_col20, #T_8dc5e_row2_col0, #T_8dc5e_row2_col1, #T_8dc5e_row2_col2, #T_8dc5e_row2_col3, #T_8dc5e_row2_col4, #T_8dc5e_row2_col5, #T_8dc5e_row2_col6, #T_8dc5e_row2_col7, #T_8dc5e_row2_col8, #T_8dc5e_row2_col9, #T_8dc5e_row2_col10, #T_8dc5e_row2_col11, #T_8dc5e_row2_col12, #T_8dc5e_row2_col13, #T_8dc5e_row2_col14, #T_8dc5e_row2_col15, #T_8dc5e_row2_col16, #T_8dc5e_row2_col17, #T_8dc5e_row2_col18, #T_8dc5e_row2_col19, #T_8dc5e_row2_col20, #T_8dc5e_row3_col0, #T_8dc5e_row3_col1, #T_8dc5e_row3_col2, #T_8dc5e_row3_col3, #T_8dc5e_row3_col4, #T_8dc5e_row3_col5, #T_8dc5e_row3_col6, #T_8dc5e_row3_col7, #T_8dc5e_row3_col8, #T_8dc5e_row3_col9, #T_8dc5e_row3_col10, #T_8dc5e_row3_col11, #T_8dc5e_row3_col12, #T_8dc5e_row3_col13, #T_8dc5e_row3_col14, #T_8dc5e_row3_col15, #T_8dc5e_row3_col16, #T_8dc5e_row3_col17, #T_8dc5e_row3_col18, #T_8dc5e_row3_col19, #T_8dc5e_row3_col20, #T_8dc5e_row4_col0, #T_8dc5e_row4_col1, #T_8dc5e_row4_col2, #T_8dc5e_row4_col3, #T_8dc5e_row4_col4, #T_8dc5e_row4_col5, #T_8dc5e_row4_col6, #T_8dc5e_row4_col7, #T_8dc5e_row4_col8, #T_8dc5e_row4_col9, #T_8dc5e_row4_col10, #T_8dc5e_row4_col11, #T_8dc5e_row4_col12, #T_8dc5e_row4_col13, #T_8dc5e_row4_col14, #T_8dc5e_row4_col15, #T_8dc5e_row4_col16, #T_8dc5e_row4_col17, #T_8dc5e_row4_col18, #T_8dc5e_row4_col19, #T_8dc5e_row4_col20, #T_8dc5e_row5_col0, #T_8dc5e_row5_col1, #T_8dc5e_row5_col2, #T_8dc5e_row5_col3, #T_8dc5e_row5_col4, #T_8dc5e_row5_col15, #T_8dc5e_row5_col16, #T_8dc5e_row5_col17, #T_8dc5e_row5_col18, #T_8dc5e_row5_col19, #T_8dc5e_row5_col20, #T_8dc5e_row6_col0, #T_8dc5e_row6_col1, #T_8dc5e_row6_col2, #T_8dc5e_row6_col15, #T_8dc5e_row6_col16, #T_8dc5e_row6_col17, #T_8dc5e_row6_col18, #T_8dc5e_row6_col19, #T_8dc5e_row6_col20, #T_8dc5e_row7_col0, #T_8dc5e_row7_col15, #T_8dc5e_row7_col16, #T_8dc5e_row7_col17, #T_8dc5e_row7_col18, #T_8dc5e_row7_col19, #T_8dc5e_row7_col20, #T_8dc5e_row8_col0, #T_8dc5e_row8_col6, #T_8dc5e_row8_col7, #T_8dc5e_row8_col8, #T_8dc5e_row8_col9, #T_8dc5e_row8_col10, #T_8dc5e_row8_col15, #T_8dc5e_row8_col16, #T_8dc5e_row8_col17, #T_8dc5e_row8_col18, #T_8dc5e_row8_col19, #T_8dc5e_row8_col20, #T_8dc5e_row9_col0, #T_8dc5e_row9_col5, #T_8dc5e_row9_col6, #T_8dc5e_row9_col7, #T_8dc5e_row9_col8, #T_8dc5e_row9_col9, #T_8dc5e_row9_col15, #T_8dc5e_row9_col16, #T_8dc5e_row9_col17, #T_8dc5e_row9_col18, #T_8dc5e_row9_col19, #T_8dc5e_row9_col20, #T_8dc5e_row10_col0, #T_8dc5e_row10_col1, #T_8dc5e_row10_col2, #T_8dc5e_row10_col3, #T_8dc5e_row10_col4, #T_8dc5e_row10_col5, #T_8dc5e_row10_col6, #T_8dc5e_row10_col7, #T_8dc5e_row10_col8, #T_8dc5e_row10_col9, #T_8dc5e_row10_col14, #T_8dc5e_row10_col15, #T_8dc5e_row10_col16, #T_8dc5e_row10_col17, #T_8dc5e_row10_col18, #T_8dc5e_row10_col19, #T_8dc5e_row10_col20, #T_8dc5e_row11_col0, #T_8dc5e_row11_col1, #T_8dc5e_row11_col2, #T_8dc5e_row11_col3, #T_8dc5e_row11_col4, #T_8dc5e_row11_col5, #T_8dc5e_row11_col6, #T_8dc5e_row11_col13, #T_8dc5e_row11_col14, #T_8dc5e_row11_col15, #T_8dc5e_row11_col16, #T_8dc5e_row11_col17, #T_8dc5e_row11_col18, #T_8dc5e_row11_col19, #T_8dc5e_row11_col20, #T_8dc5e_row12_col0, #T_8dc5e_row12_col1, #T_8dc5e_row12_col2, #T_8dc5e_row12_col3, #T_8dc5e_row12_col4, #T_8dc5e_row12_col13, #T_8dc5e_row12_col14, #T_8dc5e_row12_col15, #T_8dc5e_row12_col16, #T_8dc5e_row12_col17, #T_8dc5e_row12_col18, #T_8dc5e_row12_col19, #T_8dc5e_row12_col20, #T_8dc5e_row13_col0, #T_8dc5e_row13_col1, #T_8dc5e_row13_col2, #T_8dc5e_row13_col3, #T_8dc5e_row13_col4, #T_8dc5e_row13_col16, #T_8dc5e_row13_col17, #T_8dc5e_row13_col18, #T_8dc5e_row13_col19, #T_8dc5e_row13_col20, #T_8dc5e_row14_col0, #T_8dc5e_row14_col1, #T_8dc5e_row14_col2, #T_8dc5e_row14_col3, #T_8dc5e_row14_col4, #T_8dc5e_row14_col5, #T_8dc5e_row14_col6, #T_8dc5e_row14_col17, #T_8dc5e_row14_col18, #T_8dc5e_row14_col19, #T_8dc5e_row14_col20, #T_8dc5e_row15_col0, #T_8dc5e_row15_col1, #T_8dc5e_row15_col2, #T_8dc5e_row15_col3, #T_8dc5e_row15_col4, #T_8dc5e_row15_col5, #T_8dc5e_row15_col6, #T_8dc5e_row15_col7, #T_8dc5e_row15_col8, #T_8dc5e_row15_col9, #T_8dc5e_row15_col17, #T_8dc5e_row15_col18, #T_8dc5e_row15_col19, #T_8dc5e_row15_col20, #T_8dc5e_row16_col0, #T_8dc5e_row16_col1, #T_8dc5e_row16_col2, #T_8dc5e_row16_col3, #T_8dc5e_row16_col4, #T_8dc5e_row16_col5, #T_8dc5e_row16_col6, #T_8dc5e_row16_col7, #T_8dc5e_row16_col8, #T_8dc5e_row16_col9, #T_8dc5e_row16_col10, #T_8dc5e_row16_col11, #T_8dc5e_row16_col12, #T_8dc5e_row16_col17, #T_8dc5e_row16_col18, #T_8dc5e_row16_col19, #T_8dc5e_row16_col20, #T_8dc5e_row17_col0, #T_8dc5e_row17_col1, #T_8dc5e_row17_col2, #T_8dc5e_row17_col3, #T_8dc5e_row17_col4, #T_8dc5e_row17_col5, #T_8dc5e_row17_col6, #T_8dc5e_row17_col7, #T_8dc5e_row17_col8, #T_8dc5e_row17_col9, #T_8dc5e_row17_col10, #T_8dc5e_row17_col11, #T_8dc5e_row17_col12, #T_8dc5e_row17_col17, #T_8dc5e_row17_col18, #T_8dc5e_row17_col19, #T_8dc5e_row17_col20, #T_8dc5e_row18_col0, #T_8dc5e_row18_col1, #T_8dc5e_row18_col2, #T_8dc5e_row18_col3, #T_8dc5e_row18_col4, #T_8dc5e_row18_col5, #T_8dc5e_row18_col6, #T_8dc5e_row18_col7, #T_8dc5e_row18_col8, #T_8dc5e_row18_col9, #T_8dc5e_row18_col10, #T_8dc5e_row18_col11, #T_8dc5e_row18_col17, #T_8dc5e_row18_col18, #T_8dc5e_row18_col19, #T_8dc5e_row18_col20, #T_8dc5e_row19_col0, #T_8dc5e_row19_col1, #T_8dc5e_row19_col2, #T_8dc5e_row19_col3, #T_8dc5e_row19_col4, #T_8dc5e_row19_col5, #T_8dc5e_row19_col6, #T_8dc5e_row19_col7, #T_8dc5e_row19_col8, #T_8dc5e_row19_col9, #T_8dc5e_row19_col10, #T_8dc5e_row19_col17, #T_8dc5e_row19_col18, #T_8dc5e_row19_col19, #T_8dc5e_row19_col20 {\n",
       "  font-size: 6pt;\n",
       "  background-color: #ffffff;\n",
       "  color: #000000;\n",
       "}\n",
       "#T_8dc5e_row5_col5 {\n",
       "  font-size: 6pt;\n",
       "  background-color: #efefef;\n",
       "  color: #000000;\n",
       "}\n",
       "#T_8dc5e_row5_col6, #T_8dc5e_row5_col13 {\n",
       "  font-size: 6pt;\n",
       "  background-color: #7c7c7c;\n",
       "  color: #f1f1f1;\n",
       "}\n",
       "#T_8dc5e_row5_col7 {\n",
       "  font-size: 6pt;\n",
       "  background-color: #4a4a4a;\n",
       "  color: #f1f1f1;\n",
       "}\n",
       "#T_8dc5e_row5_col8, #T_8dc5e_row5_col9, #T_8dc5e_row5_col10, #T_8dc5e_row6_col5, #T_8dc5e_row6_col6, #T_8dc5e_row6_col7, #T_8dc5e_row6_col11, #T_8dc5e_row6_col12, #T_8dc5e_row6_col13, #T_8dc5e_row7_col4, #T_8dc5e_row7_col12, #T_8dc5e_row7_col13, #T_8dc5e_row8_col1, #T_8dc5e_row8_col2, #T_8dc5e_row8_col3, #T_8dc5e_row8_col12, #T_8dc5e_row8_col13, #T_8dc5e_row9_col12, #T_8dc5e_row10_col11, #T_8dc5e_row13_col11, #T_8dc5e_row14_col11, #T_8dc5e_row14_col12, #T_8dc5e_row14_col13, #T_8dc5e_row14_col14, #T_8dc5e_row15_col13, #T_8dc5e_row15_col14, #T_8dc5e_row15_col15, #T_8dc5e_row16_col14, #T_8dc5e_row16_col15, #T_8dc5e_row16_col16, #T_8dc5e_row17_col14, #T_8dc5e_row17_col15, #T_8dc5e_row18_col14, #T_8dc5e_row18_col15, #T_8dc5e_row19_col13, #T_8dc5e_row19_col14 {\n",
       "  font-size: 6pt;\n",
       "  background-color: #000000;\n",
       "  color: #f1f1f1;\n",
       "}\n",
       "#T_8dc5e_row5_col11 {\n",
       "  font-size: 6pt;\n",
       "  background-color: #606060;\n",
       "  color: #f1f1f1;\n",
       "}\n",
       "#T_8dc5e_row5_col12 {\n",
       "  font-size: 6pt;\n",
       "  background-color: #4d4d4d;\n",
       "  color: #f1f1f1;\n",
       "}\n",
       "#T_8dc5e_row5_col14 {\n",
       "  font-size: 6pt;\n",
       "  background-color: #bbbbbb;\n",
       "  color: #000000;\n",
       "}\n",
       "#T_8dc5e_row6_col3 {\n",
       "  font-size: 6pt;\n",
       "  background-color: #e4e4e4;\n",
       "  color: #000000;\n",
       "}\n",
       "#T_8dc5e_row6_col4, #T_8dc5e_row12_col6 {\n",
       "  font-size: 6pt;\n",
       "  background-color: #6b6b6b;\n",
       "  color: #f1f1f1;\n",
       "}\n",
       "#T_8dc5e_row6_col8, #T_8dc5e_row6_col14, #T_8dc5e_row7_col14 {\n",
       "  font-size: 6pt;\n",
       "  background-color: #171717;\n",
       "  color: #f1f1f1;\n",
       "}\n",
       "#T_8dc5e_row6_col9, #T_8dc5e_row7_col11 {\n",
       "  font-size: 6pt;\n",
       "  background-color: #4b4b4b;\n",
       "  color: #f1f1f1;\n",
       "}\n",
       "#T_8dc5e_row6_col10, #T_8dc5e_row11_col10, #T_8dc5e_row12_col8, #T_8dc5e_row12_col10, #T_8dc5e_row13_col8, #T_8dc5e_row13_col10 {\n",
       "  font-size: 6pt;\n",
       "  background-color: #010101;\n",
       "  color: #f1f1f1;\n",
       "}\n",
       "#T_8dc5e_row7_col1 {\n",
       "  font-size: 6pt;\n",
       "  background-color: #272727;\n",
       "  color: #f1f1f1;\n",
       "}\n",
       "#T_8dc5e_row7_col2 {\n",
       "  font-size: 6pt;\n",
       "  background-color: #0a0a0a;\n",
       "  color: #f1f1f1;\n",
       "}\n",
       "#T_8dc5e_row7_col3, #T_8dc5e_row18_col13 {\n",
       "  font-size: 6pt;\n",
       "  background-color: #050505;\n",
       "  color: #f1f1f1;\n",
       "}\n",
       "#T_8dc5e_row7_col5 {\n",
       "  font-size: 6pt;\n",
       "  background-color: #333333;\n",
       "  color: #f1f1f1;\n",
       "}\n",
       "#T_8dc5e_row7_col6 {\n",
       "  font-size: 6pt;\n",
       "  background-color: #e6e6e6;\n",
       "  color: #000000;\n",
       "}\n",
       "#T_8dc5e_row7_col7, #T_8dc5e_row7_col10 {\n",
       "  font-size: 6pt;\n",
       "  background-color: #fafafa;\n",
       "  color: #000000;\n",
       "}\n",
       "#T_8dc5e_row7_col8, #T_8dc5e_row15_col10 {\n",
       "  font-size: 6pt;\n",
       "  background-color: #fbfbfb;\n",
       "  color: #000000;\n",
       "}\n",
       "#T_8dc5e_row7_col9 {\n",
       "  font-size: 6pt;\n",
       "  background-color: #fdfdfd;\n",
       "  color: #000000;\n",
       "}\n",
       "#T_8dc5e_row8_col4 {\n",
       "  font-size: 6pt;\n",
       "  background-color: #1b1b1b;\n",
       "  color: #f1f1f1;\n",
       "}\n",
       "#T_8dc5e_row8_col5 {\n",
       "  font-size: 6pt;\n",
       "  background-color: #e0e0e0;\n",
       "  color: #000000;\n",
       "}\n",
       "#T_8dc5e_row8_col11 {\n",
       "  font-size: 6pt;\n",
       "  background-color: #4e4e4e;\n",
       "  color: #f1f1f1;\n",
       "}\n",
       "#T_8dc5e_row8_col14 {\n",
       "  font-size: 6pt;\n",
       "  background-color: #767676;\n",
       "  color: #f1f1f1;\n",
       "}\n",
       "#T_8dc5e_row9_col1 {\n",
       "  font-size: 6pt;\n",
       "  background-color: #fcfcfc;\n",
       "  color: #000000;\n",
       "}\n",
       "#T_8dc5e_row9_col2, #T_8dc5e_row9_col3, #T_8dc5e_row19_col16 {\n",
       "  font-size: 6pt;\n",
       "  background-color: #f6f6f6;\n",
       "  color: #000000;\n",
       "}\n",
       "#T_8dc5e_row9_col4, #T_8dc5e_row11_col7 {\n",
       "  font-size: 6pt;\n",
       "  background-color: #f8f8f8;\n",
       "  color: #000000;\n",
       "}\n",
       "#T_8dc5e_row9_col10, #T_8dc5e_row14_col7 {\n",
       "  font-size: 6pt;\n",
       "  background-color: #e8e8e8;\n",
       "  color: #000000;\n",
       "}\n",
       "#T_8dc5e_row9_col11 {\n",
       "  font-size: 6pt;\n",
       "  background-color: #222222;\n",
       "  color: #f1f1f1;\n",
       "}\n",
       "#T_8dc5e_row9_col13, #T_8dc5e_row10_col12 {\n",
       "  font-size: 6pt;\n",
       "  background-color: #090909;\n",
       "  color: #f1f1f1;\n",
       "}\n",
       "#T_8dc5e_row9_col14 {\n",
       "  font-size: 6pt;\n",
       "  background-color: #d0d0d0;\n",
       "  color: #000000;\n",
       "}\n",
       "#T_8dc5e_row10_col10, #T_8dc5e_row11_col11, #T_8dc5e_row13_col6 {\n",
       "  font-size: 6pt;\n",
       "  background-color: #060606;\n",
       "  color: #f1f1f1;\n",
       "}\n",
       "#T_8dc5e_row10_col13 {\n",
       "  font-size: 6pt;\n",
       "  background-color: #979797;\n",
       "  color: #f1f1f1;\n",
       "}\n",
       "#T_8dc5e_row11_col8 {\n",
       "  font-size: 6pt;\n",
       "  background-color: #b6b6b6;\n",
       "  color: #000000;\n",
       "}\n",
       "#T_8dc5e_row11_col9 {\n",
       "  font-size: 6pt;\n",
       "  background-color: #252525;\n",
       "  color: #f1f1f1;\n",
       "}\n",
       "#T_8dc5e_row11_col12 {\n",
       "  font-size: 6pt;\n",
       "  background-color: #999999;\n",
       "  color: #f1f1f1;\n",
       "}\n",
       "#T_8dc5e_row12_col5 {\n",
       "  font-size: 6pt;\n",
       "  background-color: #f9f9f9;\n",
       "  color: #000000;\n",
       "}\n",
       "#T_8dc5e_row12_col7 {\n",
       "  font-size: 6pt;\n",
       "  background-color: #101010;\n",
       "  color: #f1f1f1;\n",
       "}\n",
       "#T_8dc5e_row12_col9, #T_8dc5e_row13_col9 {\n",
       "  font-size: 6pt;\n",
       "  background-color: #020202;\n",
       "  color: #f1f1f1;\n",
       "}\n",
       "#T_8dc5e_row12_col11, #T_8dc5e_row14_col15 {\n",
       "  font-size: 6pt;\n",
       "  background-color: #545454;\n",
       "  color: #f1f1f1;\n",
       "}\n",
       "#T_8dc5e_row12_col12 {\n",
       "  font-size: 6pt;\n",
       "  background-color: #f1f1f1;\n",
       "  color: #000000;\n",
       "}\n",
       "#T_8dc5e_row13_col5 {\n",
       "  font-size: 6pt;\n",
       "  background-color: #f7f7f7;\n",
       "  color: #000000;\n",
       "}\n",
       "#T_8dc5e_row13_col7 {\n",
       "  font-size: 6pt;\n",
       "  background-color: #030303;\n",
       "  color: #f1f1f1;\n",
       "}\n",
       "#T_8dc5e_row13_col12 {\n",
       "  font-size: 6pt;\n",
       "  background-color: #181818;\n",
       "  color: #f1f1f1;\n",
       "}\n",
       "#T_8dc5e_row13_col13 {\n",
       "  font-size: 6pt;\n",
       "  background-color: #303030;\n",
       "  color: #f1f1f1;\n",
       "}\n",
       "#T_8dc5e_row13_col14 {\n",
       "  font-size: 6pt;\n",
       "  background-color: #a9a9a9;\n",
       "  color: #f1f1f1;\n",
       "}\n",
       "#T_8dc5e_row13_col15 {\n",
       "  font-size: 6pt;\n",
       "  background-color: #fefefe;\n",
       "  color: #000000;\n",
       "}\n",
       "#T_8dc5e_row14_col8, #T_8dc5e_row14_col9 {\n",
       "  font-size: 6pt;\n",
       "  background-color: #bababa;\n",
       "  color: #000000;\n",
       "}\n",
       "#T_8dc5e_row14_col10 {\n",
       "  font-size: 6pt;\n",
       "  background-color: #393939;\n",
       "  color: #f1f1f1;\n",
       "}\n",
       "#T_8dc5e_row14_col16 {\n",
       "  font-size: 6pt;\n",
       "  background-color: #eaeaea;\n",
       "  color: #000000;\n",
       "}\n",
       "#T_8dc5e_row15_col11 {\n",
       "  font-size: 6pt;\n",
       "  background-color: #e2e2e2;\n",
       "  color: #000000;\n",
       "}\n",
       "#T_8dc5e_row15_col12 {\n",
       "  font-size: 6pt;\n",
       "  background-color: #9f9f9f;\n",
       "  color: #f1f1f1;\n",
       "}\n",
       "#T_8dc5e_row15_col16 {\n",
       "  font-size: 6pt;\n",
       "  background-color: #898989;\n",
       "  color: #f1f1f1;\n",
       "}\n",
       "#T_8dc5e_row16_col13 {\n",
       "  font-size: 6pt;\n",
       "  background-color: #585858;\n",
       "  color: #f1f1f1;\n",
       "}\n",
       "#T_8dc5e_row17_col13 {\n",
       "  font-size: 6pt;\n",
       "  background-color: #5a5a5a;\n",
       "  color: #f1f1f1;\n",
       "}\n",
       "#T_8dc5e_row17_col16 {\n",
       "  font-size: 6pt;\n",
       "  background-color: #525252;\n",
       "  color: #f1f1f1;\n",
       "}\n",
       "#T_8dc5e_row18_col12 {\n",
       "  font-size: 6pt;\n",
       "  background-color: #c5c5c5;\n",
       "  color: #000000;\n",
       "}\n",
       "#T_8dc5e_row18_col16 {\n",
       "  font-size: 6pt;\n",
       "  background-color: #d7d7d7;\n",
       "  color: #000000;\n",
       "}\n",
       "#T_8dc5e_row19_col11 {\n",
       "  font-size: 6pt;\n",
       "  background-color: #dcdcdc;\n",
       "  color: #000000;\n",
       "}\n",
       "#T_8dc5e_row19_col12 {\n",
       "  font-size: 6pt;\n",
       "  background-color: #2f2f2f;\n",
       "  color: #f1f1f1;\n",
       "}\n",
       "#T_8dc5e_row19_col15 {\n",
       "  font-size: 6pt;\n",
       "  background-color: #636363;\n",
       "  color: #f1f1f1;\n",
       "}\n",
       "</style>\n",
       "<table id=\"T_8dc5e\">\n",
       "  <thead>\n",
       "    <tr>\n",
       "      <th class=\"blank level0\" >&nbsp;</th>\n",
       "      <th id=\"T_8dc5e_level0_col0\" class=\"col_heading level0 col0\" >0</th>\n",
       "      <th id=\"T_8dc5e_level0_col1\" class=\"col_heading level0 col1\" >1</th>\n",
       "      <th id=\"T_8dc5e_level0_col2\" class=\"col_heading level0 col2\" >2</th>\n",
       "      <th id=\"T_8dc5e_level0_col3\" class=\"col_heading level0 col3\" >3</th>\n",
       "      <th id=\"T_8dc5e_level0_col4\" class=\"col_heading level0 col4\" >4</th>\n",
       "      <th id=\"T_8dc5e_level0_col5\" class=\"col_heading level0 col5\" >5</th>\n",
       "      <th id=\"T_8dc5e_level0_col6\" class=\"col_heading level0 col6\" >6</th>\n",
       "      <th id=\"T_8dc5e_level0_col7\" class=\"col_heading level0 col7\" >7</th>\n",
       "      <th id=\"T_8dc5e_level0_col8\" class=\"col_heading level0 col8\" >8</th>\n",
       "      <th id=\"T_8dc5e_level0_col9\" class=\"col_heading level0 col9\" >9</th>\n",
       "      <th id=\"T_8dc5e_level0_col10\" class=\"col_heading level0 col10\" >10</th>\n",
       "      <th id=\"T_8dc5e_level0_col11\" class=\"col_heading level0 col11\" >11</th>\n",
       "      <th id=\"T_8dc5e_level0_col12\" class=\"col_heading level0 col12\" >12</th>\n",
       "      <th id=\"T_8dc5e_level0_col13\" class=\"col_heading level0 col13\" >13</th>\n",
       "      <th id=\"T_8dc5e_level0_col14\" class=\"col_heading level0 col14\" >14</th>\n",
       "      <th id=\"T_8dc5e_level0_col15\" class=\"col_heading level0 col15\" >15</th>\n",
       "      <th id=\"T_8dc5e_level0_col16\" class=\"col_heading level0 col16\" >16</th>\n",
       "      <th id=\"T_8dc5e_level0_col17\" class=\"col_heading level0 col17\" >17</th>\n",
       "      <th id=\"T_8dc5e_level0_col18\" class=\"col_heading level0 col18\" >18</th>\n",
       "      <th id=\"T_8dc5e_level0_col19\" class=\"col_heading level0 col19\" >19</th>\n",
       "      <th id=\"T_8dc5e_level0_col20\" class=\"col_heading level0 col20\" >20</th>\n",
       "    </tr>\n",
       "  </thead>\n",
       "  <tbody>\n",
       "    <tr>\n",
       "      <th id=\"T_8dc5e_level0_row0\" class=\"row_heading level0 row0\" >0</th>\n",
       "      <td id=\"T_8dc5e_row0_col0\" class=\"data row0 col0\" >0</td>\n",
       "      <td id=\"T_8dc5e_row0_col1\" class=\"data row0 col1\" >0</td>\n",
       "      <td id=\"T_8dc5e_row0_col2\" class=\"data row0 col2\" >0</td>\n",
       "      <td id=\"T_8dc5e_row0_col3\" class=\"data row0 col3\" >0</td>\n",
       "      <td id=\"T_8dc5e_row0_col4\" class=\"data row0 col4\" >0</td>\n",
       "      <td id=\"T_8dc5e_row0_col5\" class=\"data row0 col5\" >0</td>\n",
       "      <td id=\"T_8dc5e_row0_col6\" class=\"data row0 col6\" >0</td>\n",
       "      <td id=\"T_8dc5e_row0_col7\" class=\"data row0 col7\" >0</td>\n",
       "      <td id=\"T_8dc5e_row0_col8\" class=\"data row0 col8\" >0</td>\n",
       "      <td id=\"T_8dc5e_row0_col9\" class=\"data row0 col9\" >0</td>\n",
       "      <td id=\"T_8dc5e_row0_col10\" class=\"data row0 col10\" >0</td>\n",
       "      <td id=\"T_8dc5e_row0_col11\" class=\"data row0 col11\" >0</td>\n",
       "      <td id=\"T_8dc5e_row0_col12\" class=\"data row0 col12\" >0</td>\n",
       "      <td id=\"T_8dc5e_row0_col13\" class=\"data row0 col13\" >0</td>\n",
       "      <td id=\"T_8dc5e_row0_col14\" class=\"data row0 col14\" >0</td>\n",
       "      <td id=\"T_8dc5e_row0_col15\" class=\"data row0 col15\" >0</td>\n",
       "      <td id=\"T_8dc5e_row0_col16\" class=\"data row0 col16\" >0</td>\n",
       "      <td id=\"T_8dc5e_row0_col17\" class=\"data row0 col17\" >0</td>\n",
       "      <td id=\"T_8dc5e_row0_col18\" class=\"data row0 col18\" >0</td>\n",
       "      <td id=\"T_8dc5e_row0_col19\" class=\"data row0 col19\" >0</td>\n",
       "      <td id=\"T_8dc5e_row0_col20\" class=\"data row0 col20\" >0</td>\n",
       "    </tr>\n",
       "    <tr>\n",
       "      <th id=\"T_8dc5e_level0_row1\" class=\"row_heading level0 row1\" >1</th>\n",
       "      <td id=\"T_8dc5e_row1_col0\" class=\"data row1 col0\" >0</td>\n",
       "      <td id=\"T_8dc5e_row1_col1\" class=\"data row1 col1\" >0</td>\n",
       "      <td id=\"T_8dc5e_row1_col2\" class=\"data row1 col2\" >0</td>\n",
       "      <td id=\"T_8dc5e_row1_col3\" class=\"data row1 col3\" >0</td>\n",
       "      <td id=\"T_8dc5e_row1_col4\" class=\"data row1 col4\" >0</td>\n",
       "      <td id=\"T_8dc5e_row1_col5\" class=\"data row1 col5\" >0</td>\n",
       "      <td id=\"T_8dc5e_row1_col6\" class=\"data row1 col6\" >0</td>\n",
       "      <td id=\"T_8dc5e_row1_col7\" class=\"data row1 col7\" >0</td>\n",
       "      <td id=\"T_8dc5e_row1_col8\" class=\"data row1 col8\" >0</td>\n",
       "      <td id=\"T_8dc5e_row1_col9\" class=\"data row1 col9\" >0</td>\n",
       "      <td id=\"T_8dc5e_row1_col10\" class=\"data row1 col10\" >0</td>\n",
       "      <td id=\"T_8dc5e_row1_col11\" class=\"data row1 col11\" >0</td>\n",
       "      <td id=\"T_8dc5e_row1_col12\" class=\"data row1 col12\" >0</td>\n",
       "      <td id=\"T_8dc5e_row1_col13\" class=\"data row1 col13\" >0</td>\n",
       "      <td id=\"T_8dc5e_row1_col14\" class=\"data row1 col14\" >0</td>\n",
       "      <td id=\"T_8dc5e_row1_col15\" class=\"data row1 col15\" >0</td>\n",
       "      <td id=\"T_8dc5e_row1_col16\" class=\"data row1 col16\" >0</td>\n",
       "      <td id=\"T_8dc5e_row1_col17\" class=\"data row1 col17\" >0</td>\n",
       "      <td id=\"T_8dc5e_row1_col18\" class=\"data row1 col18\" >0</td>\n",
       "      <td id=\"T_8dc5e_row1_col19\" class=\"data row1 col19\" >0</td>\n",
       "      <td id=\"T_8dc5e_row1_col20\" class=\"data row1 col20\" >0</td>\n",
       "    </tr>\n",
       "    <tr>\n",
       "      <th id=\"T_8dc5e_level0_row2\" class=\"row_heading level0 row2\" >2</th>\n",
       "      <td id=\"T_8dc5e_row2_col0\" class=\"data row2 col0\" >0</td>\n",
       "      <td id=\"T_8dc5e_row2_col1\" class=\"data row2 col1\" >0</td>\n",
       "      <td id=\"T_8dc5e_row2_col2\" class=\"data row2 col2\" >0</td>\n",
       "      <td id=\"T_8dc5e_row2_col3\" class=\"data row2 col3\" >0</td>\n",
       "      <td id=\"T_8dc5e_row2_col4\" class=\"data row2 col4\" >0</td>\n",
       "      <td id=\"T_8dc5e_row2_col5\" class=\"data row2 col5\" >0</td>\n",
       "      <td id=\"T_8dc5e_row2_col6\" class=\"data row2 col6\" >0</td>\n",
       "      <td id=\"T_8dc5e_row2_col7\" class=\"data row2 col7\" >0</td>\n",
       "      <td id=\"T_8dc5e_row2_col8\" class=\"data row2 col8\" >0</td>\n",
       "      <td id=\"T_8dc5e_row2_col9\" class=\"data row2 col9\" >0</td>\n",
       "      <td id=\"T_8dc5e_row2_col10\" class=\"data row2 col10\" >0</td>\n",
       "      <td id=\"T_8dc5e_row2_col11\" class=\"data row2 col11\" >0</td>\n",
       "      <td id=\"T_8dc5e_row2_col12\" class=\"data row2 col12\" >0</td>\n",
       "      <td id=\"T_8dc5e_row2_col13\" class=\"data row2 col13\" >0</td>\n",
       "      <td id=\"T_8dc5e_row2_col14\" class=\"data row2 col14\" >0</td>\n",
       "      <td id=\"T_8dc5e_row2_col15\" class=\"data row2 col15\" >0</td>\n",
       "      <td id=\"T_8dc5e_row2_col16\" class=\"data row2 col16\" >0</td>\n",
       "      <td id=\"T_8dc5e_row2_col17\" class=\"data row2 col17\" >0</td>\n",
       "      <td id=\"T_8dc5e_row2_col18\" class=\"data row2 col18\" >0</td>\n",
       "      <td id=\"T_8dc5e_row2_col19\" class=\"data row2 col19\" >0</td>\n",
       "      <td id=\"T_8dc5e_row2_col20\" class=\"data row2 col20\" >0</td>\n",
       "    </tr>\n",
       "    <tr>\n",
       "      <th id=\"T_8dc5e_level0_row3\" class=\"row_heading level0 row3\" >3</th>\n",
       "      <td id=\"T_8dc5e_row3_col0\" class=\"data row3 col0\" >0</td>\n",
       "      <td id=\"T_8dc5e_row3_col1\" class=\"data row3 col1\" >0</td>\n",
       "      <td id=\"T_8dc5e_row3_col2\" class=\"data row3 col2\" >0</td>\n",
       "      <td id=\"T_8dc5e_row3_col3\" class=\"data row3 col3\" >0</td>\n",
       "      <td id=\"T_8dc5e_row3_col4\" class=\"data row3 col4\" >0</td>\n",
       "      <td id=\"T_8dc5e_row3_col5\" class=\"data row3 col5\" >0</td>\n",
       "      <td id=\"T_8dc5e_row3_col6\" class=\"data row3 col6\" >0</td>\n",
       "      <td id=\"T_8dc5e_row3_col7\" class=\"data row3 col7\" >0</td>\n",
       "      <td id=\"T_8dc5e_row3_col8\" class=\"data row3 col8\" >0</td>\n",
       "      <td id=\"T_8dc5e_row3_col9\" class=\"data row3 col9\" >0</td>\n",
       "      <td id=\"T_8dc5e_row3_col10\" class=\"data row3 col10\" >0</td>\n",
       "      <td id=\"T_8dc5e_row3_col11\" class=\"data row3 col11\" >0</td>\n",
       "      <td id=\"T_8dc5e_row3_col12\" class=\"data row3 col12\" >0</td>\n",
       "      <td id=\"T_8dc5e_row3_col13\" class=\"data row3 col13\" >0</td>\n",
       "      <td id=\"T_8dc5e_row3_col14\" class=\"data row3 col14\" >0</td>\n",
       "      <td id=\"T_8dc5e_row3_col15\" class=\"data row3 col15\" >0</td>\n",
       "      <td id=\"T_8dc5e_row3_col16\" class=\"data row3 col16\" >0</td>\n",
       "      <td id=\"T_8dc5e_row3_col17\" class=\"data row3 col17\" >0</td>\n",
       "      <td id=\"T_8dc5e_row3_col18\" class=\"data row3 col18\" >0</td>\n",
       "      <td id=\"T_8dc5e_row3_col19\" class=\"data row3 col19\" >0</td>\n",
       "      <td id=\"T_8dc5e_row3_col20\" class=\"data row3 col20\" >0</td>\n",
       "    </tr>\n",
       "    <tr>\n",
       "      <th id=\"T_8dc5e_level0_row4\" class=\"row_heading level0 row4\" >4</th>\n",
       "      <td id=\"T_8dc5e_row4_col0\" class=\"data row4 col0\" >0</td>\n",
       "      <td id=\"T_8dc5e_row4_col1\" class=\"data row4 col1\" >0</td>\n",
       "      <td id=\"T_8dc5e_row4_col2\" class=\"data row4 col2\" >0</td>\n",
       "      <td id=\"T_8dc5e_row4_col3\" class=\"data row4 col3\" >0</td>\n",
       "      <td id=\"T_8dc5e_row4_col4\" class=\"data row4 col4\" >0</td>\n",
       "      <td id=\"T_8dc5e_row4_col5\" class=\"data row4 col5\" >0</td>\n",
       "      <td id=\"T_8dc5e_row4_col6\" class=\"data row4 col6\" >0</td>\n",
       "      <td id=\"T_8dc5e_row4_col7\" class=\"data row4 col7\" >0</td>\n",
       "      <td id=\"T_8dc5e_row4_col8\" class=\"data row4 col8\" >0</td>\n",
       "      <td id=\"T_8dc5e_row4_col9\" class=\"data row4 col9\" >0</td>\n",
       "      <td id=\"T_8dc5e_row4_col10\" class=\"data row4 col10\" >0</td>\n",
       "      <td id=\"T_8dc5e_row4_col11\" class=\"data row4 col11\" >0</td>\n",
       "      <td id=\"T_8dc5e_row4_col12\" class=\"data row4 col12\" >0</td>\n",
       "      <td id=\"T_8dc5e_row4_col13\" class=\"data row4 col13\" >0</td>\n",
       "      <td id=\"T_8dc5e_row4_col14\" class=\"data row4 col14\" >0</td>\n",
       "      <td id=\"T_8dc5e_row4_col15\" class=\"data row4 col15\" >0</td>\n",
       "      <td id=\"T_8dc5e_row4_col16\" class=\"data row4 col16\" >0</td>\n",
       "      <td id=\"T_8dc5e_row4_col17\" class=\"data row4 col17\" >0</td>\n",
       "      <td id=\"T_8dc5e_row4_col18\" class=\"data row4 col18\" >0</td>\n",
       "      <td id=\"T_8dc5e_row4_col19\" class=\"data row4 col19\" >0</td>\n",
       "      <td id=\"T_8dc5e_row4_col20\" class=\"data row4 col20\" >0</td>\n",
       "    </tr>\n",
       "    <tr>\n",
       "      <th id=\"T_8dc5e_level0_row5\" class=\"row_heading level0 row5\" >5</th>\n",
       "      <td id=\"T_8dc5e_row5_col0\" class=\"data row5 col0\" >0</td>\n",
       "      <td id=\"T_8dc5e_row5_col1\" class=\"data row5 col1\" >0</td>\n",
       "      <td id=\"T_8dc5e_row5_col2\" class=\"data row5 col2\" >0</td>\n",
       "      <td id=\"T_8dc5e_row5_col3\" class=\"data row5 col3\" >0</td>\n",
       "      <td id=\"T_8dc5e_row5_col4\" class=\"data row5 col4\" >0</td>\n",
       "      <td id=\"T_8dc5e_row5_col5\" class=\"data row5 col5\" >29</td>\n",
       "      <td id=\"T_8dc5e_row5_col6\" class=\"data row5 col6\" >150</td>\n",
       "      <td id=\"T_8dc5e_row5_col7\" class=\"data row5 col7\" >195</td>\n",
       "      <td id=\"T_8dc5e_row5_col8\" class=\"data row5 col8\" >254</td>\n",
       "      <td id=\"T_8dc5e_row5_col9\" class=\"data row5 col9\" >255</td>\n",
       "      <td id=\"T_8dc5e_row5_col10\" class=\"data row5 col10\" >254</td>\n",
       "      <td id=\"T_8dc5e_row5_col11\" class=\"data row5 col11\" >176</td>\n",
       "      <td id=\"T_8dc5e_row5_col12\" class=\"data row5 col12\" >193</td>\n",
       "      <td id=\"T_8dc5e_row5_col13\" class=\"data row5 col13\" >150</td>\n",
       "      <td id=\"T_8dc5e_row5_col14\" class=\"data row5 col14\" >96</td>\n",
       "      <td id=\"T_8dc5e_row5_col15\" class=\"data row5 col15\" >0</td>\n",
       "      <td id=\"T_8dc5e_row5_col16\" class=\"data row5 col16\" >0</td>\n",
       "      <td id=\"T_8dc5e_row5_col17\" class=\"data row5 col17\" >0</td>\n",
       "      <td id=\"T_8dc5e_row5_col18\" class=\"data row5 col18\" >0</td>\n",
       "      <td id=\"T_8dc5e_row5_col19\" class=\"data row5 col19\" >0</td>\n",
       "      <td id=\"T_8dc5e_row5_col20\" class=\"data row5 col20\" >0</td>\n",
       "    </tr>\n",
       "    <tr>\n",
       "      <th id=\"T_8dc5e_level0_row6\" class=\"row_heading level0 row6\" >6</th>\n",
       "      <td id=\"T_8dc5e_row6_col0\" class=\"data row6 col0\" >0</td>\n",
       "      <td id=\"T_8dc5e_row6_col1\" class=\"data row6 col1\" >0</td>\n",
       "      <td id=\"T_8dc5e_row6_col2\" class=\"data row6 col2\" >0</td>\n",
       "      <td id=\"T_8dc5e_row6_col3\" class=\"data row6 col3\" >48</td>\n",
       "      <td id=\"T_8dc5e_row6_col4\" class=\"data row6 col4\" >166</td>\n",
       "      <td id=\"T_8dc5e_row6_col5\" class=\"data row6 col5\" >224</td>\n",
       "      <td id=\"T_8dc5e_row6_col6\" class=\"data row6 col6\" >253</td>\n",
       "      <td id=\"T_8dc5e_row6_col7\" class=\"data row6 col7\" >253</td>\n",
       "      <td id=\"T_8dc5e_row6_col8\" class=\"data row6 col8\" >234</td>\n",
       "      <td id=\"T_8dc5e_row6_col9\" class=\"data row6 col9\" >196</td>\n",
       "      <td id=\"T_8dc5e_row6_col10\" class=\"data row6 col10\" >253</td>\n",
       "      <td id=\"T_8dc5e_row6_col11\" class=\"data row6 col11\" >253</td>\n",
       "      <td id=\"T_8dc5e_row6_col12\" class=\"data row6 col12\" >253</td>\n",
       "      <td id=\"T_8dc5e_row6_col13\" class=\"data row6 col13\" >253</td>\n",
       "      <td id=\"T_8dc5e_row6_col14\" class=\"data row6 col14\" >233</td>\n",
       "      <td id=\"T_8dc5e_row6_col15\" class=\"data row6 col15\" >0</td>\n",
       "      <td id=\"T_8dc5e_row6_col16\" class=\"data row6 col16\" >0</td>\n",
       "      <td id=\"T_8dc5e_row6_col17\" class=\"data row6 col17\" >0</td>\n",
       "      <td id=\"T_8dc5e_row6_col18\" class=\"data row6 col18\" >0</td>\n",
       "      <td id=\"T_8dc5e_row6_col19\" class=\"data row6 col19\" >0</td>\n",
       "      <td id=\"T_8dc5e_row6_col20\" class=\"data row6 col20\" >0</td>\n",
       "    </tr>\n",
       "    <tr>\n",
       "      <th id=\"T_8dc5e_level0_row7\" class=\"row_heading level0 row7\" >7</th>\n",
       "      <td id=\"T_8dc5e_row7_col0\" class=\"data row7 col0\" >0</td>\n",
       "      <td id=\"T_8dc5e_row7_col1\" class=\"data row7 col1\" >93</td>\n",
       "      <td id=\"T_8dc5e_row7_col2\" class=\"data row7 col2\" >244</td>\n",
       "      <td id=\"T_8dc5e_row7_col3\" class=\"data row7 col3\" >249</td>\n",
       "      <td id=\"T_8dc5e_row7_col4\" class=\"data row7 col4\" >253</td>\n",
       "      <td id=\"T_8dc5e_row7_col5\" class=\"data row7 col5\" >187</td>\n",
       "      <td id=\"T_8dc5e_row7_col6\" class=\"data row7 col6\" >46</td>\n",
       "      <td id=\"T_8dc5e_row7_col7\" class=\"data row7 col7\" >10</td>\n",
       "      <td id=\"T_8dc5e_row7_col8\" class=\"data row7 col8\" >8</td>\n",
       "      <td id=\"T_8dc5e_row7_col9\" class=\"data row7 col9\" >4</td>\n",
       "      <td id=\"T_8dc5e_row7_col10\" class=\"data row7 col10\" >10</td>\n",
       "      <td id=\"T_8dc5e_row7_col11\" class=\"data row7 col11\" >194</td>\n",
       "      <td id=\"T_8dc5e_row7_col12\" class=\"data row7 col12\" >253</td>\n",
       "      <td id=\"T_8dc5e_row7_col13\" class=\"data row7 col13\" >253</td>\n",
       "      <td id=\"T_8dc5e_row7_col14\" class=\"data row7 col14\" >233</td>\n",
       "      <td id=\"T_8dc5e_row7_col15\" class=\"data row7 col15\" >0</td>\n",
       "      <td id=\"T_8dc5e_row7_col16\" class=\"data row7 col16\" >0</td>\n",
       "      <td id=\"T_8dc5e_row7_col17\" class=\"data row7 col17\" >0</td>\n",
       "      <td id=\"T_8dc5e_row7_col18\" class=\"data row7 col18\" >0</td>\n",
       "      <td id=\"T_8dc5e_row7_col19\" class=\"data row7 col19\" >0</td>\n",
       "      <td id=\"T_8dc5e_row7_col20\" class=\"data row7 col20\" >0</td>\n",
       "    </tr>\n",
       "    <tr>\n",
       "      <th id=\"T_8dc5e_level0_row8\" class=\"row_heading level0 row8\" >8</th>\n",
       "      <td id=\"T_8dc5e_row8_col0\" class=\"data row8 col0\" >0</td>\n",
       "      <td id=\"T_8dc5e_row8_col1\" class=\"data row8 col1\" >107</td>\n",
       "      <td id=\"T_8dc5e_row8_col2\" class=\"data row8 col2\" >253</td>\n",
       "      <td id=\"T_8dc5e_row8_col3\" class=\"data row8 col3\" >253</td>\n",
       "      <td id=\"T_8dc5e_row8_col4\" class=\"data row8 col4\" >230</td>\n",
       "      <td id=\"T_8dc5e_row8_col5\" class=\"data row8 col5\" >48</td>\n",
       "      <td id=\"T_8dc5e_row8_col6\" class=\"data row8 col6\" >0</td>\n",
       "      <td id=\"T_8dc5e_row8_col7\" class=\"data row8 col7\" >0</td>\n",
       "      <td id=\"T_8dc5e_row8_col8\" class=\"data row8 col8\" >0</td>\n",
       "      <td id=\"T_8dc5e_row8_col9\" class=\"data row8 col9\" >0</td>\n",
       "      <td id=\"T_8dc5e_row8_col10\" class=\"data row8 col10\" >0</td>\n",
       "      <td id=\"T_8dc5e_row8_col11\" class=\"data row8 col11\" >192</td>\n",
       "      <td id=\"T_8dc5e_row8_col12\" class=\"data row8 col12\" >253</td>\n",
       "      <td id=\"T_8dc5e_row8_col13\" class=\"data row8 col13\" >253</td>\n",
       "      <td id=\"T_8dc5e_row8_col14\" class=\"data row8 col14\" >156</td>\n",
       "      <td id=\"T_8dc5e_row8_col15\" class=\"data row8 col15\" >0</td>\n",
       "      <td id=\"T_8dc5e_row8_col16\" class=\"data row8 col16\" >0</td>\n",
       "      <td id=\"T_8dc5e_row8_col17\" class=\"data row8 col17\" >0</td>\n",
       "      <td id=\"T_8dc5e_row8_col18\" class=\"data row8 col18\" >0</td>\n",
       "      <td id=\"T_8dc5e_row8_col19\" class=\"data row8 col19\" >0</td>\n",
       "      <td id=\"T_8dc5e_row8_col20\" class=\"data row8 col20\" >0</td>\n",
       "    </tr>\n",
       "    <tr>\n",
       "      <th id=\"T_8dc5e_level0_row9\" class=\"row_heading level0 row9\" >9</th>\n",
       "      <td id=\"T_8dc5e_row9_col0\" class=\"data row9 col0\" >0</td>\n",
       "      <td id=\"T_8dc5e_row9_col1\" class=\"data row9 col1\" >3</td>\n",
       "      <td id=\"T_8dc5e_row9_col2\" class=\"data row9 col2\" >20</td>\n",
       "      <td id=\"T_8dc5e_row9_col3\" class=\"data row9 col3\" >20</td>\n",
       "      <td id=\"T_8dc5e_row9_col4\" class=\"data row9 col4\" >15</td>\n",
       "      <td id=\"T_8dc5e_row9_col5\" class=\"data row9 col5\" >0</td>\n",
       "      <td id=\"T_8dc5e_row9_col6\" class=\"data row9 col6\" >0</td>\n",
       "      <td id=\"T_8dc5e_row9_col7\" class=\"data row9 col7\" >0</td>\n",
       "      <td id=\"T_8dc5e_row9_col8\" class=\"data row9 col8\" >0</td>\n",
       "      <td id=\"T_8dc5e_row9_col9\" class=\"data row9 col9\" >0</td>\n",
       "      <td id=\"T_8dc5e_row9_col10\" class=\"data row9 col10\" >43</td>\n",
       "      <td id=\"T_8dc5e_row9_col11\" class=\"data row9 col11\" >224</td>\n",
       "      <td id=\"T_8dc5e_row9_col12\" class=\"data row9 col12\" >253</td>\n",
       "      <td id=\"T_8dc5e_row9_col13\" class=\"data row9 col13\" >245</td>\n",
       "      <td id=\"T_8dc5e_row9_col14\" class=\"data row9 col14\" >74</td>\n",
       "      <td id=\"T_8dc5e_row9_col15\" class=\"data row9 col15\" >0</td>\n",
       "      <td id=\"T_8dc5e_row9_col16\" class=\"data row9 col16\" >0</td>\n",
       "      <td id=\"T_8dc5e_row9_col17\" class=\"data row9 col17\" >0</td>\n",
       "      <td id=\"T_8dc5e_row9_col18\" class=\"data row9 col18\" >0</td>\n",
       "      <td id=\"T_8dc5e_row9_col19\" class=\"data row9 col19\" >0</td>\n",
       "      <td id=\"T_8dc5e_row9_col20\" class=\"data row9 col20\" >0</td>\n",
       "    </tr>\n",
       "    <tr>\n",
       "      <th id=\"T_8dc5e_level0_row10\" class=\"row_heading level0 row10\" >10</th>\n",
       "      <td id=\"T_8dc5e_row10_col0\" class=\"data row10 col0\" >0</td>\n",
       "      <td id=\"T_8dc5e_row10_col1\" class=\"data row10 col1\" >0</td>\n",
       "      <td id=\"T_8dc5e_row10_col2\" class=\"data row10 col2\" >0</td>\n",
       "      <td id=\"T_8dc5e_row10_col3\" class=\"data row10 col3\" >0</td>\n",
       "      <td id=\"T_8dc5e_row10_col4\" class=\"data row10 col4\" >0</td>\n",
       "      <td id=\"T_8dc5e_row10_col5\" class=\"data row10 col5\" >0</td>\n",
       "      <td id=\"T_8dc5e_row10_col6\" class=\"data row10 col6\" >0</td>\n",
       "      <td id=\"T_8dc5e_row10_col7\" class=\"data row10 col7\" >0</td>\n",
       "      <td id=\"T_8dc5e_row10_col8\" class=\"data row10 col8\" >0</td>\n",
       "      <td id=\"T_8dc5e_row10_col9\" class=\"data row10 col9\" >0</td>\n",
       "      <td id=\"T_8dc5e_row10_col10\" class=\"data row10 col10\" >249</td>\n",
       "      <td id=\"T_8dc5e_row10_col11\" class=\"data row10 col11\" >253</td>\n",
       "      <td id=\"T_8dc5e_row10_col12\" class=\"data row10 col12\" >245</td>\n",
       "      <td id=\"T_8dc5e_row10_col13\" class=\"data row10 col13\" >126</td>\n",
       "      <td id=\"T_8dc5e_row10_col14\" class=\"data row10 col14\" >0</td>\n",
       "      <td id=\"T_8dc5e_row10_col15\" class=\"data row10 col15\" >0</td>\n",
       "      <td id=\"T_8dc5e_row10_col16\" class=\"data row10 col16\" >0</td>\n",
       "      <td id=\"T_8dc5e_row10_col17\" class=\"data row10 col17\" >0</td>\n",
       "      <td id=\"T_8dc5e_row10_col18\" class=\"data row10 col18\" >0</td>\n",
       "      <td id=\"T_8dc5e_row10_col19\" class=\"data row10 col19\" >0</td>\n",
       "      <td id=\"T_8dc5e_row10_col20\" class=\"data row10 col20\" >0</td>\n",
       "    </tr>\n",
       "    <tr>\n",
       "      <th id=\"T_8dc5e_level0_row11\" class=\"row_heading level0 row11\" >11</th>\n",
       "      <td id=\"T_8dc5e_row11_col0\" class=\"data row11 col0\" >0</td>\n",
       "      <td id=\"T_8dc5e_row11_col1\" class=\"data row11 col1\" >0</td>\n",
       "      <td id=\"T_8dc5e_row11_col2\" class=\"data row11 col2\" >0</td>\n",
       "      <td id=\"T_8dc5e_row11_col3\" class=\"data row11 col3\" >0</td>\n",
       "      <td id=\"T_8dc5e_row11_col4\" class=\"data row11 col4\" >0</td>\n",
       "      <td id=\"T_8dc5e_row11_col5\" class=\"data row11 col5\" >0</td>\n",
       "      <td id=\"T_8dc5e_row11_col6\" class=\"data row11 col6\" >0</td>\n",
       "      <td id=\"T_8dc5e_row11_col7\" class=\"data row11 col7\" >14</td>\n",
       "      <td id=\"T_8dc5e_row11_col8\" class=\"data row11 col8\" >101</td>\n",
       "      <td id=\"T_8dc5e_row11_col9\" class=\"data row11 col9\" >223</td>\n",
       "      <td id=\"T_8dc5e_row11_col10\" class=\"data row11 col10\" >253</td>\n",
       "      <td id=\"T_8dc5e_row11_col11\" class=\"data row11 col11\" >248</td>\n",
       "      <td id=\"T_8dc5e_row11_col12\" class=\"data row11 col12\" >124</td>\n",
       "      <td id=\"T_8dc5e_row11_col13\" class=\"data row11 col13\" >0</td>\n",
       "      <td id=\"T_8dc5e_row11_col14\" class=\"data row11 col14\" >0</td>\n",
       "      <td id=\"T_8dc5e_row11_col15\" class=\"data row11 col15\" >0</td>\n",
       "      <td id=\"T_8dc5e_row11_col16\" class=\"data row11 col16\" >0</td>\n",
       "      <td id=\"T_8dc5e_row11_col17\" class=\"data row11 col17\" >0</td>\n",
       "      <td id=\"T_8dc5e_row11_col18\" class=\"data row11 col18\" >0</td>\n",
       "      <td id=\"T_8dc5e_row11_col19\" class=\"data row11 col19\" >0</td>\n",
       "      <td id=\"T_8dc5e_row11_col20\" class=\"data row11 col20\" >0</td>\n",
       "    </tr>\n",
       "    <tr>\n",
       "      <th id=\"T_8dc5e_level0_row12\" class=\"row_heading level0 row12\" >12</th>\n",
       "      <td id=\"T_8dc5e_row12_col0\" class=\"data row12 col0\" >0</td>\n",
       "      <td id=\"T_8dc5e_row12_col1\" class=\"data row12 col1\" >0</td>\n",
       "      <td id=\"T_8dc5e_row12_col2\" class=\"data row12 col2\" >0</td>\n",
       "      <td id=\"T_8dc5e_row12_col3\" class=\"data row12 col3\" >0</td>\n",
       "      <td id=\"T_8dc5e_row12_col4\" class=\"data row12 col4\" >0</td>\n",
       "      <td id=\"T_8dc5e_row12_col5\" class=\"data row12 col5\" >11</td>\n",
       "      <td id=\"T_8dc5e_row12_col6\" class=\"data row12 col6\" >166</td>\n",
       "      <td id=\"T_8dc5e_row12_col7\" class=\"data row12 col7\" >239</td>\n",
       "      <td id=\"T_8dc5e_row12_col8\" class=\"data row12 col8\" >253</td>\n",
       "      <td id=\"T_8dc5e_row12_col9\" class=\"data row12 col9\" >253</td>\n",
       "      <td id=\"T_8dc5e_row12_col10\" class=\"data row12 col10\" >253</td>\n",
       "      <td id=\"T_8dc5e_row12_col11\" class=\"data row12 col11\" >187</td>\n",
       "      <td id=\"T_8dc5e_row12_col12\" class=\"data row12 col12\" >30</td>\n",
       "      <td id=\"T_8dc5e_row12_col13\" class=\"data row12 col13\" >0</td>\n",
       "      <td id=\"T_8dc5e_row12_col14\" class=\"data row12 col14\" >0</td>\n",
       "      <td id=\"T_8dc5e_row12_col15\" class=\"data row12 col15\" >0</td>\n",
       "      <td id=\"T_8dc5e_row12_col16\" class=\"data row12 col16\" >0</td>\n",
       "      <td id=\"T_8dc5e_row12_col17\" class=\"data row12 col17\" >0</td>\n",
       "      <td id=\"T_8dc5e_row12_col18\" class=\"data row12 col18\" >0</td>\n",
       "      <td id=\"T_8dc5e_row12_col19\" class=\"data row12 col19\" >0</td>\n",
       "      <td id=\"T_8dc5e_row12_col20\" class=\"data row12 col20\" >0</td>\n",
       "    </tr>\n",
       "    <tr>\n",
       "      <th id=\"T_8dc5e_level0_row13\" class=\"row_heading level0 row13\" >13</th>\n",
       "      <td id=\"T_8dc5e_row13_col0\" class=\"data row13 col0\" >0</td>\n",
       "      <td id=\"T_8dc5e_row13_col1\" class=\"data row13 col1\" >0</td>\n",
       "      <td id=\"T_8dc5e_row13_col2\" class=\"data row13 col2\" >0</td>\n",
       "      <td id=\"T_8dc5e_row13_col3\" class=\"data row13 col3\" >0</td>\n",
       "      <td id=\"T_8dc5e_row13_col4\" class=\"data row13 col4\" >0</td>\n",
       "      <td id=\"T_8dc5e_row13_col5\" class=\"data row13 col5\" >16</td>\n",
       "      <td id=\"T_8dc5e_row13_col6\" class=\"data row13 col6\" >248</td>\n",
       "      <td id=\"T_8dc5e_row13_col7\" class=\"data row13 col7\" >250</td>\n",
       "      <td id=\"T_8dc5e_row13_col8\" class=\"data row13 col8\" >253</td>\n",
       "      <td id=\"T_8dc5e_row13_col9\" class=\"data row13 col9\" >253</td>\n",
       "      <td id=\"T_8dc5e_row13_col10\" class=\"data row13 col10\" >253</td>\n",
       "      <td id=\"T_8dc5e_row13_col11\" class=\"data row13 col11\" >253</td>\n",
       "      <td id=\"T_8dc5e_row13_col12\" class=\"data row13 col12\" >232</td>\n",
       "      <td id=\"T_8dc5e_row13_col13\" class=\"data row13 col13\" >213</td>\n",
       "      <td id=\"T_8dc5e_row13_col14\" class=\"data row13 col14\" >111</td>\n",
       "      <td id=\"T_8dc5e_row13_col15\" class=\"data row13 col15\" >2</td>\n",
       "      <td id=\"T_8dc5e_row13_col16\" class=\"data row13 col16\" >0</td>\n",
       "      <td id=\"T_8dc5e_row13_col17\" class=\"data row13 col17\" >0</td>\n",
       "      <td id=\"T_8dc5e_row13_col18\" class=\"data row13 col18\" >0</td>\n",
       "      <td id=\"T_8dc5e_row13_col19\" class=\"data row13 col19\" >0</td>\n",
       "      <td id=\"T_8dc5e_row13_col20\" class=\"data row13 col20\" >0</td>\n",
       "    </tr>\n",
       "    <tr>\n",
       "      <th id=\"T_8dc5e_level0_row14\" class=\"row_heading level0 row14\" >14</th>\n",
       "      <td id=\"T_8dc5e_row14_col0\" class=\"data row14 col0\" >0</td>\n",
       "      <td id=\"T_8dc5e_row14_col1\" class=\"data row14 col1\" >0</td>\n",
       "      <td id=\"T_8dc5e_row14_col2\" class=\"data row14 col2\" >0</td>\n",
       "      <td id=\"T_8dc5e_row14_col3\" class=\"data row14 col3\" >0</td>\n",
       "      <td id=\"T_8dc5e_row14_col4\" class=\"data row14 col4\" >0</td>\n",
       "      <td id=\"T_8dc5e_row14_col5\" class=\"data row14 col5\" >0</td>\n",
       "      <td id=\"T_8dc5e_row14_col6\" class=\"data row14 col6\" >0</td>\n",
       "      <td id=\"T_8dc5e_row14_col7\" class=\"data row14 col7\" >43</td>\n",
       "      <td id=\"T_8dc5e_row14_col8\" class=\"data row14 col8\" >98</td>\n",
       "      <td id=\"T_8dc5e_row14_col9\" class=\"data row14 col9\" >98</td>\n",
       "      <td id=\"T_8dc5e_row14_col10\" class=\"data row14 col10\" >208</td>\n",
       "      <td id=\"T_8dc5e_row14_col11\" class=\"data row14 col11\" >253</td>\n",
       "      <td id=\"T_8dc5e_row14_col12\" class=\"data row14 col12\" >253</td>\n",
       "      <td id=\"T_8dc5e_row14_col13\" class=\"data row14 col13\" >253</td>\n",
       "      <td id=\"T_8dc5e_row14_col14\" class=\"data row14 col14\" >253</td>\n",
       "      <td id=\"T_8dc5e_row14_col15\" class=\"data row14 col15\" >187</td>\n",
       "      <td id=\"T_8dc5e_row14_col16\" class=\"data row14 col16\" >22</td>\n",
       "      <td id=\"T_8dc5e_row14_col17\" class=\"data row14 col17\" >0</td>\n",
       "      <td id=\"T_8dc5e_row14_col18\" class=\"data row14 col18\" >0</td>\n",
       "      <td id=\"T_8dc5e_row14_col19\" class=\"data row14 col19\" >0</td>\n",
       "      <td id=\"T_8dc5e_row14_col20\" class=\"data row14 col20\" >0</td>\n",
       "    </tr>\n",
       "    <tr>\n",
       "      <th id=\"T_8dc5e_level0_row15\" class=\"row_heading level0 row15\" >15</th>\n",
       "      <td id=\"T_8dc5e_row15_col0\" class=\"data row15 col0\" >0</td>\n",
       "      <td id=\"T_8dc5e_row15_col1\" class=\"data row15 col1\" >0</td>\n",
       "      <td id=\"T_8dc5e_row15_col2\" class=\"data row15 col2\" >0</td>\n",
       "      <td id=\"T_8dc5e_row15_col3\" class=\"data row15 col3\" >0</td>\n",
       "      <td id=\"T_8dc5e_row15_col4\" class=\"data row15 col4\" >0</td>\n",
       "      <td id=\"T_8dc5e_row15_col5\" class=\"data row15 col5\" >0</td>\n",
       "      <td id=\"T_8dc5e_row15_col6\" class=\"data row15 col6\" >0</td>\n",
       "      <td id=\"T_8dc5e_row15_col7\" class=\"data row15 col7\" >0</td>\n",
       "      <td id=\"T_8dc5e_row15_col8\" class=\"data row15 col8\" >0</td>\n",
       "      <td id=\"T_8dc5e_row15_col9\" class=\"data row15 col9\" >0</td>\n",
       "      <td id=\"T_8dc5e_row15_col10\" class=\"data row15 col10\" >9</td>\n",
       "      <td id=\"T_8dc5e_row15_col11\" class=\"data row15 col11\" >51</td>\n",
       "      <td id=\"T_8dc5e_row15_col12\" class=\"data row15 col12\" >119</td>\n",
       "      <td id=\"T_8dc5e_row15_col13\" class=\"data row15 col13\" >253</td>\n",
       "      <td id=\"T_8dc5e_row15_col14\" class=\"data row15 col14\" >253</td>\n",
       "      <td id=\"T_8dc5e_row15_col15\" class=\"data row15 col15\" >253</td>\n",
       "      <td id=\"T_8dc5e_row15_col16\" class=\"data row15 col16\" >76</td>\n",
       "      <td id=\"T_8dc5e_row15_col17\" class=\"data row15 col17\" >0</td>\n",
       "      <td id=\"T_8dc5e_row15_col18\" class=\"data row15 col18\" >0</td>\n",
       "      <td id=\"T_8dc5e_row15_col19\" class=\"data row15 col19\" >0</td>\n",
       "      <td id=\"T_8dc5e_row15_col20\" class=\"data row15 col20\" >0</td>\n",
       "    </tr>\n",
       "    <tr>\n",
       "      <th id=\"T_8dc5e_level0_row16\" class=\"row_heading level0 row16\" >16</th>\n",
       "      <td id=\"T_8dc5e_row16_col0\" class=\"data row16 col0\" >0</td>\n",
       "      <td id=\"T_8dc5e_row16_col1\" class=\"data row16 col1\" >0</td>\n",
       "      <td id=\"T_8dc5e_row16_col2\" class=\"data row16 col2\" >0</td>\n",
       "      <td id=\"T_8dc5e_row16_col3\" class=\"data row16 col3\" >0</td>\n",
       "      <td id=\"T_8dc5e_row16_col4\" class=\"data row16 col4\" >0</td>\n",
       "      <td id=\"T_8dc5e_row16_col5\" class=\"data row16 col5\" >0</td>\n",
       "      <td id=\"T_8dc5e_row16_col6\" class=\"data row16 col6\" >0</td>\n",
       "      <td id=\"T_8dc5e_row16_col7\" class=\"data row16 col7\" >0</td>\n",
       "      <td id=\"T_8dc5e_row16_col8\" class=\"data row16 col8\" >0</td>\n",
       "      <td id=\"T_8dc5e_row16_col9\" class=\"data row16 col9\" >0</td>\n",
       "      <td id=\"T_8dc5e_row16_col10\" class=\"data row16 col10\" >0</td>\n",
       "      <td id=\"T_8dc5e_row16_col11\" class=\"data row16 col11\" >0</td>\n",
       "      <td id=\"T_8dc5e_row16_col12\" class=\"data row16 col12\" >1</td>\n",
       "      <td id=\"T_8dc5e_row16_col13\" class=\"data row16 col13\" >183</td>\n",
       "      <td id=\"T_8dc5e_row16_col14\" class=\"data row16 col14\" >253</td>\n",
       "      <td id=\"T_8dc5e_row16_col15\" class=\"data row16 col15\" >253</td>\n",
       "      <td id=\"T_8dc5e_row16_col16\" class=\"data row16 col16\" >139</td>\n",
       "      <td id=\"T_8dc5e_row16_col17\" class=\"data row16 col17\" >0</td>\n",
       "      <td id=\"T_8dc5e_row16_col18\" class=\"data row16 col18\" >0</td>\n",
       "      <td id=\"T_8dc5e_row16_col19\" class=\"data row16 col19\" >0</td>\n",
       "      <td id=\"T_8dc5e_row16_col20\" class=\"data row16 col20\" >0</td>\n",
       "    </tr>\n",
       "    <tr>\n",
       "      <th id=\"T_8dc5e_level0_row17\" class=\"row_heading level0 row17\" >17</th>\n",
       "      <td id=\"T_8dc5e_row17_col0\" class=\"data row17 col0\" >0</td>\n",
       "      <td id=\"T_8dc5e_row17_col1\" class=\"data row17 col1\" >0</td>\n",
       "      <td id=\"T_8dc5e_row17_col2\" class=\"data row17 col2\" >0</td>\n",
       "      <td id=\"T_8dc5e_row17_col3\" class=\"data row17 col3\" >0</td>\n",
       "      <td id=\"T_8dc5e_row17_col4\" class=\"data row17 col4\" >0</td>\n",
       "      <td id=\"T_8dc5e_row17_col5\" class=\"data row17 col5\" >0</td>\n",
       "      <td id=\"T_8dc5e_row17_col6\" class=\"data row17 col6\" >0</td>\n",
       "      <td id=\"T_8dc5e_row17_col7\" class=\"data row17 col7\" >0</td>\n",
       "      <td id=\"T_8dc5e_row17_col8\" class=\"data row17 col8\" >0</td>\n",
       "      <td id=\"T_8dc5e_row17_col9\" class=\"data row17 col9\" >0</td>\n",
       "      <td id=\"T_8dc5e_row17_col10\" class=\"data row17 col10\" >0</td>\n",
       "      <td id=\"T_8dc5e_row17_col11\" class=\"data row17 col11\" >0</td>\n",
       "      <td id=\"T_8dc5e_row17_col12\" class=\"data row17 col12\" >0</td>\n",
       "      <td id=\"T_8dc5e_row17_col13\" class=\"data row17 col13\" >182</td>\n",
       "      <td id=\"T_8dc5e_row17_col14\" class=\"data row17 col14\" >253</td>\n",
       "      <td id=\"T_8dc5e_row17_col15\" class=\"data row17 col15\" >253</td>\n",
       "      <td id=\"T_8dc5e_row17_col16\" class=\"data row17 col16\" >104</td>\n",
       "      <td id=\"T_8dc5e_row17_col17\" class=\"data row17 col17\" >0</td>\n",
       "      <td id=\"T_8dc5e_row17_col18\" class=\"data row17 col18\" >0</td>\n",
       "      <td id=\"T_8dc5e_row17_col19\" class=\"data row17 col19\" >0</td>\n",
       "      <td id=\"T_8dc5e_row17_col20\" class=\"data row17 col20\" >0</td>\n",
       "    </tr>\n",
       "    <tr>\n",
       "      <th id=\"T_8dc5e_level0_row18\" class=\"row_heading level0 row18\" >18</th>\n",
       "      <td id=\"T_8dc5e_row18_col0\" class=\"data row18 col0\" >0</td>\n",
       "      <td id=\"T_8dc5e_row18_col1\" class=\"data row18 col1\" >0</td>\n",
       "      <td id=\"T_8dc5e_row18_col2\" class=\"data row18 col2\" >0</td>\n",
       "      <td id=\"T_8dc5e_row18_col3\" class=\"data row18 col3\" >0</td>\n",
       "      <td id=\"T_8dc5e_row18_col4\" class=\"data row18 col4\" >0</td>\n",
       "      <td id=\"T_8dc5e_row18_col5\" class=\"data row18 col5\" >0</td>\n",
       "      <td id=\"T_8dc5e_row18_col6\" class=\"data row18 col6\" >0</td>\n",
       "      <td id=\"T_8dc5e_row18_col7\" class=\"data row18 col7\" >0</td>\n",
       "      <td id=\"T_8dc5e_row18_col8\" class=\"data row18 col8\" >0</td>\n",
       "      <td id=\"T_8dc5e_row18_col9\" class=\"data row18 col9\" >0</td>\n",
       "      <td id=\"T_8dc5e_row18_col10\" class=\"data row18 col10\" >0</td>\n",
       "      <td id=\"T_8dc5e_row18_col11\" class=\"data row18 col11\" >0</td>\n",
       "      <td id=\"T_8dc5e_row18_col12\" class=\"data row18 col12\" >85</td>\n",
       "      <td id=\"T_8dc5e_row18_col13\" class=\"data row18 col13\" >249</td>\n",
       "      <td id=\"T_8dc5e_row18_col14\" class=\"data row18 col14\" >253</td>\n",
       "      <td id=\"T_8dc5e_row18_col15\" class=\"data row18 col15\" >253</td>\n",
       "      <td id=\"T_8dc5e_row18_col16\" class=\"data row18 col16\" >36</td>\n",
       "      <td id=\"T_8dc5e_row18_col17\" class=\"data row18 col17\" >0</td>\n",
       "      <td id=\"T_8dc5e_row18_col18\" class=\"data row18 col18\" >0</td>\n",
       "      <td id=\"T_8dc5e_row18_col19\" class=\"data row18 col19\" >0</td>\n",
       "      <td id=\"T_8dc5e_row18_col20\" class=\"data row18 col20\" >0</td>\n",
       "    </tr>\n",
       "    <tr>\n",
       "      <th id=\"T_8dc5e_level0_row19\" class=\"row_heading level0 row19\" >19</th>\n",
       "      <td id=\"T_8dc5e_row19_col0\" class=\"data row19 col0\" >0</td>\n",
       "      <td id=\"T_8dc5e_row19_col1\" class=\"data row19 col1\" >0</td>\n",
       "      <td id=\"T_8dc5e_row19_col2\" class=\"data row19 col2\" >0</td>\n",
       "      <td id=\"T_8dc5e_row19_col3\" class=\"data row19 col3\" >0</td>\n",
       "      <td id=\"T_8dc5e_row19_col4\" class=\"data row19 col4\" >0</td>\n",
       "      <td id=\"T_8dc5e_row19_col5\" class=\"data row19 col5\" >0</td>\n",
       "      <td id=\"T_8dc5e_row19_col6\" class=\"data row19 col6\" >0</td>\n",
       "      <td id=\"T_8dc5e_row19_col7\" class=\"data row19 col7\" >0</td>\n",
       "      <td id=\"T_8dc5e_row19_col8\" class=\"data row19 col8\" >0</td>\n",
       "      <td id=\"T_8dc5e_row19_col9\" class=\"data row19 col9\" >0</td>\n",
       "      <td id=\"T_8dc5e_row19_col10\" class=\"data row19 col10\" >0</td>\n",
       "      <td id=\"T_8dc5e_row19_col11\" class=\"data row19 col11\" >60</td>\n",
       "      <td id=\"T_8dc5e_row19_col12\" class=\"data row19 col12\" >214</td>\n",
       "      <td id=\"T_8dc5e_row19_col13\" class=\"data row19 col13\" >253</td>\n",
       "      <td id=\"T_8dc5e_row19_col14\" class=\"data row19 col14\" >253</td>\n",
       "      <td id=\"T_8dc5e_row19_col15\" class=\"data row19 col15\" >173</td>\n",
       "      <td id=\"T_8dc5e_row19_col16\" class=\"data row19 col16\" >11</td>\n",
       "      <td id=\"T_8dc5e_row19_col17\" class=\"data row19 col17\" >0</td>\n",
       "      <td id=\"T_8dc5e_row19_col18\" class=\"data row19 col18\" >0</td>\n",
       "      <td id=\"T_8dc5e_row19_col19\" class=\"data row19 col19\" >0</td>\n",
       "      <td id=\"T_8dc5e_row19_col20\" class=\"data row19 col20\" >0</td>\n",
       "    </tr>\n",
       "  </tbody>\n",
       "</table>\n"
      ],
      "text/plain": [
       "<pandas.io.formats.style.Styler at 0x2235cea3d30>"
      ]
     },
     "execution_count": 10,
     "metadata": {},
     "output_type": "execute_result"
    }
   ],
   "source": [
    "im3_t = tensor(im3)\n",
    "df = pd.DataFrame(im3_t[0:20, 4:25])\n",
    "df.style.set_properties(**{'font-size':'6pt'}).background_gradient('Greys')"
   ]
  },
  {
   "cell_type": "markdown",
   "id": "09efdc81-dc7a-4ee4-94c7-49332adc3376",
   "metadata": {},
   "source": [
    "Before we read more:\n",
    "\n",
    "Let's analyze how a computer would understand the patterns.\n",
    "\n",
    "## **From what i know the model goes through batch of pixels and then finds the most impactful feature in that batch, using kernel size.**"
   ]
  },
  {
   "cell_type": "markdown",
   "id": "f4f9464a-6882-4a9b-a844-c5be1998b79d",
   "metadata": {},
   "source": [
    "Book method: For baseline let's try and find the average value for each pixel for 3's and 7's. This gives us two averages, then we classify one it as one digit or the other. "
   ]
  },
  {
   "cell_type": "code",
   "execution_count": 11,
   "id": "23e0525a-0b35-4c6f-b1b5-99e09348bf88",
   "metadata": {},
   "outputs": [],
   "source": [
    "seven_tensors = [tensor(Image.open(o)) for o in sevens]"
   ]
  },
  {
   "cell_type": "code",
   "execution_count": 12,
   "id": "2412d3b8-bc8e-48e7-9e64-c44f517c6b9d",
   "metadata": {},
   "outputs": [],
   "source": [
    "three_tensors = [tensor(Image.open(o)) for o in threes]"
   ]
  },
  {
   "cell_type": "code",
   "execution_count": 13,
   "id": "299f4ffa-0740-4c8b-b14a-0f603fadc079",
   "metadata": {},
   "outputs": [
    {
     "data": {
      "text/plain": [
       "(6131, 6265)"
      ]
     },
     "execution_count": 13,
     "metadata": {},
     "output_type": "execute_result"
    }
   ],
   "source": [
    "len(three_tensors),len(seven_tensors)"
   ]
  },
  {
   "cell_type": "code",
   "execution_count": 14,
   "id": "c5b26f0f-c567-4e36-8842-bcbc90cd71f9",
   "metadata": {},
   "outputs": [
    {
     "data": {
      "image/png": "[encoded data removed]",
      "text/plain": [
       "<Figure size 100x100 with 1 Axes>"
      ]
     },
     "metadata": {},
     "output_type": "display_data"
    }
   ],
   "source": [
    "show_image(three_tensors[1]);"
   ]
  },
  {
   "cell_type": "code",
   "execution_count": 15,
   "id": "8d2aba78-35e0-4a5a-8719-e5d37e963b8d",
   "metadata": {},
   "outputs": [
    {
     "data": {
      "text/plain": [
       "torch.Size([6131, 28, 28])"
      ]
     },
     "execution_count": 15,
     "metadata": {},
     "output_type": "execute_result"
    }
   ],
   "source": [
    "# Create a rank three stacked tensor\n",
    "stacked_seven = torch.stack(seven_tensors).float()/255\n",
    "stacked_threes = torch.stack(three_tensors).float()/255\n",
    "stacked_threes.shape"
   ]
  },
  {
   "cell_type": "code",
   "execution_count": 16,
   "id": "f50be595-e062-4fb8-989f-864cdb49bbbf",
   "metadata": {},
   "outputs": [
    {
     "data": {
      "text/plain": [
       "3"
      ]
     },
     "execution_count": 16,
     "metadata": {},
     "output_type": "execute_result"
    }
   ],
   "source": [
    "# This is the rank of the tensor\n",
    "len(stacked_seven.shape)"
   ]
  },
  {
   "cell_type": "code",
   "execution_count": 17,
   "id": "df57ed21-a8b4-46b0-9b8f-df397bfaa58d",
   "metadata": {},
   "outputs": [],
   "source": [
    "## Find mean of three's and seven's stacked\n",
    "mean3 = stacked_threes.mean(0)\n",
    "mean7 = stacked_seven.mean(0)"
   ]
  },
  {
   "cell_type": "code",
   "execution_count": 18,
   "id": "19bfe685-c931-4adb-a991-68beec878ae9",
   "metadata": {},
   "outputs": [
    {
     "data": {
      "text/plain": [
       "<Axes: >"
      ]
     },
     "execution_count": 18,
     "metadata": {},
     "output_type": "execute_result"
    },
    {
     "data": {
      "image/png": "[encoded data removed]",
      "text/plain": [
       "<Figure size 100x100 with 1 Axes>"
      ]
     },
     "metadata": {},
     "output_type": "display_data"
    }
   ],
   "source": [
    "show_image(mean3)"
   ]
  },
  {
   "cell_type": "code",
   "execution_count": 19,
   "id": "ef3d50e0-920c-4221-8e3b-2979ad4ff696",
   "metadata": {},
   "outputs": [
    {
     "data": {
      "text/plain": [
       "<Axes: >"
      ]
     },
     "execution_count": 19,
     "metadata": {},
     "output_type": "execute_result"
    },
    {
     "data": {
      "image/png": "[encoded data removed]",
      "text/plain": [
       "<Figure size 100x100 with 1 Axes>"
      ]
     },
     "metadata": {},
     "output_type": "display_data"
    }
   ],
   "source": [
    "show_image(mean7)"
   ]
  },
  {
   "cell_type": "code",
   "execution_count": 20,
   "id": "5d4d7148-7a2d-4c01-a89b-54a1b938c9ef",
   "metadata": {},
   "outputs": [],
   "source": [
    "a_3 = stacked_threes[1]\n",
    "a_7 = stacked_seven[2]"
   ]
  },
  {
   "cell_type": "code",
   "execution_count": 21,
   "id": "bb2606b9-d5c4-4ad5-a5bb-d3271421ee6c",
   "metadata": {},
   "outputs": [
    {
     "data": {
      "text/plain": [
       "(tensor(0.1114), tensor(0.2021))"
      ]
     },
     "execution_count": 21,
     "metadata": {},
     "output_type": "execute_result"
    }
   ],
   "source": [
    "# Calculate MAE and MSE for 3 and 7\n",
    "dist_3_abs = (a_3 - mean3).abs().mean()\n",
    "dist_3_sqr = ((a_3 - mean3) ** 2).mean().sqrt()\n",
    "dist_3_abs, dist_3_sqr"
   ]
  },
  {
   "cell_type": "code",
   "execution_count": 22,
   "id": "da26e533-b041-46d3-a564-2f385178a444",
   "metadata": {},
   "outputs": [
    {
     "data": {
      "text/plain": [
       "(tensor(0.1586), tensor(0.3021))"
      ]
     },
     "execution_count": 22,
     "metadata": {},
     "output_type": "execute_result"
    }
   ],
   "source": [
    "dist_7_abs = (a_3 - mean7).abs().mean()\n",
    "dist_7_sqr = ((a_3 - mean7)**2).mean().sqrt()\n",
    "dist_7_abs,dist_7_sqr"
   ]
  },
  {
   "cell_type": "code",
   "execution_count": 23,
   "id": "9f567ada-b682-4513-9511-2019ce720d17",
   "metadata": {},
   "outputs": [],
   "source": [
    "valid_3_tens = torch.stack([tensor(Image.open(o)) for o in (path/'valid'/'3').ls()])\n",
    "valid_7_tens = torch.stack([tensor(Image.open(o)) for o in (path/'valid'/'7').ls()])"
   ]
  },
  {
   "cell_type": "code",
   "execution_count": 24,
   "id": "5864f96a-9717-4dd2-b085-c7bdd45e0794",
   "metadata": {},
   "outputs": [
    {
     "data": {
      "text/plain": [
       "(torch.Size([1010, 28, 28]), torch.Size([1028, 28, 28]))"
      ]
     },
     "execution_count": 24,
     "metadata": {},
     "output_type": "execute_result"
    }
   ],
   "source": [
    "valid_3_tens = valid_3_tens.float()/255\n",
    "valid_7_tens = valid_7_tens.float()/255\n",
    "valid_3_tens.shape,valid_7_tens.shape\n"
   ]
  },
  {
   "cell_type": "code",
   "execution_count": 25,
   "id": "c3f6041c-1c91-45ba-8d80-c12b8e7d8412",
   "metadata": {},
   "outputs": [],
   "source": [
    "def mnist_distance(a,b):\n",
    "    return (a-b).abs().mean((-1, -2))"
   ]
  },
  {
   "cell_type": "code",
   "execution_count": 26,
   "id": "5964d112-73cf-40e3-914e-88d231d9e7d4",
   "metadata": {},
   "outputs": [
    {
     "data": {
      "text/plain": [
       "tensor(0.1114)"
      ]
     },
     "execution_count": 26,
     "metadata": {},
     "output_type": "execute_result"
    }
   ],
   "source": [
    "mnist_distance(a_3, mean3)"
   ]
  },
  {
   "cell_type": "code",
   "execution_count": 27,
   "id": "37c08da4-1146-4529-9946-4e814c25c65f",
   "metadata": {},
   "outputs": [],
   "source": [
    "valid_3_dist = mnist_distance(valid_3_tens, mean3)"
   ]
  },
  {
   "cell_type": "code",
   "execution_count": 28,
   "id": "40ac5fa5-2971-492a-a9ce-9153df79b511",
   "metadata": {},
   "outputs": [
    {
     "data": {
      "text/plain": [
       "(tensor([0.1280, 0.1623, 0.1242,  ..., 0.1508, 0.1263, 0.1260]),\n",
       " torch.Size([1010]))"
      ]
     },
     "execution_count": 28,
     "metadata": {},
     "output_type": "execute_result"
    }
   ],
   "source": [
    "valid_3_dist, valid_3_dist.shape\n"
   ]
  },
  {
   "cell_type": "code",
   "execution_count": 29,
   "id": "492b2071-bd6a-485f-a9d2-f6a7f31aa1f5",
   "metadata": {},
   "outputs": [
    {
     "data": {
      "text/plain": [
       "torch.Size([1010, 28, 28])"
      ]
     },
     "execution_count": 29,
     "metadata": {},
     "output_type": "execute_result"
    }
   ],
   "source": [
    "valid_3_tens.shape"
   ]
  },
  {
   "cell_type": "code",
   "execution_count": 30,
   "id": "eac61f51-88a8-49ef-8182-577043e59f9e",
   "metadata": {},
   "outputs": [],
   "source": [
    "## Function to calcualte accuracy\n",
    "\n",
    "def is_3(x):\n",
    "    return mnist_distance(x, mean3) < mnist_distance(x, mean7)"
   ]
  },
  {
   "cell_type": "code",
   "execution_count": 31,
   "id": "ffdff6a6-f987-43a3-9126-e912e45a91b9",
   "metadata": {},
   "outputs": [
    {
     "data": {
      "text/plain": [
       "(tensor(True), tensor(1.))"
      ]
     },
     "execution_count": 31,
     "metadata": {},
     "output_type": "execute_result"
    }
   ],
   "source": [
    "is_3(a_3), is_3(a_3).float()"
   ]
  },
  {
   "cell_type": "code",
   "execution_count": 32,
   "id": "a85abc51-06db-4261-be84-26731f671efb",
   "metadata": {},
   "outputs": [
    {
     "data": {
      "text/plain": [
       "tensor([ True,  True,  True,  ..., False,  True,  True])"
      ]
     },
     "execution_count": 32,
     "metadata": {},
     "output_type": "execute_result"
    }
   ],
   "source": [
    "is_3(valid_3_tens)\n"
   ]
  },
  {
   "cell_type": "code",
   "execution_count": 33,
   "id": "0e87d515-3083-4fe9-94f3-9e39aa2f0460",
   "metadata": {},
   "outputs": [],
   "source": [
    "accuracy_3 = is_3(valid_3_tens).float().mean()\n",
    "accuracy_7 = (1 - is_3(valid_7_tens).float().mean())"
   ]
  },
  {
   "cell_type": "code",
   "execution_count": 34,
   "id": "610a0e53-f7e5-4ba5-9999-d082156479a4",
   "metadata": {},
   "outputs": [
    {
     "data": {
      "text/plain": [
       "(tensor(0.9168), tensor(0.9854), tensor(0.9511))"
      ]
     },
     "execution_count": 34,
     "metadata": {},
     "output_type": "execute_result"
    }
   ],
   "source": [
    "accuracy_3,accuracy_7,(accuracy_3+accuracy_7)/2"
   ]
  },
  {
   "cell_type": "markdown",
   "id": "0593bb2c-af4c-41a8-8240-16b5e9d8f640",
   "metadata": {},
   "source": [
    "## BEST APPROACH : USE WEIGHTS"
   ]
  },
  {
   "cell_type": "code",
   "execution_count": 35,
   "id": "5eae45e2-b082-4db5-92d8-e7fd913fa6ac",
   "metadata": {},
   "outputs": [],
   "source": [
    "\n",
    "def f(x): return x**2\n",
    "\n",
    "def plot_function(func, x_range, label):\n",
    "    x = np.linspace(*x_range, 100)\n",
    "    y = func(x)\n",
    "    plt.plot(x, y, label=label)\n",
    "    plt.xlabel('x')\n",
    "    plt.ylabel('f(x)')\n",
    "    plt.title(f'Plot of {label}')\n",
    "    plt.grid(True)\n",
    "    plt.legend()\n",
    "\n"
   ]
  },
  {
   "cell_type": "code",
   "execution_count": 36,
   "id": "7d9aecbb-d575-4c99-858a-101dc9f5f969",
   "metadata": {},
   "outputs": [],
   "source": [
    "xt = tensor(3.).requires_grad_()"
   ]
  },
  {
   "cell_type": "code",
   "execution_count": 37,
   "id": "e1f447e0-272b-4fd7-9170-4ecfd77b7744",
   "metadata": {},
   "outputs": [],
   "source": [
    "yt = f(xt)"
   ]
  },
  {
   "cell_type": "code",
   "execution_count": 38,
   "id": "e1b03edb-5a1d-4723-9b06-de4a0de9dd9f",
   "metadata": {},
   "outputs": [
    {
     "data": {
      "text/plain": [
       "tensor(9., grad_fn=<PowBackward0>)"
      ]
     },
     "execution_count": 38,
     "metadata": {},
     "output_type": "execute_result"
    }
   ],
   "source": [
    "yt"
   ]
  },
  {
   "cell_type": "code",
   "execution_count": 39,
   "id": "4fed8160-e375-482a-80da-fddfcd931c11",
   "metadata": {},
   "outputs": [],
   "source": [
    "yt.backward()"
   ]
  },
  {
   "cell_type": "code",
   "execution_count": 40,
   "id": "316cdea6-7a9b-4182-960c-e1deaa944d9f",
   "metadata": {},
   "outputs": [
    {
     "data": {
      "text/plain": [
       "tensor(6.)"
      ]
     },
     "execution_count": 40,
     "metadata": {},
     "output_type": "execute_result"
    }
   ],
   "source": [
    "xt.grad"
   ]
  },
  {
   "cell_type": "markdown",
   "id": "4093f85e-ea8d-4416-9cb3-d10fd2524163",
   "metadata": {},
   "source": [
    "## End to end SGD example"
   ]
  },
  {
   "cell_type": "code",
   "execution_count": 41,
   "id": "e62780ea-b65a-42f4-8c38-4aba75f60e91",
   "metadata": {},
   "outputs": [
    {
     "data": {
      "text/plain": [
       "tensor([ 0.,  1.,  2.,  3.,  4.,  5.,  6.,  7.,  8.,  9., 10., 11., 12., 13.,\n",
       "        14., 15., 16., 17., 18., 19.])"
      ]
     },
     "execution_count": 41,
     "metadata": {},
     "output_type": "execute_result"
    }
   ],
   "source": [
    "time = torch.arange(0,20).float(); time"
   ]
  },
  {
   "cell_type": "code",
   "execution_count": 42,
   "id": "b27bf4f5-9192-4da9-972e-6e31a2123440",
   "metadata": {},
   "outputs": [],
   "source": [
    "speed = torch.randn(20)*3 + 0.75*(time-9.5)**2 + 1"
   ]
  },
  {
   "cell_type": "code",
   "execution_count": 43,
   "id": "95334c66-735a-49b9-ad1e-07edbb1f9bdc",
   "metadata": {},
   "outputs": [
    {
     "data": {
      "image/png": "[encoded data removed]",
      "text/plain": [
       "<Figure size 640x480 with 1 Axes>"
      ]
     },
     "metadata": {},
     "output_type": "display_data"
    }
   ],
   "source": [
    "plt.scatter(time,speed);"
   ]
  },
  {
   "cell_type": "code",
   "execution_count": 44,
   "id": "eb4a0b10-5a13-4916-a1ec-52e693fcab52",
   "metadata": {},
   "outputs": [],
   "source": [
    "def f(t, params):\n",
    "    a,b,c = params\n",
    "    return a*(t**2) + (b*t) + c\n",
    "     "
   ]
  },
  {
   "cell_type": "code",
   "execution_count": 45,
   "id": "6729ac61-9e63-440d-8bb2-a84b542c5c29",
   "metadata": {},
   "outputs": [],
   "source": [
    "## USe mean sqaured error as loss function\n",
    "def mse(preds, targets):\n",
    "    return ((preds - targets) ** 2).mean()"
   ]
  },
  {
   "cell_type": "code",
   "execution_count": 46,
   "id": "30709c93-59a6-4d88-84d8-53bcba8e937e",
   "metadata": {},
   "outputs": [],
   "source": [
    "# Step 1: Initialize paramter weights\n",
    "params = torch.randn(3).requires_grad_()"
   ]
  },
  {
   "cell_type": "code",
   "execution_count": 47,
   "id": "dbb06e23-93b3-4eb4-aca4-c3936b7be0a3",
   "metadata": {},
   "outputs": [],
   "source": [
    "orig_params = params.clone()"
   ]
  },
  {
   "cell_type": "code",
   "execution_count": 48,
   "id": "fc8e478f-a69f-4b9e-ac65-f3fc3ef30070",
   "metadata": {},
   "outputs": [],
   "source": [
    "# Step 2: Calculate the preds\n",
    "preds = f(time, params)"
   ]
  },
  {
   "cell_type": "code",
   "execution_count": 49,
   "id": "1e5b0d8c-2cbd-4c1d-b47e-5d4416733b49",
   "metadata": {},
   "outputs": [],
   "source": [
    "def show_preds(preds, ax = None):\n",
    "    if ax is None: ax = plt.subplots()[1]\n",
    "    ax.scatter(time,speed)\n",
    "    ax.scatter(time, to_np(preds), color = 'r')\n",
    "    ax.set_ylim(-300, 100)"
   ]
  },
  {
   "cell_type": "code",
   "execution_count": 50,
   "id": "c2eca097-b7cd-4975-8ca0-ed73401037de",
   "metadata": {},
   "outputs": [
    {
     "data": {
      "image/png": "[encoded data removed]",
      "text/plain": [
       "<Figure size 640x480 with 1 Axes>"
      ]
     },
     "metadata": {},
     "output_type": "display_data"
    }
   ],
   "source": [
    "show_preds(preds)"
   ]
  },
  {
   "cell_type": "code",
   "execution_count": 51,
   "id": "baedaec0-c423-4c8a-9218-63fe76cd427e",
   "metadata": {},
   "outputs": [
    {
     "data": {
      "text/plain": [
       "tensor(41166.7969, grad_fn=<MeanBackward0>)"
      ]
     },
     "execution_count": 51,
     "metadata": {},
     "output_type": "execute_result"
    }
   ],
   "source": [
    "# Step 3: Calculate loss\n",
    "loss = mse(preds, speed)\n",
    "loss"
   ]
  },
  {
   "cell_type": "code",
   "execution_count": 52,
   "id": "2dfaf6fd-ca42-472b-b636-baba88edf4c3",
   "metadata": {},
   "outputs": [
    {
     "data": {
      "text/plain": [
       "tensor([-67571.5156,  -4337.8608,   -314.8947])"
      ]
     },
     "execution_count": 52,
     "metadata": {},
     "output_type": "execute_result"
    }
   ],
   "source": [
    "# Step 4: Calculate the gradients\n",
    "loss.backward()\n",
    "params.grad"
   ]
  },
  {
   "cell_type": "code",
   "execution_count": 53,
   "id": "b288c7ff-7d59-4b5c-9aa9-8a376363d3ff",
   "metadata": {},
   "outputs": [
    {
     "data": {
      "text/plain": [
       "tensor([-0.6757, -0.0434, -0.0031])"
      ]
     },
     "execution_count": 53,
     "metadata": {},
     "output_type": "execute_result"
    }
   ],
   "source": [
    "params.grad * 1e-5"
   ]
  },
  {
   "cell_type": "code",
   "execution_count": 54,
   "id": "c145cc8c-4982-4585-b57e-d282d8b92349",
   "metadata": {},
   "outputs": [
    {
     "data": {
      "text/plain": [
       "tensor([-1.0411, -0.2675, -0.2332], requires_grad=True)"
      ]
     },
     "execution_count": 54,
     "metadata": {},
     "output_type": "execute_result"
    }
   ],
   "source": [
    "params"
   ]
  },
  {
   "cell_type": "code",
   "execution_count": 55,
   "id": "a3ec74ed-de72-480b-a679-8783078e3bab",
   "metadata": {},
   "outputs": [],
   "source": [
    "# Step the weights\n",
    "lr = 1e-5\n",
    "params.data -=lr * params.grad.data\n",
    "params.grad = None"
   ]
  },
  {
   "cell_type": "code",
   "execution_count": 56,
   "id": "ee26fff8-3e75-4a7f-9fe6-c864ed587d86",
   "metadata": {},
   "outputs": [
    {
     "data": {
      "text/plain": [
       "tensor(8270.5254, grad_fn=<MeanBackward0>)"
      ]
     },
     "execution_count": 56,
     "metadata": {},
     "output_type": "execute_result"
    }
   ],
   "source": [
    "\n",
    "preds = f(time,params)\n",
    "mse(preds, speed)"
   ]
  },
  {
   "cell_type": "code",
   "execution_count": 57,
   "id": "17ab8ca0-74d1-4491-85d3-c29c10170eeb",
   "metadata": {},
   "outputs": [
    {
     "data": {
      "image/png": "[encoded data removed]",
      "text/plain": [
       "<Figure size 640x480 with 1 Axes>"
      ]
     },
     "metadata": {},
     "output_type": "display_data"
    }
   ],
   "source": [
    "show_preds(preds)\n"
   ]
  },
  {
   "cell_type": "code",
   "execution_count": 58,
   "id": "2c3a45ad-b91a-4afd-bffb-a935abb8b05b",
   "metadata": {},
   "outputs": [],
   "source": [
    "def apply_step(params, prn=True):\n",
    "    preds = f(time, params)\n",
    "    loss = mse(preds, speed)\n",
    "    loss.backward()\n",
    "    params.data -= lr * params.grad.data\n",
    "    params.grad = None\n",
    "    if prn: print(loss.item())\n",
    "    return preds\n",
    "     "
   ]
  },
  {
   "cell_type": "code",
   "execution_count": 59,
   "id": "bd3191bd-cd99-4d9c-bc2c-963b1acef970",
   "metadata": {},
   "outputs": [
    {
     "name": "stdout",
     "output_type": "stream",
     "text": [
      "8270.525390625\n",
      "2045.5426025390625\n",
      "867.58251953125\n",
      "644.6737670898438\n",
      "602.4900512695312\n",
      "594.5049438476562\n",
      "592.9912719726562\n",
      "592.7021484375\n",
      "592.6448364257812\n",
      "592.63134765625\n"
     ]
    }
   ],
   "source": [
    "# Iterate 10 times\n",
    "for i in range(10): apply_step(params)\n"
   ]
  },
  {
   "cell_type": "code",
   "execution_count": 60,
   "id": "0683b3c0-c00b-4689-bcd2-99a7542388ed",
   "metadata": {},
   "outputs": [],
   "source": [
    "params = orig_params.detach().requires_grad_()\n"
   ]
  },
  {
   "cell_type": "code",
   "execution_count": 61,
   "id": "300eced0-0478-404f-a5d3-a642bc34bbd7",
   "metadata": {},
   "outputs": [
    {
     "data": {
      "image/png": "[encoded data removed]",
      "text/plain": [
       "<Figure size 1200x300 with 4 Axes>"
      ]
     },
     "metadata": {},
     "output_type": "display_data"
    }
   ],
   "source": [
    "_,axs = plt.subplots(1,4,figsize=(12,3))\n",
    "for ax in axs: show_preds(apply_step(params, False), ax)\n",
    "plt.tight_layout()"
   ]
  },
  {
   "cell_type": "markdown",
   "id": "378980f4-23d2-4178-8ecb-975bb4bfa0e4",
   "metadata": {},
   "source": [
    "## MNIST LOSS FUNCTION:"
   ]
  },
  {
   "cell_type": "code",
   "execution_count": 62,
   "id": "c0664662-f072-48ec-9397-31845cf48434",
   "metadata": {},
   "outputs": [],
   "source": [
    "# Combine stacked_threes and stacked_sevens together\n",
    "train_x = torch.cat([stacked_threes, stacked_seven]).view(-1, 28* 28)\n"
   ]
  },
  {
   "cell_type": "code",
   "execution_count": 63,
   "id": "aac270ba-2946-447c-8e83-8f1bf5d19770",
   "metadata": {},
   "outputs": [
    {
     "data": {
      "text/plain": [
       "torch.Size([12396, 784])"
      ]
     },
     "execution_count": 63,
     "metadata": {},
     "output_type": "execute_result"
    }
   ],
   "source": [
    "train_x.shape"
   ]
  },
  {
   "cell_type": "code",
   "execution_count": 64,
   "id": "f9529518-6591-4322-9840-87a500753995",
   "metadata": {},
   "outputs": [],
   "source": [
    "train_y = tensor(([1] * len(threes) )+ ([0] * len(sevens))).unsqueeze(1)"
   ]
  },
  {
   "cell_type": "code",
   "execution_count": 65,
   "id": "d294ded7-1601-4d9d-930b-b4608f3e7688",
   "metadata": {},
   "outputs": [],
   "source": [
    "# Create dataset\n",
    "dset = list(zip(train_x, train_y))"
   ]
  },
  {
   "cell_type": "code",
   "execution_count": 66,
   "id": "06193a27-8d2e-4f46-9ad8-50f01059778b",
   "metadata": {},
   "outputs": [
    {
     "data": {
      "text/plain": [
       "(torch.Size([784]), tensor([1]))"
      ]
     },
     "execution_count": 66,
     "metadata": {},
     "output_type": "execute_result"
    }
   ],
   "source": [
    "x, y = dset[0]\n",
    "x.shape,y\n"
   ]
  },
  {
   "cell_type": "code",
   "execution_count": 67,
   "id": "7fcaf399-5e8b-42e4-b853-0cfef8e62c9b",
   "metadata": {},
   "outputs": [],
   "source": [
    "# Do same for validation set\n",
    "valid_x = torch.cat([valid_3_tens, valid_7_tens]).view(-1, 28*28)"
   ]
  },
  {
   "cell_type": "code",
   "execution_count": 68,
   "id": "d429fa84-8122-452e-90fc-5c1793ca6740",
   "metadata": {},
   "outputs": [
    {
     "data": {
      "text/plain": [
       "torch.Size([2038, 784])"
      ]
     },
     "execution_count": 68,
     "metadata": {},
     "output_type": "execute_result"
    }
   ],
   "source": [
    "valid_x.shape"
   ]
  },
  {
   "cell_type": "code",
   "execution_count": 69,
   "id": "7d5d512c-a3f3-40a8-b976-b8700fb66029",
   "metadata": {},
   "outputs": [],
   "source": [
    "valid_y = tensor([1] * len(valid_3_tens) + [0] * len(valid_7_tens)).unsqueeze(1)"
   ]
  },
  {
   "cell_type": "code",
   "execution_count": 70,
   "id": "9bd36232-4863-4eba-8834-a918c91b44b2",
   "metadata": {},
   "outputs": [],
   "source": [
    "valid_dset = list(zip(valid_x, valid_y))"
   ]
  },
  {
   "cell_type": "code",
   "execution_count": 71,
   "id": "1ddcf2da-2c01-4323-a9f0-62c4dcd8a356",
   "metadata": {},
   "outputs": [],
   "source": [
    "# Initializing random weights\n",
    "def init_params(size, std = 1.0):\n",
    "    return (torch.randn(size) * std).requires_grad_()"
   ]
  },
  {
   "cell_type": "code",
   "execution_count": 72,
   "id": "abcdf95e-42f7-4c22-8902-f9bbfea056ee",
   "metadata": {},
   "outputs": [],
   "source": [
    "weights = init_params((28*28, 1))  # shape: [28, 28, 1]\n"
   ]
  },
  {
   "cell_type": "code",
   "execution_count": 73,
   "id": "b10d132c-3c17-4815-9ebd-d25b82b41b53",
   "metadata": {},
   "outputs": [],
   "source": [
    "# Initialize bias\n",
    "bias = init_params(1)"
   ]
  },
  {
   "cell_type": "code",
   "execution_count": 74,
   "id": "17ddf721-70a0-4001-9f30-ef9c16425aec",
   "metadata": {},
   "outputs": [],
   "source": [
    "# (train_x[1] * weights.T).sum() + bias"
   ]
  },
  {
   "cell_type": "code",
   "execution_count": 75,
   "id": "d1e061d4-5af0-47eb-a37d-e73a4d354d36",
   "metadata": {},
   "outputs": [],
   "source": [
    "# Instead of using loops we can use matrix multiplication for faster results\n",
    "def linear(xb):\n",
    "    return xb@weights + bias"
   ]
  },
  {
   "cell_type": "code",
   "execution_count": 76,
   "id": "dc8d1e00-b77b-4f0e-a064-b4dafbd98142",
   "metadata": {},
   "outputs": [],
   "source": [
    "preds = linear(train_x)"
   ]
  },
  {
   "cell_type": "code",
   "execution_count": 77,
   "id": "01968ec2-887e-4b7c-a651-7c5b1f054a71",
   "metadata": {},
   "outputs": [
    {
     "data": {
      "text/plain": [
       "tensor([[ 4.1357],\n",
       "        [-2.8978],\n",
       "        [ 1.6344],\n",
       "        ...,\n",
       "        [-5.7026],\n",
       "        [-9.8564],\n",
       "        [-6.0457]], grad_fn=<AddBackward0>)"
      ]
     },
     "execution_count": 77,
     "metadata": {},
     "output_type": "execute_result"
    }
   ],
   "source": [
    "preds"
   ]
  },
  {
   "cell_type": "code",
   "execution_count": 78,
   "id": "fdb486d7-a547-47eb-98f5-731f3fb6f5b9",
   "metadata": {},
   "outputs": [],
   "source": [
    "corrects = (preds > 0.0).float() == train_y"
   ]
  },
  {
   "cell_type": "code",
   "execution_count": 79,
   "id": "357dfa66-f709-41a6-bf93-51db4140d1fb",
   "metadata": {},
   "outputs": [
    {
     "data": {
      "text/plain": [
       "tensor([[ True],\n",
       "        [False],\n",
       "        [ True],\n",
       "        ...,\n",
       "        [ True],\n",
       "        [ True],\n",
       "        [ True]])"
      ]
     },
     "execution_count": 79,
     "metadata": {},
     "output_type": "execute_result"
    }
   ],
   "source": [
    "corrects"
   ]
  },
  {
   "cell_type": "code",
   "execution_count": 80,
   "id": "d2bcc72a-e337-488f-96a1-1d4540e8d7a5",
   "metadata": {},
   "outputs": [
    {
     "data": {
      "text/plain": [
       "0.7420135736465454"
      ]
     },
     "execution_count": 80,
     "metadata": {},
     "output_type": "execute_result"
    }
   ],
   "source": [
    "corrects.float().mean().item()"
   ]
  },
  {
   "cell_type": "code",
   "execution_count": 81,
   "id": "c7431091-d665-4055-a44a-c2232678733d",
   "metadata": {},
   "outputs": [],
   "source": [
    "with torch.no_grad(): weights[0] *= 1.00001"
   ]
  },
  {
   "cell_type": "code",
   "execution_count": 82,
   "id": "7cb7c760-f4e7-4618-9fcf-2c283b600e7a",
   "metadata": {},
   "outputs": [
    {
     "data": {
      "text/plain": [
       "0.7420135736465454"
      ]
     },
     "execution_count": 82,
     "metadata": {},
     "output_type": "execute_result"
    }
   ],
   "source": [
    "preds = linear(train_x)\n",
    "((preds>0.0).float() == train_y).float().mean().item()"
   ]
  },
  {
   "cell_type": "code",
   "execution_count": 83,
   "id": "ddabecb8-64cd-4c73-9482-c21f2a16dba6",
   "metadata": {},
   "outputs": [],
   "source": [
    "# Lets say we know Index 0 and two are images of three\n",
    "targets = tensor([1,0,1])"
   ]
  },
  {
   "cell_type": "code",
   "execution_count": 84,
   "id": "b15b7ada-8d19-4bcb-9425-0f4716a62290",
   "metadata": {},
   "outputs": [],
   "source": [
    "# And our models predictions are\n",
    "prds = tensor([0.9, 0.4, 0.2])"
   ]
  },
  {
   "cell_type": "code",
   "execution_count": 85,
   "id": "dc955f15-33d4-4e88-82de-2da8e1312366",
   "metadata": {},
   "outputs": [],
   "source": [
    "def mnist_loss(predictions, targets):\n",
    "    return torch.where(targets == 1, 1-predictions, predictions).mean()"
   ]
  },
  {
   "cell_type": "code",
   "execution_count": 87,
   "id": "e05432ba-0bc3-4a53-984f-934deaca6186",
   "metadata": {},
   "outputs": [
    {
     "data": {
      "text/plain": [
       "tensor([0.1000, 0.4000, 0.8000])"
      ]
     },
     "execution_count": 87,
     "metadata": {},
     "output_type": "execute_result"
    }
   ],
   "source": [
    "torch.where(targets == 1, 1-prds, prds)"
   ]
  },
  {
   "cell_type": "code",
   "execution_count": 94,
   "id": "d2f966e0-02a4-44b1-b838-96aaeb79f008",
   "metadata": {},
   "outputs": [
    {
     "data": {
      "text/plain": [
       "tensor(0.5000)"
      ]
     },
     "execution_count": 94,
     "metadata": {},
     "output_type": "execute_result"
    }
   ],
   "source": [
    "mnist_loss(torch.where(targets == 1, 1-prds, prds) ,targets)"
   ]
  },
  {
   "cell_type": "code",
   "execution_count": 95,
   "id": "5776d89a-f312-4002-940e-396e2758692a",
   "metadata": {},
   "outputs": [
    {
     "data": {
      "text/plain": [
       "tensor(0.2333)"
      ]
     },
     "execution_count": 95,
     "metadata": {},
     "output_type": "execute_result"
    }
   ],
   "source": [
    "mnist_loss(tensor([0.9, 0.4, 0.8]), targets)"
   ]
  },
  {
   "cell_type": "markdown",
   "id": "f6f1abe0-2065-4d9d-abf4-bb2ece169d76",
   "metadata": {},
   "source": [
    "To fix this issue where we need 0 or 1 i.e true or false we use sigmoid function"
   ]
  },
  {
   "cell_type": "code",
   "execution_count": 96,
   "id": "37cb5720-dd37-4534-bca2-2d736889c490",
   "metadata": {},
   "outputs": [],
   "source": [
    "def mnist_loss(predictions, targets):\n",
    "    predictions = predictions.sigmoid()\n",
    "    return torch.where(targets == 1, 1-predictions, predictions).mean()"
   ]
  },
  {
   "cell_type": "markdown",
   "id": "a117b672-e324-4a1d-b5e2-01408a6875ac",
   "metadata": {},
   "source": [
    "## SGD and Mini Batches"
   ]
  },
  {
   "cell_type": "code",
   "execution_count": 98,
   "id": "bf999587-da1e-437f-9539-e68a78b8750e",
   "metadata": {},
   "outputs": [],
   "source": [
    "weights = init_params((28*28, 1))\n",
    "bias = init_params(1)"
   ]
  },
  {
   "cell_type": "code",
   "execution_count": 101,
   "id": "7eb8506c-3087-4ee3-91ee-614486866617",
   "metadata": {},
   "outputs": [
    {
     "data": {
      "text/plain": [
       "(torch.Size([256, 784]), torch.Size([256, 1]))"
      ]
     },
     "execution_count": 101,
     "metadata": {},
     "output_type": "execute_result"
    }
   ],
   "source": [
    "dl = DataLoader(dset, batch_size = 256)\n",
    "xb, yb = first(dl)\n",
    "xb.shape, yb.shape"
   ]
  },
  {
   "cell_type": "code",
   "execution_count": 102,
   "id": "c8dafe52-7d9e-4e37-89a3-37603c8b9c4c",
   "metadata": {},
   "outputs": [],
   "source": [
    "valid_dl = DataLoader(valid_dset, batch_size = 256)"
   ]
  },
  {
   "cell_type": "code",
   "execution_count": 103,
   "id": "7502002c-bedb-4358-aea3-6d07955221d1",
   "metadata": {},
   "outputs": [
    {
     "data": {
      "text/plain": [
       "torch.Size([4, 784])"
      ]
     },
     "execution_count": 103,
     "metadata": {},
     "output_type": "execute_result"
    }
   ],
   "source": [
    "batch = train_x[:4]\n",
    "batch.shape"
   ]
  },
  {
   "cell_type": "code",
   "execution_count": 105,
   "id": "da2eb0f8-d1b0-4d87-98b3-7bdaa6f1e147",
   "metadata": {},
   "outputs": [
    {
     "data": {
      "text/plain": [
       "tensor([[ 3.8543],\n",
       "        [-2.7808],\n",
       "        [-8.7763],\n",
       "        [-5.8233]], grad_fn=<AddBackward0>)"
      ]
     },
     "execution_count": 105,
     "metadata": {},
     "output_type": "execute_result"
    }
   ],
   "source": [
    "preds = linear(batch)\n",
    "preds"
   ]
  },
  {
   "cell_type": "code",
   "execution_count": 114,
   "id": "500a29b5-84d1-4168-a7ed-0aa56c8297c3",
   "metadata": {},
   "outputs": [
    {
     "data": {
      "text/plain": [
       "tensor(0.7398, grad_fn=<MeanBackward0>)"
      ]
     },
     "execution_count": 114,
     "metadata": {},
     "output_type": "execute_result"
    }
   ],
   "source": [
    "loss = mnist_loss(preds, train_y[:4])\n",
    "loss"
   ]
  },
  {
   "cell_type": "code",
   "execution_count": 115,
   "id": "9f17c09c-1801-41e7-8557-ee8a0aff710e",
   "metadata": {},
   "outputs": [
    {
     "data": {
      "text/plain": [
       "(torch.Size([784, 1]), tensor(-0.0028), tensor([-0.0196]))"
      ]
     },
     "execution_count": 115,
     "metadata": {},
     "output_type": "execute_result"
    }
   ],
   "source": [
    "loss.backward()\n",
    "weights.grad.shape, weights.grad.mean(), bias.grad"
   ]
  },
  {
   "cell_type": "code",
   "execution_count": 116,
   "id": "46829dcc-d48a-4bef-a3d5-783fc267fa5f",
   "metadata": {},
   "outputs": [],
   "source": [
    "def calc_grad(xb, yb, model):\n",
    "    preds = model(xb)\n",
    "    loss = mnist_loss(preds, yb)\n",
    "    loss.backward()"
   ]
  },
  {
   "cell_type": "code",
   "execution_count": 118,
   "id": "ee05e1c5-0f38-49e0-ae8d-d7fbac71435c",
   "metadata": {},
   "outputs": [
    {
     "data": {
      "text/plain": [
       "(tensor(-0.0084), tensor([-0.0588]))"
      ]
     },
     "execution_count": 118,
     "metadata": {},
     "output_type": "execute_result"
    }
   ],
   "source": [
    "calc_grad(batch, train_y[:4], linear)\n",
    "weights.grad.mean(), bias.grad"
   ]
  },
  {
   "cell_type": "code",
   "execution_count": 135,
   "id": "46f6f1ee-fb2c-448e-bcbf-b76a94d3357c",
   "metadata": {},
   "outputs": [],
   "source": [
    "def train_epoch(model, lr,params):\n",
    "    for xb, yb in dl:\n",
    "        calc_grad(xb, yb,model)\n",
    "        for p in params:\n",
    "            p.data -= p.grad * lr\n",
    "            p.grad.zero_()\n"
   ]
  },
  {
   "cell_type": "code",
   "execution_count": 136,
   "id": "ed763ea1-7c83-4653-9594-d7a2be86bd58",
   "metadata": {},
   "outputs": [
    {
     "data": {
      "text/plain": [
       "tensor([[ True],\n",
       "        [False],\n",
       "        [False],\n",
       "        [False]])"
      ]
     },
     "execution_count": 136,
     "metadata": {},
     "output_type": "execute_result"
    }
   ],
   "source": [
    "(preds > 0.0).float() == train_y[:4]"
   ]
  },
  {
   "cell_type": "code",
   "execution_count": 137,
   "id": "0bfb22d7-521b-40ae-be72-4e91190aa826",
   "metadata": {},
   "outputs": [],
   "source": [
    "def batch_accuracy(xb, yb):\n",
    "    preds = xb.sigmoid()\n",
    "    correct = (preds > 0.5) == yb\n",
    "    return correct.float().mean()"
   ]
  },
  {
   "cell_type": "code",
   "execution_count": 138,
   "id": "bfc149c7-80e9-453a-97ec-724ca86cf6cb",
   "metadata": {},
   "outputs": [
    {
     "data": {
      "text/plain": [
       "tensor(0.2500)"
      ]
     },
     "execution_count": 138,
     "metadata": {},
     "output_type": "execute_result"
    }
   ],
   "source": [
    "batch_accuracy(linear(batch), train_y[:4])"
   ]
  },
  {
   "cell_type": "code",
   "execution_count": 139,
   "id": "bd73394d-8e4f-4c84-ac47-6bfbf9949ff7",
   "metadata": {},
   "outputs": [],
   "source": [
    "def validate_epoch(model):\n",
    "    accs = [batch_accuracy(model(xb), yb) for xb, yb in valid_dl]\n",
    "    return round(torch.stack(accs).mean().item(), 4)"
   ]
  },
  {
   "cell_type": "code",
   "execution_count": 140,
   "id": "3d05b151-d9c3-4a13-b4f8-1f47f0d0fd5f",
   "metadata": {},
   "outputs": [
    {
     "data": {
      "text/plain": [
       "0.4708"
      ]
     },
     "execution_count": 140,
     "metadata": {},
     "output_type": "execute_result"
    }
   ],
   "source": [
    "validate_epoch(linear)"
   ]
  },
  {
   "cell_type": "code",
   "execution_count": 141,
   "id": "546f861d-9f3c-4758-9be9-9adfa69181c0",
   "metadata": {},
   "outputs": [
    {
     "data": {
      "text/plain": [
       "0.6801"
      ]
     },
     "execution_count": 141,
     "metadata": {},
     "output_type": "execute_result"
    }
   ],
   "source": [
    "lr = 1.\n",
    "params = weights, bias\n",
    "train_epoch(linear, lr, params)\n",
    "validate_epoch(linear)"
   ]
  },
  {
   "cell_type": "code",
   "execution_count": 142,
   "id": "3cd9231e-38a2-457b-994a-5c1f3f501512",
   "metadata": {},
   "outputs": [
    {
     "name": "stdout",
     "output_type": "stream",
     "text": [
      "0.8354 0.8979 0.9247 0.9389 0.9462 0.9536 0.9594 0.9604 0.9623 0.9638 0.9653 0.9662 0.9672 0.9687 0.9697 0.9697 0.9697 0.9716 0.9721 0.9726 "
     ]
    }
   ],
   "source": [
    "for i in range(20):\n",
    "    train_epoch(linear, lr, params)\n",
    "    print(validate_epoch(linear), end = ' ')"
   ]
  },
  {
   "cell_type": "markdown",
   "id": "4fc96496-07f0-4b0a-a1b7-9b170739e203",
   "metadata": {},
   "source": [
    "## Creating optimizer"
   ]
  },
  {
   "cell_type": "code",
   "execution_count": 143,
   "id": "bd11e2b4-e525-4e2a-ab3e-fb94cd09668b",
   "metadata": {},
   "outputs": [],
   "source": [
    "linear_model = nn.Linear(28*28, 1)"
   ]
  },
  {
   "cell_type": "code",
   "execution_count": 145,
   "id": "3160c226-4e87-4e30-9bfa-81d1b4665f72",
   "metadata": {},
   "outputs": [
    {
     "data": {
      "text/plain": [
       "(torch.Size([1, 784]), torch.Size([1]))"
      ]
     },
     "execution_count": 145,
     "metadata": {},
     "output_type": "execute_result"
    }
   ],
   "source": [
    "w,b = linear_model.parameters()\n",
    "w.shape, b.shape"
   ]
  },
  {
   "cell_type": "markdown",
   "id": "be717af4-728b-49c1-ad3d-e2a8fc4fa9eb",
   "metadata": {},
   "source": [
    "## Optimizer class:"
   ]
  },
  {
   "cell_type": "code",
   "execution_count": 147,
   "id": "1ae37870-aacc-4260-8517-c3c6e20c1469",
   "metadata": {},
   "outputs": [],
   "source": [
    "class BasicOptim:\n",
    "    def __init__(self, params, lr): self.params, self.lr = list(params), lr\n",
    "    def step(self, *args, **kwargs):\n",
    "        for p in self.params: p.data -= p.grad.data *self.lr\n",
    "\n",
    "    def zero_grad(self, *args, **kwargs):\n",
    "        for p in self.params: p.grad = None"
   ]
  },
  {
   "cell_type": "code",
   "execution_count": 149,
   "id": "14864e87-a77f-4175-90d0-b318fe730b69",
   "metadata": {},
   "outputs": [],
   "source": [
    "opt = BasicOptim(linear_model.parameters(), lr)"
   ]
  },
  {
   "cell_type": "code",
   "execution_count": 150,
   "id": "eba7b360-108b-4d62-870c-dc77df931e82",
   "metadata": {},
   "outputs": [],
   "source": [
    "def train_epoch(model):\n",
    "    for xb, yb in dl:\n",
    "        calc_grad(xb, yb, model)\n",
    "        opt.step()\n",
    "        opt.zero_grad()"
   ]
  },
  {
   "cell_type": "code",
   "execution_count": 151,
   "id": "62571b1f-82d6-4220-95bb-41f124b0372f",
   "metadata": {},
   "outputs": [
    {
     "data": {
      "text/plain": [
       "0.6144"
      ]
     },
     "execution_count": 151,
     "metadata": {},
     "output_type": "execute_result"
    }
   ],
   "source": [
    "validate_epoch(linear_model)"
   ]
  },
  {
   "cell_type": "code",
   "execution_count": 152,
   "id": "e2a91185-9150-4575-a2a0-d0a55f74efaf",
   "metadata": {},
   "outputs": [],
   "source": [
    "def train_model(model, epochs):\n",
    "    for i in range(epochs):\n",
    "        train_epoch(model)\n",
    "        print(validate_epoch(model), end = ' ')"
   ]
  },
  {
   "cell_type": "code",
   "execution_count": 153,
   "id": "a15c3475-b0d9-4cd8-a6f6-6660cc99e282",
   "metadata": {},
   "outputs": [
    {
     "name": "stdout",
     "output_type": "stream",
     "text": [
      "0.4932 0.8433 0.8398 0.9116 0.9331 0.9492 0.9575 0.9629 0.9663 0.9682 0.9697 0.9717 0.9741 0.9751 0.9761 0.9765 0.9775 0.978 0.978 0.9785 "
     ]
    }
   ],
   "source": [
    "train_model(linear_model, 20)"
   ]
  },
  {
   "cell_type": "code",
   "execution_count": 154,
   "id": "cf321e72-c804-47ed-9ac7-2ffd6c365c35",
   "metadata": {},
   "outputs": [
    {
     "name": "stdout",
     "output_type": "stream",
     "text": [
      "0.4932 0.8184 0.8477 0.9131 0.9351 0.9487 0.9565 0.9629 0.9658 0.9678 0.9702 0.9721 0.9726 0.9746 0.9761 0.9765 0.9775 0.978 0.978 0.978 "
     ]
    }
   ],
   "source": [
    "linear_model = nn.Linear(28*28, 1)\n",
    "opt = SGD(linear_model.parameters(), lr)\n",
    "train_model(linear_model, 20)"
   ]
  },
  {
   "cell_type": "code",
   "execution_count": 157,
   "id": "eb64bcbb-b99b-48f1-bdaf-517ab9579069",
   "metadata": {},
   "outputs": [],
   "source": [
    "dls = DataLoaders(dl, valid_dl)"
   ]
  },
  {
   "cell_type": "code",
   "execution_count": 158,
   "id": "2d9cdb82-a6b2-4417-8942-a1d009aa8f61",
   "metadata": {},
   "outputs": [],
   "source": [
    "learn = Learner(dls, nn.Linear(28*28, 1), opt_func = SGD, loss_func = mnist_loss, metrics = batch_accuracy)"
   ]
  },
  {
   "cell_type": "code",
   "execution_count": 159,
   "id": "d9d62dee-f6c5-40a2-8819-7f694c0759bc",
   "metadata": {},
   "outputs": [
    {
     "data": {
      "text/html": [
       "\n",
       "<style>\n",
       "    /* Turns off some styling */\n",
       "    progress {\n",
       "        /* gets rid of default border in Firefox and Opera. */\n",
       "        border: none;\n",
       "        /* Needs to be in here for Safari polyfill so background images work as expected. */\n",
       "        background-size: auto;\n",
       "    }\n",
       "    progress:not([value]), progress:not([value])::-webkit-progress-bar {\n",
       "        background: repeating-linear-gradient(45deg, #7e7e7e, #7e7e7e 10px, #5c5c5c 10px, #5c5c5c 20px);\n",
       "    }\n",
       "    .progress-bar-interrupted, .progress-bar-interrupted::-webkit-progress-bar {\n",
       "        background: #F44336;\n",
       "    }\n",
       "</style>\n"
      ],
      "text/plain": [
       "<IPython.core.display.HTML object>"
      ]
     },
     "metadata": {},
     "output_type": "display_data"
    },
    {
     "data": {
      "text/html": [
       "<table border=\"1\" class=\"dataframe\">\n",
       "  <thead>\n",
       "    <tr style=\"text-align: left;\">\n",
       "      <th>epoch</th>\n",
       "      <th>train_loss</th>\n",
       "      <th>valid_loss</th>\n",
       "      <th>batch_accuracy</th>\n",
       "      <th>time</th>\n",
       "    </tr>\n",
       "  </thead>\n",
       "  <tbody>\n",
       "    <tr>\n",
       "      <td>0</td>\n",
       "      <td>0.636460</td>\n",
       "      <td>0.503191</td>\n",
       "      <td>0.495584</td>\n",
       "      <td>00:00</td>\n",
       "    </tr>\n",
       "    <tr>\n",
       "      <td>1</td>\n",
       "      <td>0.439500</td>\n",
       "      <td>0.226637</td>\n",
       "      <td>0.800785</td>\n",
       "      <td>00:00</td>\n",
       "    </tr>\n",
       "    <tr>\n",
       "      <td>2</td>\n",
       "      <td>0.164352</td>\n",
       "      <td>0.165101</td>\n",
       "      <td>0.850834</td>\n",
       "      <td>00:00</td>\n",
       "    </tr>\n",
       "    <tr>\n",
       "      <td>3</td>\n",
       "      <td>0.073813</td>\n",
       "      <td>0.101966</td>\n",
       "      <td>0.915604</td>\n",
       "      <td>00:00</td>\n",
       "    </tr>\n",
       "    <tr>\n",
       "      <td>4</td>\n",
       "      <td>0.040385</td>\n",
       "      <td>0.075778</td>\n",
       "      <td>0.934249</td>\n",
       "      <td>00:00</td>\n",
       "    </tr>\n",
       "    <tr>\n",
       "      <td>5</td>\n",
       "      <td>0.027265</td>\n",
       "      <td>0.061227</td>\n",
       "      <td>0.947498</td>\n",
       "      <td>00:00</td>\n",
       "    </tr>\n",
       "    <tr>\n",
       "      <td>6</td>\n",
       "      <td>0.021823</td>\n",
       "      <td>0.051997</td>\n",
       "      <td>0.955839</td>\n",
       "      <td>00:00</td>\n",
       "    </tr>\n",
       "    <tr>\n",
       "      <td>7</td>\n",
       "      <td>0.019363</td>\n",
       "      <td>0.045806</td>\n",
       "      <td>0.963199</td>\n",
       "      <td>00:00</td>\n",
       "    </tr>\n",
       "    <tr>\n",
       "      <td>8</td>\n",
       "      <td>0.018084</td>\n",
       "      <td>0.041443</td>\n",
       "      <td>0.966143</td>\n",
       "      <td>00:00</td>\n",
       "    </tr>\n",
       "    <tr>\n",
       "      <td>9</td>\n",
       "      <td>0.017295</td>\n",
       "      <td>0.038224</td>\n",
       "      <td>0.968106</td>\n",
       "      <td>00:00</td>\n",
       "    </tr>\n",
       "  </tbody>\n",
       "</table>"
      ],
      "text/plain": [
       "<IPython.core.display.HTML object>"
      ]
     },
     "metadata": {},
     "output_type": "display_data"
    }
   ],
   "source": [
    "learn.fit(10, lr)"
   ]
  },
  {
   "cell_type": "code",
   "execution_count": null,
   "id": "12d8ca5a-4841-4c31-8dde-d0079704fb40",
   "metadata": {},
   "outputs": [],
   "source": []
  }
 ],
 "metadata": {
  "kernelspec": {
   "display_name": "Python 3 (ipykernel)",
   "language": "python",
   "name": "python3"
  },
  "language_info": {
   "codemirror_mode": {
    "name": "ipython",
    "version": 3
   },
   "file_extension": ".py",
   "mimetype": "text/x-python",
   "name": "python",
   "nbconvert_exporter": "python",
   "pygments_lexer": "ipython3",
   "version": "3.10.16"
  }
 },
 "nbformat": 4,
 "nbformat_minor": 5
}

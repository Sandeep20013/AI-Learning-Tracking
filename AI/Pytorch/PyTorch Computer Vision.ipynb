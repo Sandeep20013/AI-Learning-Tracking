{
 "cells": [
  {
   "cell_type": "markdown",
   "id": "cc1ae091-02bc-4095-8f9c-98985d4b779d",
   "metadata": {},
   "source": [
    "## Computer Vision Libraries in PyTorch\n",
    "\n",
    "* `torchvision`: base vision library for PyTorch computer vision\n",
    "* `torchvision.datasets`: Get datasets and data loading functions\n",
    "* `torchvision.models`: Get pre-trained computer vision models\n",
    "* `torchvision.transforms`: Functions for manipulating your vision data to be suitable for use with an ML model.\n",
    "* `torch.utils.data.Dataset`: Base dataset class for PyTorch\n",
    "* `torch.utils.data.DataLoader`: Python iterable over a dataset "
   ]
  },
  {
   "cell_type": "code",
   "execution_count": 1,
   "id": "66729d26-325f-452b-96b5-c2b3ff35ab8b",
   "metadata": {},
   "outputs": [
    {
     "name": "stdout",
     "output_type": "stream",
     "text": [
      "2.6.0+cu118\n",
      "0.21.0+cu118\n"
     ]
    }
   ],
   "source": [
    "import torch\n",
    "from torch import nn\n",
    "import torchvision\n",
    "from torchvision import datasets\n",
    "from torchvision.transforms import ToTensor\n",
    "from torch.utils.data import DataLoader\n",
    "import matplotlib.pyplot as plt\n",
    "\n",
    "# Check version\n",
    "print(torch.__version__)\n",
    "print(torchvision.__version__)"
   ]
  },
  {
   "cell_type": "markdown",
   "id": "279882d3-83e5-4a20-bd50-2e0f23fe5764",
   "metadata": {},
   "source": [
    "## 1. Getting dataset\n",
    "\n",
    "FashionMNIST which is take on MNIST database from torchvision.datasets"
   ]
  },
  {
   "cell_type": "code",
   "execution_count": 2,
   "id": "d6e16a0a-1231-468d-a66e-be6803826ce0",
   "metadata": {},
   "outputs": [],
   "source": [
    "train_data = datasets.FashionMNIST(\n",
    "    root = 'data/', \n",
    "    train=True, # Download training dataset if true, else testing datasets \n",
    "    download= True,\n",
    "    transform= ToTensor(),\n",
    "    target_transform= None\n",
    ")\n",
    "test_data = datasets.FashionMNIST(\n",
    "    root = 'data/',\n",
    "    train = False,\n",
    "    download = True,\n",
    "    transform = ToTensor(),\n",
    "    target_transform= None\n",
    ")\n"
   ]
  },
  {
   "cell_type": "code",
   "execution_count": 3,
   "id": "770a3cb0-bbf2-45c8-889a-5b664418a1a1",
   "metadata": {},
   "outputs": [
    {
     "data": {
      "text/plain": [
       "(60000, 10000)"
      ]
     },
     "execution_count": 3,
     "metadata": {},
     "output_type": "execute_result"
    }
   ],
   "source": [
    "len(train_data), len(test_data)"
   ]
  },
  {
   "cell_type": "code",
   "execution_count": 4,
   "id": "1989b143-9fac-44ab-9d3f-8276bcee3ce1",
   "metadata": {},
   "outputs": [],
   "source": [
    "# See first training example\n",
    "image, label = train_data[0]"
   ]
  },
  {
   "cell_type": "code",
   "execution_count": 6,
   "id": "6e8fdb7e-bcb3-4697-a646-ee360d9dd6ff",
   "metadata": {},
   "outputs": [
    {
     "data": {
      "text/plain": [
       "9"
      ]
     },
     "execution_count": 6,
     "metadata": {},
     "output_type": "execute_result"
    }
   ],
   "source": [
    "label"
   ]
  },
  {
   "cell_type": "code",
   "execution_count": 7,
   "id": "b2ae2dfe-dcc8-49eb-9a59-8ad51931dd8e",
   "metadata": {},
   "outputs": [
    {
     "data": {
      "text/plain": [
       "['T-shirt/top',\n",
       " 'Trouser',\n",
       " 'Pullover',\n",
       " 'Dress',\n",
       " 'Coat',\n",
       " 'Sandal',\n",
       " 'Shirt',\n",
       " 'Sneaker',\n",
       " 'Bag',\n",
       " 'Ankle boot']"
      ]
     },
     "execution_count": 7,
     "metadata": {},
     "output_type": "execute_result"
    }
   ],
   "source": [
    "train_data.classes"
   ]
  },
  {
   "cell_type": "code",
   "execution_count": 8,
   "id": "4e462f1d-c347-4933-bebf-3976eeeb21b6",
   "metadata": {},
   "outputs": [
    {
     "data": {
      "text/plain": [
       "{'T-shirt/top': 0,\n",
       " 'Trouser': 1,\n",
       " 'Pullover': 2,\n",
       " 'Dress': 3,\n",
       " 'Coat': 4,\n",
       " 'Sandal': 5,\n",
       " 'Shirt': 6,\n",
       " 'Sneaker': 7,\n",
       " 'Bag': 8,\n",
       " 'Ankle boot': 9}"
      ]
     },
     "execution_count": 8,
     "metadata": {},
     "output_type": "execute_result"
    }
   ],
   "source": [
    "class_to_idx = train_data.class_to_idx\n",
    "class_to_idx"
   ]
  },
  {
   "cell_type": "code",
   "execution_count": 9,
   "id": "17eb8aeb-b3a5-4fe3-b526-63297c1828dc",
   "metadata": {},
   "outputs": [
    {
     "data": {
      "text/plain": [
       "torch.Size([1, 28, 28])"
      ]
     },
     "execution_count": 9,
     "metadata": {},
     "output_type": "execute_result"
    }
   ],
   "source": [
    "# Check shape of image\n",
    "image.shape"
   ]
  },
  {
   "cell_type": "markdown",
   "id": "56656c6d-db9d-4bd7-83f9-aa0019062365",
   "metadata": {},
   "source": [
    "## 1.2 Visualizing data"
   ]
  },
  {
   "cell_type": "code",
   "execution_count": 10,
   "id": "5821896b-a639-4145-88a5-ad6a7bad3877",
   "metadata": {},
   "outputs": [
    {
     "data": {
      "text/plain": [
       "Text(0.5, 1.0, '9')"
      ]
     },
     "execution_count": 10,
     "metadata": {},
     "output_type": "execute_result"
    },
    {
     "data": {
      "image/png": "[encoded data removed]",
      "text/plain": [
       "<Figure size 640x480 with 1 Axes>"
      ]
     },
     "metadata": {},
     "output_type": "display_data"
    }
   ],
   "source": [
    "image, label = train_data[0]\n",
    "plt.imshow(image.squeeze())\n",
    "plt.title(label)"
   ]
  },
  {
   "cell_type": "code",
   "execution_count": 11,
   "id": "0fe5349b-c977-40a2-b098-e7dab9acd8aa",
   "metadata": {},
   "outputs": [
    {
     "data": {
      "text/plain": [
       "<matplotlib.image.AxesImage at 0x20771182350>"
      ]
     },
     "execution_count": 11,
     "metadata": {},
     "output_type": "execute_result"
    },
    {
     "data": {
      "image/png": "[encoded data removed]",
      "text/plain": [
       "<Figure size 640x480 with 1 Axes>"
      ]
     },
     "metadata": {},
     "output_type": "display_data"
    }
   ],
   "source": [
    "plt.imshow(image.squeeze(), cmap = 'grey')"
   ]
  },
  {
   "cell_type": "code",
   "execution_count": 12,
   "id": "f222d990-2a71-4641-9db7-e3d1305c5bf1",
   "metadata": {},
   "outputs": [
    {
     "data": {
      "text/plain": [
       "['T-shirt/top',\n",
       " 'Trouser',\n",
       " 'Pullover',\n",
       " 'Dress',\n",
       " 'Coat',\n",
       " 'Sandal',\n",
       " 'Shirt',\n",
       " 'Sneaker',\n",
       " 'Bag',\n",
       " 'Ankle boot']"
      ]
     },
     "execution_count": 12,
     "metadata": {},
     "output_type": "execute_result"
    }
   ],
   "source": [
    "class_names = train_data.classes\n",
    "class_names"
   ]
  },
  {
   "cell_type": "code",
   "execution_count": 13,
   "id": "e2b58f34-ba01-45f8-9f85-95d45ac9abd0",
   "metadata": {},
   "outputs": [
    {
     "data": {
      "image/png": "[encoded data removed]",
      "text/plain": [
       "<Figure size 900x900 with 16 Axes>"
      ]
     },
     "metadata": {},
     "output_type": "display_data"
    }
   ],
   "source": [
    "# plot more image\n",
    "torch.manual_seed(42)\n",
    "fig = plt.figure(figsize= (9,9))\n",
    "rows, cols = 4,4\n",
    "for i in range(1, rows * cols + 1):\n",
    "    random_idx = torch.randint(0, len(train_data), size = [1]).item()\n",
    "    img, label = train_data[random_idx]\n",
    "    fig.add_subplot(rows, cols, i)\n",
    "    plt.imshow(img.squeeze(), cmap = 'grey')\n",
    "    plt.title(class_names[label])\n",
    "    plt.axis(False)"
   ]
  },
  {
   "cell_type": "markdown",
   "id": "8c3e3ac7-e00b-4e15-b494-11d4b876590a",
   "metadata": {},
   "source": [
    "## 2. Prepare dataloader\n",
    "\n",
    "Right now our data is in the form of PyTorch datasets.\n",
    "\n",
    "Dataloader turns our dataset into a python iterable.\n",
    "\n",
    "More specifically, we want to turn our data into batches or mini batches.\n",
    "\n",
    "Why?\n",
    "\n",
    "1. It is more computationally efficient, as in we cant store 60000 images in one go, so we break it down into 32 images per batch.\n",
    "\n",
    "2. It gives our neural networks more chances to update its gradient per epoch"
   ]
  },
  {
   "cell_type": "code",
   "execution_count": 14,
   "id": "094da5d3-15c4-443a-8f2d-b474cd0f8a95",
   "metadata": {},
   "outputs": [],
   "source": [
    "# Setup batch size \n",
    "BATCH_SIZE = 32\n",
    "# turn datasets into iterables\n",
    "train_dataloader = DataLoader(\n",
    "    dataset= train_data,\n",
    "    batch_size=BATCH_SIZE,\n",
    "    shuffle= True\n",
    ")\n",
    "test_dataloader = DataLoader(\n",
    "    dataset = test_data,\n",
    "    batch_size = BATCH_SIZE,\n",
    "    shuffle= False\n",
    ")"
   ]
  },
  {
   "cell_type": "code",
   "execution_count": 15,
   "id": "769e32c2-a308-4792-b418-4cf82c108236",
   "metadata": {},
   "outputs": [
    {
     "data": {
      "text/plain": [
       "(<torch.utils.data.dataloader.DataLoader at 0x2077165eb00>,\n",
       " <torch.utils.data.dataloader.DataLoader at 0x2077167ae00>)"
      ]
     },
     "execution_count": 15,
     "metadata": {},
     "output_type": "execute_result"
    }
   ],
   "source": [
    "train_dataloader, test_dataloader"
   ]
  },
  {
   "cell_type": "code",
   "execution_count": 16,
   "id": "7fb9c3e0-e2af-4ff9-881c-d62614b2fe5b",
   "metadata": {},
   "outputs": [],
   "source": [
    "# Check out what's inside training dataloader\n",
    "\n",
    "train_features_batch, train_labels_batch = next(iter(train_dataloader))"
   ]
  },
  {
   "cell_type": "code",
   "execution_count": 17,
   "id": "79640aac-0091-4e77-833b-2e9b3bfeeb19",
   "metadata": {},
   "outputs": [
    {
     "data": {
      "text/plain": [
       "(torch.Size([32, 1, 28, 28]), torch.Size([32]))"
      ]
     },
     "execution_count": 17,
     "metadata": {},
     "output_type": "execute_result"
    }
   ],
   "source": [
    "train_features_batch.shape, train_labels_batch.shape"
   ]
  },
  {
   "cell_type": "code",
   "execution_count": 18,
   "id": "5b1aca65-6ec6-4d56-9120-86ee6668c76f",
   "metadata": {},
   "outputs": [
    {
     "data": {
      "image/png": "[encoded data removed]",
      "text/plain": [
       "<Figure size 640x480 with 1 Axes>"
      ]
     },
     "metadata": {},
     "output_type": "display_data"
    }
   ],
   "source": [
    "# Show sample \n",
    "\n",
    "# torch.manual_seed(42)\n",
    "random_idx = torch.randint(0, len(train_features_batch), size = [1]).item()\n",
    "img, label = train_features_batch[random_idx], train_labels_batch[random_idx]\n",
    "plt.imshow(img.squeeze(), cmap = 'grey')\n",
    "plt.title(class_names[label])\n",
    "plt.axis(False);\n"
   ]
  },
  {
   "cell_type": "markdown",
   "id": "a2a4377b-6978-4c4e-b10b-7eaafcb9b1f7",
   "metadata": {},
   "source": [
    "## 3. Build Baseline Model\n",
    "\n",
    "When starting to build a series of machine learning model its best practice to build a baseline model.\n",
    "\n",
    "A baseline model is a simple model that we will try to improve upon with subsequent models.\n",
    "\n",
    "In other words start simply and add complexity when neccessary."
   ]
  },
  {
   "cell_type": "code",
   "execution_count": 19,
   "id": "4d504ea9-1c81-4289-90c8-b73bf5bb131d",
   "metadata": {},
   "outputs": [
    {
     "data": {
      "text/plain": [
       "torch.Size([1, 28, 28])"
      ]
     },
     "execution_count": 19,
     "metadata": {},
     "output_type": "execute_result"
    }
   ],
   "source": [
    "# Create a flatten layer\n",
    "\n",
    "flatten_model = nn.Flatten()\n",
    "\n",
    "# Get a sinlge sample \n",
    "x = train_features_batch[0]\n",
    "x.shape"
   ]
  },
  {
   "cell_type": "code",
   "execution_count": 20,
   "id": "79a66c15-aa1d-40c6-8dd5-92e3aa00702b",
   "metadata": {},
   "outputs": [
    {
     "data": {
      "text/plain": [
       "torch.Size([1, 784])"
      ]
     },
     "execution_count": 20,
     "metadata": {},
     "output_type": "execute_result"
    }
   ],
   "source": [
    "flatten_model(x).shape # Perform forward pass"
   ]
  },
  {
   "cell_type": "code",
   "execution_count": 21,
   "id": "1cadc033-14ae-4710-b2d7-cca294657a99",
   "metadata": {},
   "outputs": [],
   "source": [
    "from torch import nn\n",
    "\n",
    "class FashionMNISTModelV0(nn.Module):\n",
    "    def __init__(self, input_shape: int, hidden_units: int, output_shape: int):\n",
    "        super().__init__() \n",
    "        self.layers = nn.Sequential(\n",
    "            nn.Flatten(),\n",
    "            nn.Linear(in_features = input_shape, out_features = hidden_units),\n",
    "            nn.Linear(in_features = hidden_units, out_features= output_shape)\n",
    "        )\n",
    "    def forward(self, x):\n",
    "        return self.layers(x)"
   ]
  },
  {
   "cell_type": "code",
   "execution_count": 22,
   "id": "604c4718-a512-4bb7-8d9f-4d50513d38ca",
   "metadata": {},
   "outputs": [
    {
     "data": {
      "text/plain": [
       "FashionMNISTModelV0(\n",
       "  (layers): Sequential(\n",
       "    (0): Flatten(start_dim=1, end_dim=-1)\n",
       "    (1): Linear(in_features=784, out_features=10, bias=True)\n",
       "    (2): Linear(in_features=10, out_features=10, bias=True)\n",
       "  )\n",
       ")"
      ]
     },
     "execution_count": 22,
     "metadata": {},
     "output_type": "execute_result"
    }
   ],
   "source": [
    "torch.manual_seed(42)\n",
    "model_0 = FashionMNISTModelV0(\n",
    "    input_shape= 28 * 28,\n",
    "    hidden_units= 10, # How many units in hidden layer\n",
    "    output_shape= len(class_names)\n",
    ").to(\"cpu\")\n",
    "model_0"
   ]
  },
  {
   "cell_type": "code",
   "execution_count": 23,
   "id": "459719d3-7781-43d9-87b4-e7ba5ff0bb8d",
   "metadata": {},
   "outputs": [
    {
     "data": {
      "text/plain": [
       "tensor([[-0.0315,  0.3171,  0.0531, -0.2525,  0.5959,  0.2112,  0.3233,  0.2694,\n",
       "         -0.1004,  0.0157]], grad_fn=<AddmmBackward0>)"
      ]
     },
     "execution_count": 23,
     "metadata": {},
     "output_type": "execute_result"
    }
   ],
   "source": [
    "dummy_x = torch.rand([1,1,28,28])\n",
    "model_0(dummy_x)"
   ]
  },
  {
   "cell_type": "code",
   "execution_count": 24,
   "id": "1bf97014-b8f5-4efe-a75a-47b0638488cc",
   "metadata": {},
   "outputs": [
    {
     "data": {
      "text/plain": [
       "OrderedDict([('layers.1.weight',\n",
       "              tensor([[ 0.0273,  0.0296, -0.0084,  ..., -0.0142,  0.0093,  0.0135],\n",
       "                      [-0.0188, -0.0354,  0.0187,  ..., -0.0106, -0.0001,  0.0115],\n",
       "                      [-0.0008,  0.0017,  0.0045,  ..., -0.0127, -0.0188,  0.0059],\n",
       "                      ...,\n",
       "                      [-0.0116,  0.0273, -0.0344,  ...,  0.0176,  0.0283, -0.0011],\n",
       "                      [-0.0230,  0.0257,  0.0291,  ..., -0.0187, -0.0087,  0.0001],\n",
       "                      [ 0.0176, -0.0147,  0.0053,  ..., -0.0336, -0.0221,  0.0205]])),\n",
       "             ('layers.1.bias',\n",
       "              tensor([-0.0093,  0.0283, -0.0033,  0.0255,  0.0017,  0.0037, -0.0302, -0.0123,\n",
       "                       0.0018,  0.0163])),\n",
       "             ('layers.2.weight',\n",
       "              tensor([[ 0.0614, -0.0687,  0.0021,  0.2718,  0.2109,  0.1079, -0.2279, -0.1063,\n",
       "                        0.2019,  0.2847],\n",
       "                      [-0.1495,  0.1344, -0.0740,  0.2006, -0.0475, -0.2514, -0.3130, -0.0118,\n",
       "                        0.0932, -0.1864],\n",
       "                      [ 0.2488,  0.1500,  0.1907,  0.1457, -0.3050, -0.0580,  0.1643,  0.1565,\n",
       "                       -0.2877, -0.1792],\n",
       "                      [ 0.2305, -0.2618,  0.2397, -0.0610,  0.0232,  0.1542,  0.0851, -0.2027,\n",
       "                        0.1030, -0.2715],\n",
       "                      [-0.1596, -0.0555, -0.0633,  0.2302, -0.1726,  0.2654,  0.1473,  0.1029,\n",
       "                        0.2252, -0.2160],\n",
       "                      [-0.2725,  0.0118,  0.1559,  0.1596,  0.0132,  0.3024,  0.1124,  0.1366,\n",
       "                       -0.1533,  0.0965],\n",
       "                      [-0.1184, -0.2555, -0.2057, -0.1909, -0.0477, -0.1324,  0.2905,  0.1307,\n",
       "                       -0.2629,  0.0133],\n",
       "                      [ 0.2727, -0.0127,  0.0513,  0.0863, -0.1043, -0.2047, -0.1185, -0.0825,\n",
       "                        0.2488, -0.2571],\n",
       "                      [ 0.0425, -0.1209, -0.0336, -0.0281, -0.1227,  0.0730,  0.0747, -0.1816,\n",
       "                        0.1943,  0.2853],\n",
       "                      [-0.1310,  0.0645, -0.1171,  0.2168, -0.0245, -0.2820,  0.0736,  0.2621,\n",
       "                        0.0012, -0.0810]])),\n",
       "             ('layers.2.bias',\n",
       "              tensor([-0.0087,  0.1791,  0.2712, -0.0791,  0.1685,  0.1762,  0.2825,  0.2266,\n",
       "                      -0.2612, -0.2613]))])"
      ]
     },
     "execution_count": 24,
     "metadata": {},
     "output_type": "execute_result"
    }
   ],
   "source": [
    "model_0.state_dict()"
   ]
  },
  {
   "cell_type": "markdown",
   "id": "010bf6a7-95dc-4611-b2a4-97ec4f55230c",
   "metadata": {},
   "source": [
    "### 3.1 Setup loss function, optimizer and evaluation metrics:\n",
    "\n",
    "* Loss Function: Since we're working with multiclass data our loss function will be `nn.CrossEntropyLoss()`\n",
    "* Optimizer - Our optimizer will be `torch.optim.SGD()` (stochastic gradient descent)\n",
    "* Evaluation metrics: Since we're working with classification we will use Accuracy."
   ]
  },
  {
   "cell_type": "code",
   "execution_count": 25,
   "id": "7c5c09ee-661d-4d54-8879-b8ff573f53eb",
   "metadata": {},
   "outputs": [
    {
     "name": "stdout",
     "output_type": "stream",
     "text": [
      "Script already exists\n"
     ]
    }
   ],
   "source": [
    "# Download helper functions from git repo\n",
    "\n",
    "import requests\n",
    "from pathlib import Path\n",
    "\n",
    "if Path('helper_functions.py').is_file():\n",
    "    print(\"Script already exists\")\n",
    "else:\n",
    "    request = requests.get(\"https://raw.githubusercontent.com/mrdbourke/pytorch-deep-learning/refs/heads/main/helper_functions.py\")\n",
    "    with open(\"helper_functions.py\", \"wb\") as f:\n",
    "        f.write(request.content)\n",
    "        "
   ]
  },
  {
   "cell_type": "code",
   "execution_count": 26,
   "id": "b8e2ccc0-d30c-430d-85b7-6fd0206b5efb",
   "metadata": {},
   "outputs": [],
   "source": [
    "from helper_functions import accuracy_fn\n",
    "\n",
    "# Setup loss function\n",
    "loss_fn = nn.CrossEntropyLoss()\n",
    "optimizer = torch.optim.SGD(\n",
    "    params = model_0.parameters(),\n",
    "    lr = 0.1\n",
    ")"
   ]
  },
  {
   "cell_type": "markdown",
   "id": "7e5b3bd6-ff15-47e7-98de-b0121d535492",
   "metadata": {},
   "source": [
    "### 3.2 Creating function to time our experiments:\n",
    "\n",
    "Two things we want to track are:\n",
    "* Our model's performance (loss and accuracy values)\n",
    "* How fast it runs"
   ]
  },
  {
   "cell_type": "code",
   "execution_count": 27,
   "id": "5a2304ad-2e20-458b-9313-9f04ca2c31a4",
   "metadata": {},
   "outputs": [],
   "source": [
    "from timeit import default_timer as timer\n",
    "\n",
    "def print_train_time(start: float, end: float, device: torch.device = None):\n",
    "    \"\"\"Prints difference between start and end time.\"\"\"\n",
    "    total_time = end - start\n",
    "    print(f\"Train time on {device}: {total_time:.3f} seconds\")\n",
    "    return total_time"
   ]
  },
  {
   "cell_type": "code",
   "execution_count": 28,
   "id": "68ec69f0-2681-49be-bc15-ae6c9ef7c521",
   "metadata": {},
   "outputs": [
    {
     "name": "stdout",
     "output_type": "stream",
     "text": [
      "Train time on CPU: 0.000 seconds\n"
     ]
    },
    {
     "data": {
      "text/plain": [
       "2.25000039790757e-05"
      ]
     },
     "execution_count": 28,
     "metadata": {},
     "output_type": "execute_result"
    }
   ],
   "source": [
    "start_time = timer()\n",
    "## SOme code\n",
    "end_time = timer()\n",
    "print_train_time(start_time, end_time, \"CPU\")"
   ]
  },
  {
   "cell_type": "markdown",
   "id": "2cb1c140-07e0-4e89-8013-ed707dac767b",
   "metadata": {},
   "source": [
    "## 3.3 Creating a training loop and training a model on batches of data:\n",
    "\n",
    "1. Loop through epochs\n",
    "2. Loop through training batches, perform training steps, calculate training loss *per batch*\n",
    "3. Loop through testing batches, perform testing steps, calculate the test loss *per batch*.\n",
    "4. Print out what's happening\n",
    "5. Time it."
   ]
  },
  {
   "cell_type": "code",
   "execution_count": 30,
   "id": "1b114b99-cfc5-42e2-a179-e8fa8d25dc5f",
   "metadata": {},
   "outputs": [
    {
     "data": {
      "application/vnd.jupyter.widget-view+json": {
       "model_id": "3eb17174ae4844c5ad6ea57db5805197",
       "version_major": 2,
       "version_minor": 0
      },
      "text/plain": [
       "  0%|          | 0/3 [00:00<?, ?it/s]"
      ]
     },
     "metadata": {},
     "output_type": "display_data"
    },
    {
     "name": "stdout",
     "output_type": "stream",
     "text": [
      "Epoch 0 \n",
      "----\n",
      "Looked at 0/60000 samples\n",
      "Looked at 12800/60000 samples\n",
      "Looked at 25600/60000 samples\n",
      "Looked at 38400/60000 samples\n",
      "Looked at 51200/60000 samples\n",
      "\n",
      " Train Loss: 0.5904 | Test Loss: 0.5095 |  Test Accuracy: 82.0387\n",
      "Epoch 1 \n",
      "----\n",
      "Looked at 0/60000 samples\n",
      "Looked at 12800/60000 samples\n",
      "Looked at 25600/60000 samples\n",
      "Looked at 38400/60000 samples\n",
      "Looked at 51200/60000 samples\n",
      "\n",
      " Train Loss: 0.4763 | Test Loss: 0.4799 |  Test Accuracy: 83.1969\n",
      "Epoch 2 \n",
      "----\n",
      "Looked at 0/60000 samples\n",
      "Looked at 12800/60000 samples\n",
      "Looked at 25600/60000 samples\n",
      "Looked at 38400/60000 samples\n",
      "Looked at 51200/60000 samples\n",
      "\n",
      " Train Loss: 0.4550 | Test Loss: 0.4766 |  Test Accuracy: 83.4265\n",
      "Train time on cpu: 26.596 seconds\n"
     ]
    }
   ],
   "source": [
    "# Import tqdm for progress bar \n",
    "from tqdm.auto import tqdm\n",
    "\n",
    "# Set the seed and start timer\n",
    "torch.manual_seed(42)\n",
    "train_time_start_cpu= timer()\n",
    "\n",
    "# Set number of epochs\n",
    "EPOCHS = 3\n",
    "\n",
    "# Create training and test loop\n",
    "\n",
    "for epoch in tqdm(range(EPOCHS)):\n",
    "    print(f\"Epoch {epoch} \\n----\")\n",
    "    # Training \n",
    "    train_loss = 0\n",
    "    # Add a loop to through the training batches\n",
    "    for batch, (X, y) in enumerate(train_dataloader):\n",
    "        model_0.train()\n",
    "        # 1. Foward pass\n",
    "        y_pred = model_0(X)\n",
    "        # 2. Calculate loss (per batch)\n",
    "        loss = loss_fn(y_pred, y)\n",
    "        train_loss+= loss # accumulate train loss\n",
    "        #3. Optimizer zero grad\n",
    "        optimizer.zero_grad()\n",
    "        #4. Loss backward\n",
    "        loss.backward()\n",
    "        #5. Optimizer step\n",
    "        optimizer.step()\n",
    "        # Print\n",
    "        if batch % 400 == 0:\n",
    "            print(f\"Looked at {batch * len(X)}/{len(train_dataloader.dataset)} samples\")\n",
    "    # Divide total train loss by length of train dataloader\n",
    "    train_loss /= len(train_dataloader)\n",
    "\n",
    "    ### Testing \n",
    "    test_loss, test_accuracy = 0,0\n",
    "    model_0.eval()\n",
    "    with torch.inference_mode():\n",
    "        for X_test, y_test in test_dataloader:\n",
    "            # Forward pass\n",
    "            test_pred = model_0(X_test)\n",
    "            # Caluclate loss\n",
    "            test_loss += loss_fn(test_pred, y_test)\n",
    "            # Calculate accuracy\n",
    "            test_accuracy += accuracy_fn(y_true= y_test, y_pred = test_pred.argmax(dim = 1))\n",
    "        # Calculate test loss average per batch\n",
    "        test_loss /= len(test_dataloader)\n",
    "        # Calculate test accuracy per batch\n",
    "        test_accuracy /= len(test_dataloader)\n",
    "    print(f\"\\n Train Loss: {train_loss:.4f} | Test Loss: {test_loss:.4f} |  Test Accuracy: {test_accuracy:.4f}\")\n",
    "train_time_end_cpu = timer()\n",
    "total_train_time_model_0 = print_train_time(\n",
    "    start = train_time_start_cpu,\n",
    "    end = train_time_end_cpu,\n",
    "    device=str(next(model_0.parameters()).device)\n",
    ")"
   ]
  },
  {
   "cell_type": "markdown",
   "id": "9e730a5a-8b01-42fa-94ec-a157a7e32300",
   "metadata": {},
   "source": [
    "## 4. Make predictions and get model 0 results\n",
    "\n"
   ]
  },
  {
   "cell_type": "code",
   "execution_count": 46,
   "id": "7423d1e7-14d4-4b22-9ed9-2aab40624c2a",
   "metadata": {},
   "outputs": [],
   "source": [
    "torch.manual_seed(42)\n",
    "def evaluate_model(model: torch.nn.Module,\n",
    "                   dataloader: torch.utils.data.dataloader,\n",
    "                   loss_fn: torch.nn.Module,\n",
    "                   accuracy_fn, \n",
    "                   device: torch.device = device):\n",
    "    \"\"\"Return a dictonary of containing results of model predicting on dataloader.\"\"\"\n",
    "    loss, acc = 0,0\n",
    "    model.eval()\n",
    "    with torch.inference_mode():\n",
    "        for X, y in tqdm(dataloader):\n",
    "            X, y = X.to(device), y.to(device)\n",
    "            # Make preds\n",
    "            y_pred = model(X)\n",
    "            # Accumulate loss and accuracy per batch\n",
    "            loss += loss_fn(y_pred, y)\n",
    "            acc += accuracy_fn(y_true = y, y_pred= y_pred.argmax(dim = 1))\n",
    "        # Scale loss and accuracy to find average loss and accuray per batch\n",
    "        loss /= len(dataloader)\n",
    "        acc /= len(dataloader)\n",
    "    return {\n",
    "        \"Model Name\": model.__class__.__name__, # Only works when model is created with class\n",
    "        \"Model Loss\": loss.item(),\n",
    "        \"Model accuracy\": acc\n",
    "    }"
   ]
  },
  {
   "cell_type": "markdown",
   "id": "d7d63476-5eae-486a-b2f4-fcdbbde2a941",
   "metadata": {},
   "source": [
    "## 5. Setup device agnostic code"
   ]
  },
  {
   "cell_type": "code",
   "execution_count": 43,
   "id": "b75eb786-8747-4480-b92d-81e792528c25",
   "metadata": {},
   "outputs": [
    {
     "data": {
      "application/vnd.jupyter.widget-view+json": {
       "model_id": "ab307804cc3049aeafb8ad366baa1023",
       "version_major": 2,
       "version_minor": 0
      },
      "text/plain": [
       "  0%|          | 0/313 [00:00<?, ?it/s]"
      ]
     },
     "metadata": {},
     "output_type": "display_data"
    }
   ],
   "source": [
    "# Calculate model 0 results on test dataset\n",
    "model_0_results = evaluate_model(model_0, test_dataloader, loss_fn, accuracy_fn)"
   ]
  },
  {
   "cell_type": "code",
   "execution_count": 44,
   "id": "82225a24-6c24-4809-85a4-de58e126aed0",
   "metadata": {},
   "outputs": [
    {
     "data": {
      "text/plain": [
       "'cuda'"
      ]
     },
     "execution_count": 44,
     "metadata": {},
     "output_type": "execute_result"
    }
   ],
   "source": [
    "device = \"cuda\" if torch.cuda.is_available else \"cpu\"\n",
    "device"
   ]
  },
  {
   "cell_type": "code",
   "execution_count": 45,
   "id": "d85dbada-0955-4483-9f51-14d3fa818afa",
   "metadata": {},
   "outputs": [
    {
     "data": {
      "text/plain": [
       "{'Model Name': 'FashionMNISTModelV0',\n",
       " 'Model Loss': 0.47663894295692444,\n",
       " 'Model accuracy': 83.42651757188499}"
      ]
     },
     "execution_count": 45,
     "metadata": {},
     "output_type": "execute_result"
    }
   ],
   "source": [
    "model_0_results"
   ]
  },
  {
   "cell_type": "code",
   "execution_count": null,
   "id": "a8dce625-de9e-4012-93be-7c66491e4700",
   "metadata": {},
   "outputs": [],
   "source": []
  },
  {
   "cell_type": "markdown",
   "id": "a635ee6b-aa0a-4b13-9943-12af8e8de7e7",
   "metadata": {},
   "source": [
    "## 6. Model 1: Building a better model with non-linearity"
   ]
  },
  {
   "cell_type": "code",
   "execution_count": 47,
   "id": "1de64194-afb9-4a88-9148-22ae82e6a7d7",
   "metadata": {},
   "outputs": [],
   "source": [
    "class FashionMNISTModelV1(nn.Module):\n",
    "    def __init__(self, input_shape: int, hidden_units: int, output_shape: int):\n",
    "        super().__init__()\n",
    "        self.layers = nn.Sequential(\n",
    "            nn.Flatten(),\n",
    "            nn.Linear(in_features= input_shape, out_features= hidden_units),\n",
    "            nn.ReLU(),\n",
    "            nn.Linear(in_features= hidden_units,out_features = output_shape),\n",
    "        )\n",
    "    def forward(self, x):\n",
    "        return self.layers(x)\n",
    "        "
   ]
  },
  {
   "cell_type": "code",
   "execution_count": 48,
   "id": "2389ec54-b673-4f6b-9411-53c79c1c31e8",
   "metadata": {},
   "outputs": [],
   "source": [
    "model_1 = FashionMNISTModelV1(\n",
    "    input_shape= 28 * 28,\n",
    "    hidden_units = 32,\n",
    "    output_shape=len(class_names)\n",
    ").to(device)"
   ]
  },
  {
   "cell_type": "code",
   "execution_count": 49,
   "id": "73dac156-aedf-4d72-a828-459dd8d4fc1c",
   "metadata": {},
   "outputs": [
    {
     "data": {
      "text/plain": [
       "OrderedDict([('layers.1.weight',\n",
       "              tensor([[ 0.0273,  0.0296, -0.0084,  ..., -0.0142,  0.0093,  0.0135],\n",
       "                      [-0.0188, -0.0354,  0.0187,  ..., -0.0106, -0.0001,  0.0115],\n",
       "                      [-0.0008,  0.0017,  0.0045,  ..., -0.0127, -0.0188,  0.0059],\n",
       "                      ...,\n",
       "                      [-0.0023,  0.0071,  0.0330,  ...,  0.0164, -0.0095, -0.0053],\n",
       "                      [ 0.0167, -0.0324,  0.0086,  ..., -0.0090,  0.0203, -0.0100],\n",
       "                      [-0.0118,  0.0119, -0.0080,  ..., -0.0193,  0.0170,  0.0246]],\n",
       "                     device='cuda:0')),\n",
       "             ('layers.1.bias',\n",
       "              tensor([ 0.0161, -0.0159,  0.0234,  0.0084, -0.0339, -0.0047, -0.0323, -0.0125,\n",
       "                       0.0065, -0.0339, -0.0036,  0.0208,  0.0018,  0.0308, -0.0056, -0.0006,\n",
       "                      -0.0294, -0.0100,  0.0059,  0.0271,  0.0328, -0.0049,  0.0312,  0.0041,\n",
       "                       0.0242,  0.0212, -0.0234,  0.0345,  0.0085, -0.0198, -0.0343,  0.0012],\n",
       "                     device='cuda:0')),\n",
       "             ('layers.3.weight',\n",
       "              tensor([[-0.0630,  0.1486,  0.0598, -0.0858,  0.0406, -0.1010,  0.1632,  0.0980,\n",
       "                        0.0875,  0.0770, -0.0174, -0.0463,  0.0163, -0.1765, -0.0924,  0.0205,\n",
       "                        0.1294,  0.0004, -0.0606,  0.1201,  0.0473, -0.1084,  0.0779,  0.0448,\n",
       "                       -0.1452,  0.0331, -0.1172,  0.1611, -0.1113, -0.0304, -0.0737,  0.0163],\n",
       "                      [ 0.1541, -0.0840,  0.0566, -0.0379, -0.0748,  0.0059,  0.1328, -0.1597,\n",
       "                       -0.0737,  0.1342, -0.0850,  0.0408,  0.0665,  0.0146,  0.0142, -0.1183,\n",
       "                       -0.0277, -0.0340, -0.0090, -0.0195, -0.0413, -0.1051,  0.1259,  0.0513,\n",
       "                        0.0590,  0.0877,  0.0037,  0.1148,  0.0550, -0.0534,  0.0025, -0.1541],\n",
       "                      [-0.0916,  0.1645,  0.1750, -0.1264, -0.0770,  0.0973, -0.1580, -0.0196,\n",
       "                       -0.1620, -0.0836, -0.0927, -0.0084, -0.0470, -0.0974,  0.0924, -0.0782,\n",
       "                       -0.1739,  0.0861,  0.1161, -0.0382,  0.0052,  0.0226, -0.0221, -0.0359,\n",
       "                       -0.1439,  0.0774, -0.0007,  0.0938,  0.0117, -0.0702, -0.0873,  0.0230],\n",
       "                      [ 0.0904,  0.1758,  0.1584,  0.1450, -0.1339,  0.0320,  0.1611,  0.0801,\n",
       "                        0.1178,  0.1678, -0.0534,  0.0945,  0.1047,  0.0031, -0.1039,  0.0488,\n",
       "                        0.1472,  0.0220,  0.0555,  0.0243,  0.1248,  0.0941, -0.0396,  0.0288,\n",
       "                       -0.0827,  0.0277, -0.1524,  0.0606,  0.1071, -0.1483,  0.0482, -0.0243],\n",
       "                      [-0.0701,  0.0791,  0.0080, -0.0932,  0.1213,  0.0460, -0.1222, -0.0288,\n",
       "                       -0.0959, -0.1112,  0.1687, -0.0186, -0.0104, -0.0211, -0.0397, -0.1500,\n",
       "                       -0.0233, -0.0737,  0.0736, -0.0049, -0.1732, -0.1049, -0.1327,  0.0108,\n",
       "                        0.1092,  0.0813,  0.0108,  0.1011, -0.0192,  0.1630, -0.1473, -0.0471],\n",
       "                      [-0.0242, -0.1337,  0.0558,  0.1211,  0.0294,  0.0154,  0.1532, -0.0630,\n",
       "                       -0.0277,  0.0656, -0.0967, -0.1336, -0.0358,  0.1153, -0.0910,  0.0508,\n",
       "                        0.0032,  0.1623,  0.0932, -0.0934, -0.1701,  0.1052, -0.1626, -0.1036,\n",
       "                        0.1716,  0.0521, -0.0024, -0.1343, -0.0331,  0.0237,  0.1047, -0.0691],\n",
       "                      [-0.0311,  0.0352, -0.1738, -0.0547, -0.1616, -0.0636, -0.1045,  0.0867,\n",
       "                       -0.1222, -0.1665, -0.0203, -0.0833, -0.0925, -0.0413,  0.0659, -0.1564,\n",
       "                       -0.1282,  0.0129,  0.0792,  0.0069,  0.1756,  0.0879, -0.1194,  0.1000,\n",
       "                       -0.0915,  0.1303, -0.0449,  0.1472, -0.0415, -0.0514, -0.1292,  0.1749],\n",
       "                      [-0.1009, -0.0771, -0.0970, -0.1748, -0.0872,  0.1457,  0.1128,  0.0454,\n",
       "                       -0.0519,  0.0244, -0.0329, -0.1448,  0.1201,  0.0927,  0.1526, -0.1651,\n",
       "                        0.0277,  0.0997, -0.0245,  0.0820,  0.0878, -0.0871,  0.1300,  0.0447,\n",
       "                       -0.0193,  0.0639,  0.1336,  0.0329,  0.0855, -0.1200, -0.0820, -0.0305],\n",
       "                      [ 0.1010,  0.1004, -0.0481, -0.0278, -0.0243, -0.0819,  0.1486,  0.0892,\n",
       "                        0.1154, -0.0598, -0.0425, -0.1472,  0.1315, -0.0669, -0.0146, -0.1174,\n",
       "                        0.0364,  0.0967, -0.1757,  0.1357,  0.0325,  0.0844, -0.1545,  0.0453,\n",
       "                        0.1731,  0.1165, -0.0794,  0.0096, -0.1209,  0.0709,  0.0839,  0.0766],\n",
       "                      [-0.1532,  0.0859,  0.0067, -0.1235, -0.0604,  0.1554, -0.1420,  0.1045,\n",
       "                        0.1722, -0.1298, -0.1634, -0.1339,  0.0033, -0.1657,  0.1447,  0.1574,\n",
       "                       -0.0198,  0.0966,  0.1450,  0.0565, -0.0870, -0.0059,  0.1240, -0.0727,\n",
       "                        0.0041, -0.0238, -0.0338, -0.0296, -0.0913, -0.0549,  0.1620, -0.0544]],\n",
       "                     device='cuda:0')),\n",
       "             ('layers.3.bias',\n",
       "              tensor([-0.0251,  0.1526,  0.0626, -0.1248, -0.0499, -0.0673, -0.0983, -0.1468,\n",
       "                       0.0876,  0.1363], device='cuda:0'))])"
      ]
     },
     "execution_count": 49,
     "metadata": {},
     "output_type": "execute_result"
    }
   ],
   "source": [
    "model_1.state_dict()"
   ]
  },
  {
   "cell_type": "code",
   "execution_count": 50,
   "id": "0e6e6f09-0572-4d58-b80c-08d617b3513b",
   "metadata": {},
   "outputs": [],
   "source": [
    "optimizer = torch.optim.SGD(params=model_1.parameters(), lr = 0.01)"
   ]
  },
  {
   "cell_type": "code",
   "execution_count": 51,
   "id": "3ab791e1-068c-46a7-8198-58bd58137e9a",
   "metadata": {},
   "outputs": [],
   "source": [
    "def train_step(model: nn.Module,\n",
    "               dataloader: torch.utils.data.dataloader,\n",
    "               optimizer: torch.optim.Optimizer,\n",
    "               loss_fn: torch.nn.Module,\n",
    "               accuracy_fn,\n",
    "               device: torch.device = device):\n",
    "    \"\"\"Performs a training loop with model to learn on dataloaders\"\"\"\n",
    "    # Set the seed and start timer\n",
    "    torch.manual_seed(42)\n",
    "    # Set number of epochs\n",
    "    EPOCHS = epochs\n",
    "    # Training \n",
    "    train_loss, train_acc = 0, 0\n",
    "    # Add a loop to through the training batches\n",
    "    for batch, (X, y) in enumerate(dataloader):\n",
    "        X = X.to(device)\n",
    "        y = y.to(device)\n",
    "        model.train()\n",
    "        # 1. Foward pass\n",
    "        y_pred = model(X)\n",
    "        # 2. Calculate loss (per batch)\n",
    "        loss = loss_fn(y_pred, y)\n",
    "        train_loss+= loss.item() # accumulate train loss\n",
    "        train_acc+= accuracy_fn(y_true = y, y_pred = y_pred.argmax(dim = 1))\n",
    "        #3. Optimizer zero grad\n",
    "        optimizer.zero_grad()\n",
    "        #4. Loss backward\n",
    "        loss.backward()\n",
    "        #5. Optimizer step\n",
    "        optimizer.step()\n",
    "    train_loss /= len(dataloader)\n",
    "    train_acc /= len(dataloader)\n",
    "    print(f\"\\n Train Loss: {train_loss:.4f} | Train Accuracy: {train_acc:.2f}%\")"
   ]
  },
  {
   "cell_type": "code",
   "execution_count": 52,
   "id": "1b80fe28-b1a2-4a04-bcc6-59e7d2b15639",
   "metadata": {},
   "outputs": [],
   "source": [
    "def test_step(model: nn.Module,\n",
    "              dataloader: torch.utils.data.dataloader,\n",
    "              loss_fn: torch.nn.Module,\n",
    "              accuracy_fn,\n",
    "              device: torch.device = device):\n",
    "    \"Performs a testing loop step on model going over data loader\"\n",
    "    ### Testing \n",
    "    test_loss, test_accuracy = 0,0\n",
    "    # Put model in evaluation mode\n",
    "    model.eval()\n",
    "    with torch.inference_mode():\n",
    "        for X_test, y_test in dataloader:\n",
    "            # Forward pass\n",
    "            X_test = X_test.to(device)\n",
    "            y_test = y_test.to(device)\n",
    "            test_pred = model(X_test)\n",
    "            # Caluclate loss\n",
    "            test_loss += loss_fn(test_pred, y_test).item()\n",
    "            # Calculate accuracy\n",
    "            test_accuracy += accuracy_fn(y_true= y_test, y_pred = test_pred.argmax(dim = 1))\n",
    "        # Calculate test loss average per batch\n",
    "        test_loss /= len(dataloader)\n",
    "        # Calculate test accuracy per batch\n",
    "        test_accuracy /= len(dataloader)\n",
    "    print(f\"Test Loss: {test_loss:.4f} |  Test Accuracy: {test_accuracy:.2f}%\")"
   ]
  },
  {
   "cell_type": "code",
   "execution_count": 53,
   "id": "3ba987ff-efc9-45d8-8216-d5c0525d59ca",
   "metadata": {},
   "outputs": [
    {
     "data": {
      "application/vnd.jupyter.widget-view+json": {
       "model_id": "70d0c1598f0f40b1b8d1b6f5abf4181e",
       "version_major": 2,
       "version_minor": 0
      },
      "text/plain": [
       "  0%|          | 0/3 [00:00<?, ?it/s]"
      ]
     },
     "metadata": {},
     "output_type": "display_data"
    },
    {
     "name": "stdout",
     "output_type": "stream",
     "text": [
      "Epoch: 0---\n",
      "\n",
      "\n",
      " Train Loss: 0.9503 | Train Accuracy: 68.23%\n",
      "Test Loss: 0.6549 |  Test Accuracy: 77.27%\n",
      "Epoch: 1---\n",
      "\n",
      "\n",
      " Train Loss: 0.5794 | Train Accuracy: 80.11%\n",
      "Test Loss: 0.5548 |  Test Accuracy: 81.05%\n",
      "Epoch: 2---\n",
      "\n",
      "\n",
      " Train Loss: 0.5128 | Train Accuracy: 82.42%\n",
      "Test Loss: 0.5148 |  Test Accuracy: 82.10%\n",
      "Train time on cuda:0: 35.054 seconds\n"
     ]
    }
   ],
   "source": [
    "from helper_functions import accuracy_fn\n",
    "\n",
    "epochs = 3\n",
    "torch.manual_seed(42)\n",
    "train_time_start_gpu= timer()\n",
    "for epoch in tqdm(range(epochs)):\n",
    "    print(f\"Epoch: {epoch}---\\n\")\n",
    "    train_step(\n",
    "        model= model_1,\n",
    "        dataloader=train_dataloader,\n",
    "        optimizer = optimizer, \n",
    "        loss_fn=loss_fn, \n",
    "        accuracy_fn=accuracy_fn, \n",
    "        device=device)\n",
    "    test_step(model= model_1,\n",
    "        dataloader=test_dataloader,\n",
    "        loss_fn=loss_fn, \n",
    "        accuracy_fn=accuracy_fn, \n",
    "        device=device)\n",
    "train_time_end_gpu = timer()\n",
    "total_train_time_model_1 = print_train_time(\n",
    "    start = train_time_start_gpu,\n",
    "    end = train_time_end_gpu,\n",
    "    device=str(next(model_1.parameters()).device)\n",
    ")"
   ]
  },
  {
   "cell_type": "code",
   "execution_count": 54,
   "id": "a0f3d44b-21c0-4ad0-a696-fc4a91f93dfc",
   "metadata": {},
   "outputs": [],
   "source": [
    "torch.cuda.empty_cache()"
   ]
  },
  {
   "cell_type": "code",
   "execution_count": 55,
   "id": "cd2381e5-e014-4833-abd5-fe9cb76da9c9",
   "metadata": {},
   "outputs": [
    {
     "data": {
      "text/plain": [
       "{'Model Name': 'FashionMNISTModelV0',\n",
       " 'Model Loss': 0.47663894295692444,\n",
       " 'Model accuracy': 83.42651757188499}"
      ]
     },
     "execution_count": 55,
     "metadata": {},
     "output_type": "execute_result"
    }
   ],
   "source": [
    "model_0_results"
   ]
  },
  {
   "cell_type": "markdown",
   "id": "83f28ac3-1cd1-42d3-b2eb-061dc4c3f462",
   "metadata": {},
   "source": [
    "## Note:\n",
    "\n",
    "Sometimes depending on data and hardware we might find that model trains faster on GPU than CPU\n",
    "\n",
    "Why is this? \n",
    "\n",
    "* It could be that the overhead for copying data/model to and from the GPU outweighs the compute benifits offered by the GPU.\n",
    "* The hardware you're using has a better CPU in terms compute capability than the GPU.\n",
    "\n",
    "https://horace.io/brrr_intro"
   ]
  },
  {
   "cell_type": "code",
   "execution_count": 56,
   "id": "915741ff-d0bf-473d-837f-b1f9ac615d78",
   "metadata": {},
   "outputs": [
    {
     "data": {
      "application/vnd.jupyter.widget-view+json": {
       "model_id": "2972c4deadc64f7e8e759956eb7c6df1",
       "version_major": 2,
       "version_minor": 0
      },
      "text/plain": [
       "  0%|          | 0/313 [00:00<?, ?it/s]"
      ]
     },
     "metadata": {},
     "output_type": "display_data"
    }
   ],
   "source": [
    "# Get model 1 results dictionary\n",
    "model_1_results = evaluate_model(model_1, test_dataloader, loss_fn, accuracy_fn)"
   ]
  },
  {
   "cell_type": "code",
   "execution_count": 57,
   "id": "d0420865-6a44-4423-9a70-f7fe014700c8",
   "metadata": {},
   "outputs": [
    {
     "data": {
      "text/plain": [
       "{'Model Name': 'FashionMNISTModelV1',\n",
       " 'Model Loss': 0.514808714389801,\n",
       " 'Model accuracy': 82.09864217252397}"
      ]
     },
     "execution_count": 57,
     "metadata": {},
     "output_type": "execute_result"
    }
   ],
   "source": [
    "model_1_results"
   ]
  },
  {
   "cell_type": "markdown",
   "id": "0697cd08-1173-4808-98d5-4fd1a17f65ac",
   "metadata": {},
   "source": [
    "## Model 2: Building a Convolutional Neural Network:\n",
    "\n",
    "CNN's are also known as ConvNets.\n",
    "\n",
    "CNN's are also known for their capabilities to find patterns in visual data"
   ]
  },
  {
   "cell_type": "code",
   "execution_count": 58,
   "id": "d6956a39-9658-4b10-91c6-07ba0d9de80f",
   "metadata": {},
   "outputs": [],
   "source": [
    "# Create a Conv network\n",
    "\n",
    "class FashionMNISTModelV2(nn.Module):\n",
    "    \"\"\"\n",
    "    Model architecture that replicates the TinyVGG from CNN Explainer.\n",
    "    \"\"\"\n",
    "    def __init__(self, input_shape: int, hidden_units: int, output_shape: int):\n",
    "        super().__init__()\n",
    "        self.conv_block_1 = nn.Sequential(\n",
    "            nn.Conv2d(in_channels= input_shape,\n",
    "                      out_channels= hidden_units,\n",
    "                      kernel_size = (3,3),\n",
    "                      stride = 1,\n",
    "                      padding = 1,\n",
    "                     ),\n",
    "            nn.ReLU(),\n",
    "            nn.Conv2d(in_channels = hidden_units,\n",
    "                      out_channels = hidden_units,\n",
    "                      kernel_size = (3,3),\n",
    "                      stride = 1,\n",
    "                      padding = 1),\n",
    "            nn.ReLU(),\n",
    "            nn.MaxPool2d(kernel_size= 2)\n",
    "        )\n",
    "        self.conv_block_2 = nn.Sequential(\n",
    "            nn.Conv2d(\n",
    "                in_channels = hidden_units,\n",
    "                out_channels= hidden_units,\n",
    "                kernel_size = (3,3),\n",
    "                stride = 1, \n",
    "                padding = 1,\n",
    "            ),\n",
    "            nn.ReLU(),\n",
    "            nn.Conv2d(\n",
    "                in_channels = hidden_units,\n",
    "                out_channels= hidden_units,\n",
    "                kernel_size = (3,3),\n",
    "                stride = 1, \n",
    "                padding = 1,\n",
    "            ),\n",
    "            nn.ReLU(),\n",
    "            nn.MaxPool2d(kernel_size = 2)\n",
    "        )\n",
    "        self.classifier = nn.Sequential(\n",
    "            nn.Flatten(),\n",
    "            nn.Linear(in_features = hidden_units * 7*7,\n",
    "                     out_features = output_shape,\n",
    "                     )\n",
    "        )\n",
    "    def forward(self, x):\n",
    "        x = self.conv_block_1(x)\n",
    "        # print(x.shape)\n",
    "        x = self.conv_block_2(x)\n",
    "        # print(x.shape)\n",
    "        return self.classifier(x)"
   ]
  },
  {
   "cell_type": "code",
   "execution_count": 59,
   "id": "03810255-be58-4284-892c-b4a25a5e40c8",
   "metadata": {},
   "outputs": [],
   "source": [
    "torch.manual_seed(42)\n",
    "model_2 = FashionMNISTModelV2(input_shape= 1, hidden_units= 10, output_shape=len(class_names)).to(device)"
   ]
  },
  {
   "cell_type": "code",
   "execution_count": 60,
   "id": "6d14c277-3f1f-4b2a-8840-2492a8aff578",
   "metadata": {},
   "outputs": [
    {
     "data": {
      "text/plain": [
       "torch.Size([1, 28, 28])"
      ]
     },
     "execution_count": 60,
     "metadata": {},
     "output_type": "execute_result"
    }
   ],
   "source": [
    "# Create random tensor\n",
    "rand_image_tensor = torch.randn(size = (1, 28,28)).to(device)\n",
    "rand_image_tensor.shape"
   ]
  },
  {
   "cell_type": "code",
   "execution_count": 61,
   "id": "21c718c2-636e-44fc-9925-fd525bc76880",
   "metadata": {},
   "outputs": [
    {
     "data": {
      "text/plain": [
       "tensor([[ 0.0366, -0.0940,  0.0686, -0.0485,  0.0068,  0.0290,  0.0132,  0.0084,\n",
       "         -0.0030, -0.0185]], device='cuda:0', grad_fn=<AddmmBackward0>)"
      ]
     },
     "execution_count": 61,
     "metadata": {},
     "output_type": "execute_result"
    }
   ],
   "source": [
    "# Pass image through model\n",
    "model_2(rand_image_tensor.unsqueeze(0))"
   ]
  },
  {
   "cell_type": "code",
   "execution_count": 62,
   "id": "beb5d949-6902-4226-8344-87b6d879e567",
   "metadata": {},
   "outputs": [
    {
     "data": {
      "text/plain": [
       "torch.Size([1, 28, 28])"
      ]
     },
     "execution_count": 62,
     "metadata": {},
     "output_type": "execute_result"
    }
   ],
   "source": [
    "image.shape"
   ]
  },
  {
   "cell_type": "markdown",
   "id": "d626d4aa-107b-472e-a865-093364ca73d3",
   "metadata": {},
   "source": [
    "## 7.1 Stepping though `nn.Conv2d()`:"
   ]
  },
  {
   "cell_type": "code",
   "execution_count": 63,
   "id": "8d240407-0ee7-44e2-ba03-58ba3976e5d5",
   "metadata": {},
   "outputs": [
    {
     "name": "stdout",
     "output_type": "stream",
     "text": [
      "Image Batch size: torch.Size([32, 3, 64, 64]) | Single image shape: torch.Size([3, 64, 64])\n"
     ]
    }
   ],
   "source": [
    "torch.manual_seed(42)\n",
    "image = torch.randn(32, 3, 64, 64)\n",
    "test_image = image[0]\n",
    "print(f\"Image Batch size: {image.shape} | Single image shape: {test_image.shape}\")"
   ]
  },
  {
   "cell_type": "code",
   "execution_count": 64,
   "id": "30fd3a5d-8fb7-4745-b704-d9e8436fb296",
   "metadata": {},
   "outputs": [],
   "source": [
    "# Create a single Conv2d Layer\n",
    "torch.manual_seed(42)\n",
    "\n",
    "conv_layer = nn.Conv2d(in_channels=3, out_channels= 10, kernel_size=(3,3), stride = 1, padding = 1)\n",
    "\n",
    "# Pass the data through the Conv layer\n",
    "conv_output = conv_layer(test_image)"
   ]
  },
  {
   "cell_type": "code",
   "execution_count": 65,
   "id": "0a16f8a4-410f-470a-aad6-20a1b4795798",
   "metadata": {},
   "outputs": [
    {
     "data": {
      "text/plain": [
       "torch.Size([3, 64, 64])"
      ]
     },
     "execution_count": 65,
     "metadata": {},
     "output_type": "execute_result"
    }
   ],
   "source": [
    "test_image.shape"
   ]
  },
  {
   "cell_type": "code",
   "execution_count": 66,
   "id": "52c3db13-e767-4461-9068-ce66e91fbae1",
   "metadata": {},
   "outputs": [
    {
     "data": {
      "text/plain": [
       "torch.Size([10, 64, 64])"
      ]
     },
     "execution_count": 66,
     "metadata": {},
     "output_type": "execute_result"
    }
   ],
   "source": [
    "conv_output.shape"
   ]
  },
  {
   "cell_type": "markdown",
   "id": "94dec411-9be8-4338-9725-a7b1761e38d4",
   "metadata": {},
   "source": [
    "## 7.2 Stepping thorugh `nn.MaxPool2d()`"
   ]
  },
  {
   "cell_type": "code",
   "execution_count": 67,
   "id": "1beb5086-671b-47a9-a903-e7241d3d27cd",
   "metadata": {},
   "outputs": [
    {
     "name": "stdout",
     "output_type": "stream",
     "text": [
      "Test image shape: torch.Size([3, 64, 64])\n",
      "Shape after conv2d: torch.Size([10, 64, 64])\n",
      "Shape after going through ConvLayer and MaxPool layer: torch.Size([10, 32, 32])\n"
     ]
    }
   ],
   "source": [
    "max_pool_layer = nn.MaxPool2d(kernel_size= (2,2))\n",
    "# Pass data through Conv2d Layer\n",
    "print(f\"Test image shape: {test_image.shape}\")\n",
    "conv_layer = nn.Conv2d(in_channels=3, out_channels= 10, kernel_size=(3,3), stride = 1, padding = 1)\n",
    "# Pass the data through the Conv layer\n",
    "conv_output = conv_layer(test_image)\n",
    "print(f\"Shape after conv2d: {conv_output.shape}\")\n",
    "test_image_thorugh_conv_and_max = max_pool_layer(conv_output)\n",
    "print(f\"Shape after going through ConvLayer and MaxPool layer: {test_image_thorugh_conv_and_max.shape}\")"
   ]
  },
  {
   "cell_type": "markdown",
   "id": "22f377cc-be65-4685-90dd-cf7686951e13",
   "metadata": {},
   "source": [
    "## 7.2 Setup loss function and optimizer"
   ]
  },
  {
   "cell_type": "code",
   "execution_count": 68,
   "id": "5ee35649-0992-4985-aac7-8cab79999b58",
   "metadata": {},
   "outputs": [],
   "source": [
    "# Setup loss function/evaluation metrics/optimizer\n",
    "from helper_functions import accuracy_fn\n",
    "\n",
    "loss_fn = nn.CrossEntropyLoss()\n",
    "optimizer = torch.optim.SGD(params=model_2.parameters(), lr = 0.1)"
   ]
  },
  {
   "cell_type": "markdown",
   "id": "83ea6445-620c-4930-ad6a-54727dbbdb4d",
   "metadata": {},
   "source": [
    "## 7.4 Training our model using `train_step()` and `test_step()`"
   ]
  },
  {
   "cell_type": "code",
   "execution_count": 69,
   "id": "10297051-45bc-4727-8206-068bc496a845",
   "metadata": {},
   "outputs": [
    {
     "data": {
      "application/vnd.jupyter.widget-view+json": {
       "model_id": "2496d4a67f18433c9d4d493153f4631b",
       "version_major": 2,
       "version_minor": 0
      },
      "text/plain": [
       "  0%|          | 0/3 [00:00<?, ?it/s]"
      ]
     },
     "metadata": {},
     "output_type": "display_data"
    },
    {
     "name": "stdout",
     "output_type": "stream",
     "text": [
      "Epoch 0\n",
      "-----\n",
      "\n",
      " Train Loss: 0.5934 | Train Accuracy: 78.50%\n",
      "Test Loss: 0.3974 |  Test Accuracy: 85.65%\n",
      "Epoch 1\n",
      "-----\n",
      "\n",
      " Train Loss: 0.3608 | Train Accuracy: 87.01%\n",
      "Test Loss: 0.3450 |  Test Accuracy: 87.43%\n",
      "Epoch 2\n",
      "-----\n",
      "\n",
      " Train Loss: 0.3231 | Train Accuracy: 88.27%\n",
      "Test Loss: 0.3316 |  Test Accuracy: 88.06%\n",
      "Train time on cuda: 41.456 seconds\n"
     ]
    }
   ],
   "source": [
    "torch.manual_seed(42)\n",
    "torch.cuda.manual_seed(42)\n",
    "\n",
    "# Measure Time\n",
    "from timeit import default_timer as timer\n",
    "\n",
    "train_time_start_model_2 = timer()\n",
    "# Train and test model\n",
    "epochs = 3\n",
    "for epoch in tqdm(range(epochs)):\n",
    "    print(f\"Epoch {epoch}\\n-----\")\n",
    "    train_step(\n",
    "        model = model_2,\n",
    "        dataloader=train_dataloader,\n",
    "        optimizer= optimizer,\n",
    "        loss_fn=loss_fn,\n",
    "        accuracy_fn=accuracy_fn,\n",
    "        device=device\n",
    "    )\n",
    "    test_step(\n",
    "        model= model_2,\n",
    "        dataloader=test_dataloader,\n",
    "        loss_fn=loss_fn,\n",
    "        accuracy_fn=accuracy_fn,\n",
    "        device=device,\n",
    "    )\n",
    "train_time_end_model_2 = timer()\n",
    "total_train_time_model_2 = print_train_time(start=train_time_start_model_2, end= train_time_end_model_2, device = device)"
   ]
  },
  {
   "cell_type": "code",
   "execution_count": 70,
   "id": "853dcc1d-be82-4232-b0b3-d06597788fb7",
   "metadata": {},
   "outputs": [
    {
     "data": {
      "application/vnd.jupyter.widget-view+json": {
       "model_id": "8a1c6daaa3224047a82eae106d12380b",
       "version_major": 2,
       "version_minor": 0
      },
      "text/plain": [
       "  0%|          | 0/313 [00:00<?, ?it/s]"
      ]
     },
     "metadata": {},
     "output_type": "display_data"
    }
   ],
   "source": [
    "model_2_results = evaluate_model(\n",
    "    model = model_2,\n",
    "    dataloader=test_dataloader,\n",
    "    loss_fn=loss_fn,\n",
    "    accuracy_fn=accuracy_fn,\n",
    "    device = device\n",
    ")"
   ]
  },
  {
   "cell_type": "code",
   "execution_count": 71,
   "id": "ba766e96-d460-451c-86af-91c6b2cebd05",
   "metadata": {},
   "outputs": [
    {
     "data": {
      "text/plain": [
       "{'Model Name': 'FashionMNISTModelV2',\n",
       " 'Model Loss': 0.33160749077796936,\n",
       " 'Model accuracy': 88.0591054313099}"
      ]
     },
     "execution_count": 71,
     "metadata": {},
     "output_type": "execute_result"
    }
   ],
   "source": [
    "model_2_results"
   ]
  },
  {
   "cell_type": "code",
   "execution_count": 72,
   "id": "5415c1d2-35a3-4f3b-928e-542f744a1070",
   "metadata": {},
   "outputs": [
    {
     "data": {
      "text/plain": [
       "{'Model Name': 'FashionMNISTModelV0',\n",
       " 'Model Loss': 0.47663894295692444,\n",
       " 'Model accuracy': 83.42651757188499}"
      ]
     },
     "execution_count": 72,
     "metadata": {},
     "output_type": "execute_result"
    }
   ],
   "source": [
    "model_0_results"
   ]
  },
  {
   "cell_type": "code",
   "execution_count": 73,
   "id": "4997c8b2-bf21-4db2-b355-f66344fae456",
   "metadata": {},
   "outputs": [
    {
     "data": {
      "text/plain": [
       "{'Model Name': 'FashionMNISTModelV1',\n",
       " 'Model Loss': 0.514808714389801,\n",
       " 'Model accuracy': 82.09864217252397}"
      ]
     },
     "execution_count": 73,
     "metadata": {},
     "output_type": "execute_result"
    }
   ],
   "source": [
    "model_1_results"
   ]
  },
  {
   "cell_type": "markdown",
   "id": "2882037c-9f9c-4b42-a875-d73d231408f8",
   "metadata": {},
   "source": [
    "# 8. Compare model results and training time"
   ]
  },
  {
   "cell_type": "code",
   "execution_count": 74,
   "id": "eda885c2-8aa8-4bd7-a6f3-9aa5c6ab0e75",
   "metadata": {},
   "outputs": [
    {
     "data": {
      "text/html": [
       "<div>\n",
       "<style scoped>\n",
       "    .dataframe tbody tr th:only-of-type {\n",
       "        vertical-align: middle;\n",
       "    }\n",
       "\n",
       "    .dataframe tbody tr th {\n",
       "        vertical-align: top;\n",
       "    }\n",
       "\n",
       "    .dataframe thead th {\n",
       "        text-align: right;\n",
       "    }\n",
       "</style>\n",
       "<table border=\"1\" class=\"dataframe\">\n",
       "  <thead>\n",
       "    <tr style=\"text-align: right;\">\n",
       "      <th></th>\n",
       "      <th>Model Name</th>\n",
       "      <th>Model Loss</th>\n",
       "      <th>Model accuracy</th>\n",
       "    </tr>\n",
       "  </thead>\n",
       "  <tbody>\n",
       "    <tr>\n",
       "      <th>0</th>\n",
       "      <td>FashionMNISTModelV0</td>\n",
       "      <td>0.476639</td>\n",
       "      <td>83.426518</td>\n",
       "    </tr>\n",
       "    <tr>\n",
       "      <th>1</th>\n",
       "      <td>FashionMNISTModelV1</td>\n",
       "      <td>0.514809</td>\n",
       "      <td>82.098642</td>\n",
       "    </tr>\n",
       "    <tr>\n",
       "      <th>2</th>\n",
       "      <td>FashionMNISTModelV2</td>\n",
       "      <td>0.331607</td>\n",
       "      <td>88.059105</td>\n",
       "    </tr>\n",
       "  </tbody>\n",
       "</table>\n",
       "</div>"
      ],
      "text/plain": [
       "            Model Name  Model Loss  Model accuracy\n",
       "0  FashionMNISTModelV0    0.476639       83.426518\n",
       "1  FashionMNISTModelV1    0.514809       82.098642\n",
       "2  FashionMNISTModelV2    0.331607       88.059105"
      ]
     },
     "execution_count": 74,
     "metadata": {},
     "output_type": "execute_result"
    }
   ],
   "source": [
    "import pandas as pd\n",
    "compare_results = pd.DataFrame([model_0_results, model_1_results, model_2_results])\n",
    "compare_results"
   ]
  },
  {
   "cell_type": "code",
   "execution_count": 76,
   "id": "d2bfda63-388c-418f-b193-c54f2b39a431",
   "metadata": {},
   "outputs": [
    {
     "data": {
      "text/html": [
       "<div>\n",
       "<style scoped>\n",
       "    .dataframe tbody tr th:only-of-type {\n",
       "        vertical-align: middle;\n",
       "    }\n",
       "\n",
       "    .dataframe tbody tr th {\n",
       "        vertical-align: top;\n",
       "    }\n",
       "\n",
       "    .dataframe thead th {\n",
       "        text-align: right;\n",
       "    }\n",
       "</style>\n",
       "<table border=\"1\" class=\"dataframe\">\n",
       "  <thead>\n",
       "    <tr style=\"text-align: right;\">\n",
       "      <th></th>\n",
       "      <th>Model Name</th>\n",
       "      <th>Model Loss</th>\n",
       "      <th>Model accuracy</th>\n",
       "      <th>train_time</th>\n",
       "    </tr>\n",
       "  </thead>\n",
       "  <tbody>\n",
       "    <tr>\n",
       "      <th>0</th>\n",
       "      <td>FashionMNISTModelV0</td>\n",
       "      <td>0.476639</td>\n",
       "      <td>83.426518</td>\n",
       "      <td>26.596393</td>\n",
       "    </tr>\n",
       "    <tr>\n",
       "      <th>1</th>\n",
       "      <td>FashionMNISTModelV1</td>\n",
       "      <td>0.514809</td>\n",
       "      <td>82.098642</td>\n",
       "      <td>35.053675</td>\n",
       "    </tr>\n",
       "    <tr>\n",
       "      <th>2</th>\n",
       "      <td>FashionMNISTModelV2</td>\n",
       "      <td>0.331607</td>\n",
       "      <td>88.059105</td>\n",
       "      <td>41.455980</td>\n",
       "    </tr>\n",
       "  </tbody>\n",
       "</table>\n",
       "</div>"
      ],
      "text/plain": [
       "            Model Name  Model Loss  Model accuracy  train_time\n",
       "0  FashionMNISTModelV0    0.476639       83.426518   26.596393\n",
       "1  FashionMNISTModelV1    0.514809       82.098642   35.053675\n",
       "2  FashionMNISTModelV2    0.331607       88.059105   41.455980"
      ]
     },
     "execution_count": 76,
     "metadata": {},
     "output_type": "execute_result"
    }
   ],
   "source": [
    "# Add training time to resutls comparision\n",
    "\n",
    "compare_results['train_time'] = [total_train_time_model_0, total_train_time_model_1, total_train_time_model_2]\n",
    "compare_results"
   ]
  },
  {
   "cell_type": "code",
   "execution_count": 80,
   "id": "504663bc-e59a-4e96-8a6c-78aec6d199e3",
   "metadata": {},
   "outputs": [
    {
     "data": {
      "image/png": "[encoded data removed]",
      "text/plain": [
       "<Figure size 640x480 with 1 Axes>"
      ]
     },
     "metadata": {},
     "output_type": "display_data"
    }
   ],
   "source": [
    "# Visualize our model's results\n",
    "\n",
    "compare_results.set_index(\"Model Name\")['Model accuracy'].plot(kind = 'barh')\n",
    "plt.xlabel(\"Accuracy %\")\n",
    "plt.ylabel(\"Model\");"
   ]
  },
  {
   "cell_type": "markdown",
   "id": "f28f12a7-22a5-4767-869a-464b7716494f",
   "metadata": {},
   "source": [
    "## 9. Make and evaluate random predictions with best model"
   ]
  },
  {
   "cell_type": "code",
   "execution_count": 95,
   "id": "ecf8fa68-7569-4cdc-9843-3a776cdd9843",
   "metadata": {},
   "outputs": [],
   "source": [
    "def make_preds(model: torch.nn.Module,\n",
    "              data: list,\n",
    "              device: torch.device= device):\n",
    "    pred_probs = []\n",
    "    model.to(device)\n",
    "    model.eval()\n",
    "    with torch.inference_mode():\n",
    "        for sample in data:\n",
    "            sample = torch.unsqueeze(sample, dim = 0).to(device)\n",
    "            # Forward pass\n",
    "            pred_logits = model(sample)\n",
    "            # Get Preds Probability\n",
    "            pred_prob = torch.softmax(pred_logits.squeeze(), dim = 0)\n",
    "            # Get pred_probs off GPU  for further calculations\n",
    "            pred_probs.append(pred_prob.cpu())\n",
    "\n",
    "    # Stack the pred probs to turn list into tensors\n",
    "    return torch.stack(pred_probs)"
   ]
  },
  {
   "cell_type": "code",
   "execution_count": 96,
   "id": "f88a17d7-55ed-4de9-9486-550d73416e13",
   "metadata": {},
   "outputs": [],
   "source": [
    "import numpy as np"
   ]
  },
  {
   "cell_type": "code",
   "execution_count": 110,
   "id": "aae11606-7c56-49e2-8bd2-331f40ed59b9",
   "metadata": {},
   "outputs": [],
   "source": [
    "import random \n",
    "test_samples = []\n",
    "test_labels = []\n",
    "\n",
    "for sample, label in random.sample(list(test_data), k=9):\n",
    "    test_samples.append(sample)\n",
    "    test_labels.append(label)"
   ]
  },
  {
   "cell_type": "code",
   "execution_count": 111,
   "id": "9f4e1eea-92f0-4941-b89a-dfcd7b76f1f0",
   "metadata": {},
   "outputs": [
    {
     "data": {
      "image/png": "[encoded data removed]",
      "text/plain": [
       "<Figure size 640x480 with 1 Axes>"
      ]
     },
     "metadata": {},
     "output_type": "display_data"
    }
   ],
   "source": [
    "plt.imshow(test_samples[0].squeeze(), cmap = 'grey')\n",
    "plt.title(class_names[test_labels[0]]);"
   ]
  },
  {
   "cell_type": "code",
   "execution_count": 112,
   "id": "4474f1ad-579f-4e5e-94d7-553c05077c3d",
   "metadata": {},
   "outputs": [
    {
     "data": {
      "text/plain": [
       "tensor([[1.6760e-05, 1.3499e-05, 4.2298e-05, 5.3607e-05, 1.4057e-04, 1.0569e-02,\n",
       "         5.2313e-06, 5.9401e-03, 3.3438e-02, 9.4978e-01],\n",
       "        [1.9804e-04, 4.3872e-06, 2.1822e-04, 1.2086e-05, 2.2681e-05, 2.1143e-03,\n",
       "         4.1589e-06, 8.9507e-01, 3.1433e-03, 9.9209e-02]])"
      ]
     },
     "execution_count": 112,
     "metadata": {},
     "output_type": "execute_result"
    }
   ],
   "source": [
    "# Make Predictions\n",
    "pred_probs = make_preds(\n",
    "    model= model_2,\n",
    "    data= test_samples\n",
    ")\n",
    "# View First two preds\n",
    "pred_probs[:2]"
   ]
  },
  {
   "cell_type": "code",
   "execution_count": 113,
   "id": "d921f584-00df-4d7b-b750-69265821d5e4",
   "metadata": {},
   "outputs": [
    {
     "data": {
      "text/plain": [
       "tensor([9, 7, 2, 0, 1, 0, 3, 5, 4])"
      ]
     },
     "execution_count": 113,
     "metadata": {},
     "output_type": "execute_result"
    }
   ],
   "source": [
    "pred_classes = pred_probs.argmax(dim = 1)\n",
    "pred_classes"
   ]
  },
  {
   "cell_type": "code",
   "execution_count": 114,
   "id": "8f9f1ed2-d833-4d9d-82a2-b8645e7f3c04",
   "metadata": {},
   "outputs": [
    {
     "data": {
      "image/png": "[encoded data removed]",
      "text/plain": [
       "<Figure size 900x900 with 9 Axes>"
      ]
     },
     "metadata": {},
     "output_type": "display_data"
    }
   ],
   "source": [
    "# Plot predictions \n",
    "plt.figure(figsize = (9,9))\n",
    "nrows, ncols = 3, 3\n",
    "for i, sample in enumerate(test_samples):\n",
    "    # Create a subplot\n",
    "    plt.subplot(nrows, ncols, i + 1)\n",
    "    plt.imshow(sample.squeeze(), cmap = 'grey')\n",
    "    # FInd predicitions in test form\n",
    "    pred_label = class_names[pred_classes[i]]\n",
    "    # Get truth label\n",
    "    truth_label = class_names[test_labels[i]]\n",
    "    title = f\"Pred: {pred_label} | Truth: {truth_label}\"\n",
    "    # Check for equality between pred and truth and change color of text\n",
    "    if pred_label == truth_label:\n",
    "        plt.title(title, fontsize = 10, c ='g')\n",
    "    else:\n",
    "        plt.title(title, fontsize = 10, c ='r')\n",
    "    plt.axis('off')"
   ]
  },
  {
   "cell_type": "markdown",
   "id": "d00db873-523e-4985-84b0-21b9f42b41aa",
   "metadata": {},
   "source": [
    "## 10. Make a confusion matrix"
   ]
  }
 ],
 "metadata": {
  "kernelspec": {
   "display_name": "Python 3 (ipykernel)",
   "language": "python",
   "name": "python3"
  },
  "language_info": {
   "codemirror_mode": {
    "name": "ipython",
    "version": 3
   },
   "file_extension": ".py",
   "mimetype": "text/x-python",
   "name": "python",
   "nbconvert_exporter": "python",
   "pygments_lexer": "ipython3",
   "version": "3.10.16"
  }
 },
 "nbformat": 4,
 "nbformat_minor": 5
}

{
 "cells": [
  {
   "cell_type": "markdown",
   "id": "3e687653-1233-4e2f-b54c-e83730e7cef7",
   "metadata": {},
   "source": [
    "# Pytorch Workflow"
   ]
  },
  {
   "cell_type": "code",
   "execution_count": 246,
   "id": "30c84b74-5a65-4118-8049-e1bcc26e50d0",
   "metadata": {},
   "outputs": [],
   "source": [
    "what_were_covering = {\n",
    "    1: \"Data (prepare and load)\",\n",
    "    2: \"Building model\",\n",
    "    3: \"Fitting the model to the data\",\n",
    "    4: \"Make Preds and Evalauting the model\",\n",
    "    5: \"Save and Load model\",\n",
    "    6: \"Putting it all together\"\n",
    "}"
   ]
  },
  {
   "cell_type": "code",
   "execution_count": 247,
   "id": "aad4272a-cb5e-41c9-87db-7f2b806f321e",
   "metadata": {},
   "outputs": [],
   "source": [
    "import torch\n",
    "from torch import nn # nn contains all of pytorch building blocks for neural networks\n",
    "import matplotlib.pyplot as plt"
   ]
  },
  {
   "cell_type": "code",
   "execution_count": 248,
   "id": "95872a7b-1da1-4945-883c-377096feb19c",
   "metadata": {},
   "outputs": [
    {
     "data": {
      "text/plain": [
       "'2.6.0+cu118'"
      ]
     },
     "execution_count": 248,
     "metadata": {},
     "output_type": "execute_result"
    }
   ],
   "source": [
    "torch.__version__"
   ]
  },
  {
   "cell_type": "code",
   "execution_count": 249,
   "id": "77869573-2ba7-4d98-a403-28ff60a14de1",
   "metadata": {},
   "outputs": [],
   "source": [
    "weight = 0.7\n",
    "bias = 0.3"
   ]
  },
  {
   "cell_type": "code",
   "execution_count": 250,
   "id": "bdeb3d63-119a-4655-a910-beb53e8bc6f4",
   "metadata": {},
   "outputs": [],
   "source": [
    "start = 0\n",
    "end = 1\n",
    "step = 0.02"
   ]
  },
  {
   "cell_type": "code",
   "execution_count": 251,
   "id": "55cc604c-e80f-4438-a186-bdb0f753b8fa",
   "metadata": {},
   "outputs": [],
   "source": [
    "X = torch.arange(start, end, step).unsqueeze(dim = 1)"
   ]
  },
  {
   "cell_type": "code",
   "execution_count": 252,
   "id": "d417bea8-c005-4735-8031-8fbb2ccb1c12",
   "metadata": {},
   "outputs": [
    {
     "data": {
      "text/plain": [
       "(tensor([[0.0000],\n",
       "         [0.0200],\n",
       "         [0.0400],\n",
       "         [0.0600],\n",
       "         [0.0800],\n",
       "         [0.1000],\n",
       "         [0.1200],\n",
       "         [0.1400],\n",
       "         [0.1600],\n",
       "         [0.1800]]),\n",
       " tensor([[0.3000],\n",
       "         [0.3140],\n",
       "         [0.3280],\n",
       "         [0.3420],\n",
       "         [0.3560],\n",
       "         [0.3700],\n",
       "         [0.3840],\n",
       "         [0.3980],\n",
       "         [0.4120],\n",
       "         [0.4260]]))"
      ]
     },
     "execution_count": 252,
     "metadata": {},
     "output_type": "execute_result"
    }
   ],
   "source": [
    "y = weight * X + bias\n",
    "X[:10], y[:10]"
   ]
  },
  {
   "cell_type": "code",
   "execution_count": 253,
   "id": "05c07f76-8f54-4dc2-bcf6-9a327d4e4ef8",
   "metadata": {},
   "outputs": [
    {
     "data": {
      "text/plain": [
       "(torch.Size([50, 1]), torch.Size([50, 1]))"
      ]
     },
     "execution_count": 253,
     "metadata": {},
     "output_type": "execute_result"
    }
   ],
   "source": [
    "X.shape, y.shape"
   ]
  },
  {
   "cell_type": "markdown",
   "id": "77a45d6c-1d27-4a56-a397-25e5d886739c",
   "metadata": {},
   "source": [
    "### Splitting data and test sets"
   ]
  },
  {
   "cell_type": "code",
   "execution_count": 254,
   "id": "aa8cef85-5553-45c9-bc59-b7b94d590e79",
   "metadata": {},
   "outputs": [
    {
     "data": {
      "text/plain": [
       "40"
      ]
     },
     "execution_count": 254,
     "metadata": {},
     "output_type": "execute_result"
    }
   ],
   "source": [
    "train_split = int(0.8 * len(X))\n",
    "train_split"
   ]
  },
  {
   "cell_type": "code",
   "execution_count": 255,
   "id": "8ad928ad-5e92-4abe-b3e8-1cbc605c0040",
   "metadata": {},
   "outputs": [],
   "source": [
    "X_train, y_train = X[:train_split], y[:train_split]\n",
    "X_test, y_test = X[train_split:], y[train_split:]"
   ]
  },
  {
   "cell_type": "code",
   "execution_count": 256,
   "id": "cd33c67f-3e80-44e1-8756-691972831ae4",
   "metadata": {},
   "outputs": [],
   "source": [
    "def plot_predictions(train_data=X_train, \n",
    "                     train_labels=y_train, \n",
    "                     test_data=X_test, \n",
    "                     test_labels=y_test, \n",
    "                     predictions=None):\n",
    "  \"\"\"\n",
    "  Plots training data, test data and compares predictions.\n",
    "  \"\"\"\n",
    "  plt.figure(figsize=(10, 7))\n",
    "\n",
    "  # Plot training data in blue\n",
    "  plt.scatter(train_data, train_labels, c=\"b\", s=4, label=\"Training data\")\n",
    "  \n",
    "  # Plot test data in green\n",
    "  plt.scatter(test_data, test_labels, c=\"g\", s=4, label=\"Testing data\")\n",
    "\n",
    "  if predictions is not None:\n",
    "    # Plot the predictions in red (predictions were made on the test data)\n",
    "    plt.scatter(test_data, predictions, c=\"r\", s=4, label=\"Predictions\")\n",
    "\n",
    "  # Show the legend\n",
    "  plt.legend(prop={\"size\": 14});"
   ]
  },
  {
   "cell_type": "code",
   "execution_count": 257,
   "id": "9c6c01f5-6257-4ee6-aadf-8201dd29c668",
   "metadata": {},
   "outputs": [
    {
     "data": {
      "image/png": "[encoded data removed]",
      "text/plain": [
       "<Figure size 1000x700 with 1 Axes>"
      ]
     },
     "metadata": {},
     "output_type": "display_data"
    }
   ],
   "source": [
    "plot_predictions()"
   ]
  },
  {
   "cell_type": "markdown",
   "id": "28edeb6e-8e7f-4743-ace2-9d94cf1e6885",
   "metadata": {},
   "source": [
    "# Building a model"
   ]
  },
  {
   "cell_type": "code",
   "execution_count": 258,
   "id": "95cfc2de-61ba-4cfd-bf3f-1e56421be50a",
   "metadata": {},
   "outputs": [],
   "source": [
    "# Create linear regression model\n",
    "class LinearRegressionModel(nn.Module):\n",
    "    def __init__(self):\n",
    "        super().__init__()\n",
    "        self.weights = nn.Parameter(torch.randn(1, requires_grad = True, dtype = torch.float))\n",
    "        self.bias = nn.Parameter(torch.randn(1, requires_grad = True, dtype = torch.float))\n",
    "    # Foward method tp define compution in model\n",
    "    def forward(self, x: torch.Tensor) -> torch.Tensor: # <- x is input data\n",
    "        return self.weights * x + self.bias \n",
    "        "
   ]
  },
  {
   "cell_type": "markdown",
   "id": "289f1899-e13c-4e41-b1fb-4834e3dfda14",
   "metadata": {},
   "source": [
    "### Pytorch model essentials:\n",
    "\n",
    "* `torch.nn`: Contains all of the building blocks for neural networks\n",
    "* `torch.nn.Parameter`: What paramter should our model try and learn, often a pytorch layer from torch.nn will set these for us.\n",
    "* `torch.nn.Module`: Base Class for all neural network models\n",
    "* `torch.optim`: Optimizers lives here, for hleping with gradient descent.\n",
    "* `def forward():` All nn.Module subclasses require you to overwrite foward(), this method defines what happens in the forward computation."
   ]
  },
  {
   "cell_type": "markdown",
   "id": "606ff9e0-f7af-40f0-8495-706b9ecced5a",
   "metadata": {},
   "source": [
    "# For getting data ready:\n",
    "\n",
    "* `torchvision.transforms`\n",
    "* `torch.utils.data.Dataset`\n",
    "* `torch.utils.data.DataLoader`\n",
    "\n",
    "# For Building Models:\n",
    "\n",
    "* `torch.nn`\n",
    "* `torch.nn.Module`\n",
    "* `torchvision.models`\n",
    "* `torch.optim`\n",
    "  \n",
    "# For evaluating \n",
    "\n",
    "* `torchmetrics`\n",
    "\n",
    "# Improve through expermintation:\n",
    "\n",
    "* `torch.utils.tensorboard`"
   ]
  },
  {
   "cell_type": "markdown",
   "id": "b3872b23-8292-4014-869c-fc7dc603f3d3",
   "metadata": {},
   "source": [
    "### Checking the contents of the pytorch model\n",
    "\n",
    "Now we've created a model let's see what's inside\n",
    "\n",
    "So we can check what's inside using `.paramaters()`."
   ]
  },
  {
   "cell_type": "code",
   "execution_count": 259,
   "id": "fff8bd3a-11dc-4f61-b8b7-1a2855ac3abe",
   "metadata": {},
   "outputs": [
    {
     "data": {
      "text/plain": [
       "[Parameter containing:\n",
       " tensor([0.3367], requires_grad=True),\n",
       " Parameter containing:\n",
       " tensor([0.1288], requires_grad=True)]"
      ]
     },
     "execution_count": 259,
     "metadata": {},
     "output_type": "execute_result"
    }
   ],
   "source": [
    "# Create random seed\n",
    "torch.manual_seed(42)\n",
    "\n",
    "# Create an instance of the model (this is a subclass)\n",
    "\n",
    "model_0 = LinearRegressionModel()\n",
    "# CHeck params\n",
    "list(model_0.parameters())"
   ]
  },
  {
   "cell_type": "code",
   "execution_count": 260,
   "id": "53683394-0ce4-40e0-a8b6-022daffe62ef",
   "metadata": {},
   "outputs": [
    {
     "data": {
      "text/plain": [
       "OrderedDict([('weights', tensor([0.3367])), ('bias', tensor([0.1288]))])"
      ]
     },
     "execution_count": 260,
     "metadata": {},
     "output_type": "execute_result"
    }
   ],
   "source": [
    "model_0.state_dict()"
   ]
  },
  {
   "cell_type": "markdown",
   "id": "d79ae1a1-b04b-4e12-9567-4f7c7b0acf65",
   "metadata": {},
   "source": [
    "### Making predictions using `torch.inference_mode()`\n",
    "\n",
    "\n",
    "To check our model's predictive power, let's see how well it predicts `y_test` based on `X_test`\n",
    "\n",
    "When we pass the data its going to run through the `forward()` method."
   ]
  },
  {
   "cell_type": "code",
   "execution_count": 261,
   "id": "e2d2e443-07fe-45bd-8c43-89ad307db871",
   "metadata": {},
   "outputs": [
    {
     "data": {
      "text/plain": [
       "tensor([[0.3982],\n",
       "        [0.4049],\n",
       "        [0.4116],\n",
       "        [0.4184],\n",
       "        [0.4251],\n",
       "        [0.4318],\n",
       "        [0.4386],\n",
       "        [0.4453],\n",
       "        [0.4520],\n",
       "        [0.4588]])"
      ]
     },
     "execution_count": 261,
     "metadata": {},
     "output_type": "execute_result"
    }
   ],
   "source": [
    "# Make preds\n",
    "\n",
    "with torch.inference_mode():\n",
    "    y_preds = model_0(X_test)\n",
    "y_preds"
   ]
  },
  {
   "cell_type": "code",
   "execution_count": 262,
   "id": "0facc5c3-6d89-45ff-bb01-50b0273c04ff",
   "metadata": {},
   "outputs": [
    {
     "data": {
      "text/plain": [
       "tensor(0.2450)"
      ]
     },
     "execution_count": 262,
     "metadata": {},
     "output_type": "execute_result"
    }
   ],
   "source": [
    "mse = torch.mean((y_test - y_preds) ** 2)\n",
    "mse"
   ]
  },
  {
   "cell_type": "code",
   "execution_count": 263,
   "id": "b9d6093e-dfcb-42fd-8e3b-de8ac7758192",
   "metadata": {},
   "outputs": [
    {
     "data": {
      "image/png": "[encoded data removed]",
      "text/plain": [
       "<Figure size 1000x700 with 1 Axes>"
      ]
     },
     "metadata": {},
     "output_type": "display_data"
    }
   ],
   "source": [
    "plot_predictions(predictions=y_preds)"
   ]
  },
  {
   "cell_type": "markdown",
   "id": "e89908d8-615c-4833-9f71-d0cb6d57f2d9",
   "metadata": {},
   "source": [
    "### Things we need to train model:\n",
    "\n",
    "* *Loss Function*: A function to measure how wrong your model's prediction are to the idea outputs.\n",
    "* *Optimizier*: Takes into account the loss of the model and adjusts the model's parameters.\n",
    "\n",
    "Specifically for pytorch we need a:\n",
    "\n",
    "* Training Loop\n",
    "* Testing Loop\n",
    "\n",
    "For optimizer we need to pass **parameters** of model"
   ]
  },
  {
   "cell_type": "code",
   "execution_count": 264,
   "id": "6678f567-8f0b-4ba2-a901-21df2e462b61",
   "metadata": {},
   "outputs": [],
   "source": [
    "# Setup loss function\n",
    "loss_fn = nn.L1Loss()\n",
    "\n",
    "# Setup an optimizer\n",
    "optimizer = torch.optim.SGD(model_0.parameters(), lr = 0.01)"
   ]
  },
  {
   "cell_type": "code",
   "execution_count": 265,
   "id": "fc627de6-ae3c-44d2-b3fe-a8a937d0cfc3",
   "metadata": {},
   "outputs": [
    {
     "data": {
      "text/plain": [
       "L1Loss()"
      ]
     },
     "execution_count": 265,
     "metadata": {},
     "output_type": "execute_result"
    }
   ],
   "source": [
    "loss_fn"
   ]
  },
  {
   "cell_type": "markdown",
   "id": "e7d8fa15-cf15-4514-be7e-7afff870b307",
   "metadata": {},
   "source": [
    "## Building a Training Loop and Testing Loop\n",
    "\n",
    "A couple of things we need in a training loop:\n",
    "\n",
    "0. Loop through the data\n",
    "1. Forward Propogation (this involves data moving through our model's function)\n",
    "2. Calculate Loss (Compare foward pass predictions to ground truth labels)\n",
    "3. Optimizer zero grad\n",
    "4. Loss Backward - Move backwards through network to calc gradients of each of the parameters of our model with respect to the loss.\n",
    "5. Optimizer step - Use optimizer to adjust parameters and try to improve loss"
   ]
  },
  {
   "cell_type": "code",
   "execution_count": 266,
   "id": "d5e8830f-5ff8-4c83-9255-f5fb38389d06",
   "metadata": {},
   "outputs": [
    {
     "name": "stdout",
     "output_type": "stream",
     "text": [
      "Epoch 0 | Loss: 0.31288138031959534 | Test loss: 0.48106518387794495\n",
      "Epoch 10 | Loss: 0.1976713240146637 | Test loss: 0.3463551998138428\n",
      "Epoch 20 | Loss: 0.08908725529909134 | Test loss: 0.21729660034179688\n",
      "Epoch 30 | Loss: 0.053148526698350906 | Test loss: 0.14464017748832703\n",
      "Epoch 40 | Loss: 0.04543796554207802 | Test loss: 0.11360953003168106\n",
      "Epoch 50 | Loss: 0.04167863354086876 | Test loss: 0.09919948130846024\n",
      "Epoch 60 | Loss: 0.03818932920694351 | Test loss: 0.08886633068323135\n",
      "Epoch 70 | Loss: 0.03476089984178543 | Test loss: 0.0805937647819519\n",
      "Epoch 80 | Loss: 0.03132382780313492 | Test loss: 0.07232122868299484\n",
      "Epoch 90 | Loss: 0.02788739837706089 | Test loss: 0.06473556160926819\n",
      "Epoch 100 | Loss: 0.024458957836031914 | Test loss: 0.05646304413676262\n",
      "Epoch 110 | Loss: 0.021020207554101944 | Test loss: 0.04819049686193466\n",
      "Epoch 120 | Loss: 0.01758546568453312 | Test loss: 0.04060482233762741\n",
      "Epoch 130 | Loss: 0.014155393466353416 | Test loss: 0.03233227878808975\n",
      "Epoch 140 | Loss: 0.010716589167714119 | Test loss: 0.024059748277068138\n",
      "Epoch 150 | Loss: 0.0072835334576666355 | Test loss: 0.016474086791276932\n",
      "Epoch 160 | Loss: 0.0038517764769494534 | Test loss: 0.008201557211577892\n",
      "Epoch 170 | Loss: 0.008932482451200485 | Test loss: 0.005023092031478882\n",
      "Epoch 180 | Loss: 0.008932482451200485 | Test loss: 0.005023092031478882\n",
      "Epoch 190 | Loss: 0.008932482451200485 | Test loss: 0.005023092031478882\n"
     ]
    }
   ],
   "source": [
    "torch.manual_seed(42)\n",
    "# An epoch is one loop through data\n",
    "epochs = 200\n",
    "\n",
    "### Training\n",
    "# Step 0: Loop through data\n",
    "for epoch in range(epochs):\n",
    "    # Set the model to training mode\n",
    "    model_0.train() # train mode in Pytorch sets all params that requires grad with requires gradient \n",
    "    # Forward pass\n",
    "    y_pred = model_0(X_train)\n",
    "    # Calculate Loss\n",
    "    loss = loss_fn(y_pred, y_train)\n",
    "    # 3. Optimizer zero grad\n",
    "    optimizer.zero_grad()\n",
    "    # 4. Perform backpropogation on the loss with respect to the paramters of the model\n",
    "    loss.backward()\n",
    "    # 5. Step the optimizer: Perform gradient descent\n",
    "    optimizer.step() # Optimizer will accumlate through the loop, so we need to reset it everytime in step 3\n",
    "    \n",
    "    model_0.eval() # Turns off different settings in the model not needed for evaluation/testing\n",
    "\n",
    "    ### Testing code\n",
    "\n",
    "    with torch.inference_mode(): # <- This turns off gradient tracking and a couple more things\n",
    "        # 1. Forward Pass\n",
    "        test_preds = model_0(X_test)\n",
    "        # 2. Calculate Loss\n",
    "        test_loss = loss_fn(test_preds, y_test)\n",
    "    if epoch % 10 == 0:\n",
    "        print(f\"Epoch {epoch} | Loss: {loss} | Test loss: {test_loss}\")\n",
    "    "
   ]
  },
  {
   "cell_type": "code",
   "execution_count": 267,
   "id": "e8df180f-d644-4c04-adf9-4e56405b6e45",
   "metadata": {},
   "outputs": [
    {
     "data": {
      "text/plain": [
       "OrderedDict([('weights', tensor([0.6990])), ('bias', tensor([0.3093]))])"
      ]
     },
     "execution_count": 267,
     "metadata": {},
     "output_type": "execute_result"
    }
   ],
   "source": [
    "model_0.state_dict()"
   ]
  },
  {
   "cell_type": "code",
   "execution_count": 268,
   "id": "5a096d59-26b1-46d5-b6c0-0f5510082b06",
   "metadata": {},
   "outputs": [],
   "source": [
    "with torch.inference_mode():\n",
    "    y_preds_new = model_0(X_test)"
   ]
  },
  {
   "cell_type": "code",
   "execution_count": 269,
   "id": "82be496e-3716-4ae0-aec6-6d3665a25c2d",
   "metadata": {},
   "outputs": [
    {
     "data": {
      "image/png": "[encoded data removed]",
      "text/plain": [
       "<Figure size 1000x700 with 1 Axes>"
      ]
     },
     "metadata": {},
     "output_type": "display_data"
    }
   ],
   "source": [
    "plot_predictions(predictions=y_preds)"
   ]
  },
  {
   "cell_type": "code",
   "execution_count": 270,
   "id": "efdc6c05-1151-4b67-ad76-4ad2b530e3bf",
   "metadata": {},
   "outputs": [
    {
     "data": {
      "image/png": "[encoded data removed]",
      "text/plain": [
       "<Figure size 1000x700 with 1 Axes>"
      ]
     },
     "metadata": {},
     "output_type": "display_data"
    }
   ],
   "source": [
    "plot_predictions(predictions=y_preds_new)"
   ]
  },
  {
   "cell_type": "markdown",
   "id": "caf48461-1564-4aad-be34-2071dc8f1a15",
   "metadata": {},
   "source": [
    "### Saving a model in Pytorch:\n",
    "\n",
    "There are three ways to do this:\n",
    "\n",
    "1. `torch.save()` - allows you to save a PyTorch object in Python's pickle format\n",
    "2. `torch.load()` - allows you to load a saved PyTorch object\n",
    "3. `torch.nn.Module.load_state_dict()`: Load a model's saved dictionary"
   ]
  },
  {
   "cell_type": "code",
   "execution_count": 271,
   "id": "7e2d590c-ff32-4470-a3ab-da58ae1e9279",
   "metadata": {},
   "outputs": [
    {
     "data": {
      "text/plain": [
       "OrderedDict([('weights', tensor([0.6990])), ('bias', tensor([0.3093]))])"
      ]
     },
     "execution_count": 271,
     "metadata": {},
     "output_type": "execute_result"
    }
   ],
   "source": [
    "model_0.state_dict()"
   ]
  },
  {
   "cell_type": "markdown",
   "id": "2765eb36-d9e8-4bf9-b64d-c4bcc79ef87a",
   "metadata": {},
   "source": [
    "### 6. Puttiing it all back together"
   ]
  },
  {
   "cell_type": "code",
   "execution_count": 272,
   "id": "13d0dca6-d952-4a6d-b129-f48f67c1a0ec",
   "metadata": {},
   "outputs": [],
   "source": [
    "import torch\n",
    "from torch import nn\n",
    "import matplotlib.pyplot as plt"
   ]
  },
  {
   "cell_type": "markdown",
   "id": "f30ebb23-791d-4d9b-b0de-44d39438543f",
   "metadata": {},
   "source": [
    "## Create device agnostic code:\n",
    "\n",
    "If GPU exists then use otherwise CPU"
   ]
  },
  {
   "cell_type": "code",
   "execution_count": 273,
   "id": "f5f68059-3b3c-4f1c-80d0-6322ad7944b7",
   "metadata": {},
   "outputs": [
    {
     "name": "stdout",
     "output_type": "stream",
     "text": [
      "cuda\n"
     ]
    }
   ],
   "source": [
    "device = 'cuda' if torch.cuda.is_available() else 'cpu'\n",
    "print(device)"
   ]
  },
  {
   "cell_type": "markdown",
   "id": "fae338a2-164b-4063-96d4-5b7cbd7ea51a",
   "metadata": {},
   "source": [
    "### Data: \n",
    "\n",
    "Create data using LinearRegression Data using `y = mx + c`"
   ]
  },
  {
   "cell_type": "code",
   "execution_count": 404,
   "id": "078221aa-b797-410a-b9b3-e292f2397465",
   "metadata": {},
   "outputs": [
    {
     "data": {
      "text/plain": [
       "(tensor([[0.0000],\n",
       "         [0.0200]]),\n",
       " tensor([[0.3000],\n",
       "         [0.3140]]))"
      ]
     },
     "execution_count": 404,
     "metadata": {},
     "output_type": "execute_result"
    }
   ],
   "source": [
    "weight = 0.7\n",
    "bias = 0.3\n",
    "\n",
    "# Create range values\n",
    "\n",
    "start = 0\n",
    "end = 1\n",
    "step = 0.02\n",
    "\n",
    "# Create X and y\n",
    "\n",
    "X = torch.arange(start, end, step).unsqueeze(dim= 1)\n",
    "y = weight * X + bias\n",
    "\n",
    "X[:2], y[:2]"
   ]
  },
  {
   "cell_type": "code",
   "execution_count": 433,
   "id": "f5c7874a-0414-42b0-a76c-e5b3827292a9",
   "metadata": {},
   "outputs": [],
   "source": [
    "def plot_predictions(train_data=X_train, \n",
    "                     train_labels=y_train, \n",
    "                     test_data=X_test, \n",
    "                     test_labels=y_test, \n",
    "                     predictions=None):\n",
    "  \"\"\"\n",
    "  Plots training data, test data and compares predictions.\n",
    "  \"\"\"\n",
    "  train_data = train_data.cpu().numpy() \n",
    "  train_labels = train_labels.cpu().numpy()\n",
    "  test_data = test_data.cpu().numpy()\n",
    "  test_labels = test_labels.cpu().numpy()\n",
    "    \n",
    "\n",
    "  # Plot training data in blue\n",
    "  plt.scatter(train_data, train_labels, c=\"b\", s=4, label=\"Training data\")\n",
    "  \n",
    "  # Plot test data in green\n",
    "  plt.scatter(test_data, test_labels, c=\"g\", s=4, label=\"Testing data\")\n",
    "\n",
    "  if predictions is not None:\n",
    "    # Plot the predictions in red (predictions were made on the test data)\n",
    "    plt.scatter(test_data, predictions, c=\"r\", s=4, label=\"Predictions\")\n",
    "\n",
    "  # Show the legend\n",
    "  plt.legend(prop={\"size\": 14});"
   ]
  },
  {
   "cell_type": "code",
   "execution_count": 434,
   "id": "f3f80a5e-ca19-46b0-a247-8d3d96702912",
   "metadata": {},
   "outputs": [
    {
     "data": {
      "text/plain": [
       "(40, 10)"
      ]
     },
     "execution_count": 434,
     "metadata": {},
     "output_type": "execute_result"
    }
   ],
   "source": [
    "# Split the data\n",
    "\n",
    "train_split = int(0.8 * len(X))\n",
    "X_train, y_train = X[:train_split], y[:train_split]\n",
    "X_test, y_test = X[train_split:], y[train_split:]\n",
    "\n",
    "len(X_train), len(X_test)"
   ]
  },
  {
   "cell_type": "code",
   "execution_count": 435,
   "id": "bd4ecd53-7c0d-4f0b-8e35-94ed14853828",
   "metadata": {},
   "outputs": [
    {
     "data": {
      "image/png": "[encoded data removed]",
      "text/plain": [
       "<Figure size 640x480 with 1 Axes>"
      ]
     },
     "metadata": {},
     "output_type": "display_data"
    }
   ],
   "source": [
    "# Plot the data\n",
    "plot_predictions(X_train, y_train, X_test, y_test)"
   ]
  },
  {
   "cell_type": "code",
   "execution_count": 436,
   "id": "f0aa5edc-bfa9-4e95-84b5-77f3ca50e59a",
   "metadata": {},
   "outputs": [],
   "source": [
    "class LinearRegression(nn.Module):\n",
    "    def __init__(self):\n",
    "        super().__init__()\n",
    "        ## Use nn.Linear() for creating the model parameters / also called linear transfom, probing layer, fully connected layer, dense layer\n",
    "        self.linear_layer = nn.Linear(in_features= 1, out_features=1)\n",
    "    def forward(self, x: torch.tensor) -> torch.tensor:\n",
    "        return self.linear_layer(x)\n",
    "        "
   ]
  },
  {
   "cell_type": "code",
   "execution_count": 437,
   "id": "6ba8382b-eaf0-4d84-9778-305437704ab9",
   "metadata": {},
   "outputs": [],
   "source": [
    "torch.manual_seed(42)\n",
    "model = LinearRegression()"
   ]
  },
  {
   "cell_type": "code",
   "execution_count": 438,
   "id": "73b1b8bd-9130-44b6-8bbd-2de2e3b171bc",
   "metadata": {},
   "outputs": [
    {
     "data": {
      "text/plain": [
       "LinearRegression(\n",
       "  (linear_layer): Linear(in_features=1, out_features=1, bias=True)\n",
       ")"
      ]
     },
     "execution_count": 438,
     "metadata": {},
     "output_type": "execute_result"
    }
   ],
   "source": [
    "model.to(device)"
   ]
  },
  {
   "cell_type": "code",
   "execution_count": 439,
   "id": "5b072820-03c8-4a73-9293-e5c22b2bd10e",
   "metadata": {},
   "outputs": [
    {
     "data": {
      "text/plain": [
       "device(type='cuda', index=0)"
      ]
     },
     "execution_count": 439,
     "metadata": {},
     "output_type": "execute_result"
    }
   ],
   "source": [
    "next(model.parameters()).device"
   ]
  },
  {
   "cell_type": "code",
   "execution_count": 440,
   "id": "14387ba1-b6e7-419e-b22e-1a54db1f1338",
   "metadata": {},
   "outputs": [
    {
     "data": {
      "text/plain": [
       "OrderedDict([('linear_layer.weight', tensor([[0.7645]], device='cuda:0')),\n",
       "             ('linear_layer.bias', tensor([0.8300], device='cuda:0'))])"
      ]
     },
     "execution_count": 440,
     "metadata": {},
     "output_type": "execute_result"
    }
   ],
   "source": [
    "model.state_dict()"
   ]
  },
  {
   "cell_type": "code",
   "execution_count": 441,
   "id": "ab0e28dc-a0b3-40f0-a69b-3f45b9ad2fca",
   "metadata": {},
   "outputs": [],
   "source": [
    "loss_fn = nn.MSELoss()\n",
    "optimizer = torch.optim.SGD(params= model.parameters(), lr = 0.01)\n",
    "epochs = 200"
   ]
  },
  {
   "cell_type": "code",
   "execution_count": null,
   "id": "5c6d42c0-bc17-416a-9ed1-e72392d02d6a",
   "metadata": {},
   "outputs": [],
   "source": []
  },
  {
   "cell_type": "code",
   "execution_count": 442,
   "id": "d2ee87dc-4e9b-4ac2-8562-8a54b5566c99",
   "metadata": {},
   "outputs": [
    {
     "name": "stdout",
     "output_type": "stream",
     "text": [
      "Epoch: 0 | Loss: 0.3084445595741272 | Test Loss: 0.3276861608028412\n",
      "Epoch: 10 | Loss: 0.19325116276741028 | Test Loss: 0.1937667429447174\n",
      "Epoch: 20 | Loss: 0.12119390070438385 | Test Loss: 0.11270599812269211\n",
      "Epoch: 30 | Loss: 0.0761176124215126 | Test Loss: 0.06411734968423843\n",
      "Epoch: 40 | Loss: 0.04791749641299248 | Test Loss: 0.03537705913186073\n",
      "Epoch: 50 | Loss: 0.030273234471678734 | Test Loss: 0.018689408898353577\n",
      "Epoch: 60 | Loss: 0.01923157274723053 | Test Loss: 0.009256726130843163\n",
      "Epoch: 70 | Loss: 0.012319830246269703 | Test Loss: 0.004139689262956381\n",
      "Epoch: 80 | Loss: 0.007991346530616283 | Test Loss: 0.0015478996792808175\n",
      "Epoch: 90 | Loss: 0.005278761964291334 | Test Loss: 0.00039929780177772045\n",
      "Epoch: 100 | Loss: 0.0035769843962043524 | Test Loss: 4.6642835513921455e-05\n",
      "Epoch: 110 | Loss: 0.002507530152797699 | Test Loss: 0.00010826822835952044\n",
      "Epoch: 120 | Loss: 0.0018336856737732887 | Test Loss: 0.00036361892125569284\n",
      "Epoch: 130 | Loss: 0.0014073698548600078 | Test Loss: 0.0006889651995152235\n",
      "Epoch: 140 | Loss: 0.0011359736090525985 | Test Loss: 0.0010180606041103601\n",
      "Epoch: 150 | Loss: 0.0009615548187866807 | Test Loss: 0.0013182314578443766\n",
      "Epoch: 160 | Loss: 0.0008478842792101204 | Test Loss: 0.0015758629888296127\n",
      "Epoch: 170 | Loss: 0.0007722929585725069 | Test Loss: 0.001787802204489708\n",
      "Epoch: 180 | Loss: 0.0007206015288829803 | Test Loss: 0.001956275664269924\n",
      "Epoch: 190 | Loss: 0.0006839397829025984 | Test Loss: 0.0020859853830188513\n"
     ]
    }
   ],
   "source": [
    "torch.manual_seed(42)\n",
    "# Put data on GPU\n",
    "X_train = X_train.to(device)\n",
    "y_train = y_train.to(device)\n",
    "X_test = X_test.to(device)\n",
    "y_test = y_test.to(device)\n",
    "for epoch in range(epochs):\n",
    "    model.train()\n",
    "    \n",
    "    y_pred = model(X_train)\n",
    "    loss = loss_fn(y_pred, y_train)\n",
    "    optimizer.zero_grad()\n",
    "    loss.backward()\n",
    "    optimizer.step()\n",
    "    model.eval()\n",
    "    with torch.inference_mode():\n",
    "        test_preds = model(X_test)\n",
    "        test_loss = loss_fn(test_preds, y_test)\n",
    "# Print \n",
    "    if epoch % 10 == 0:\n",
    "        print(f\"Epoch: {epoch} | Loss: {loss} | Test Loss: {test_loss}\")"
   ]
  },
  {
   "cell_type": "code",
   "execution_count": 443,
   "id": "97f90d5c-f66d-45b5-a09d-0e2e7faf6927",
   "metadata": {},
   "outputs": [
    {
     "data": {
      "text/plain": [
       "OrderedDict([('linear_layer.weight', tensor([[0.5933]], device='cuda:0')),\n",
       "             ('linear_layer.bias', tensor([0.3487], device='cuda:0'))])"
      ]
     },
     "execution_count": 443,
     "metadata": {},
     "output_type": "execute_result"
    }
   ],
   "source": [
    "model.state_dict()"
   ]
  },
  {
   "cell_type": "code",
   "execution_count": 444,
   "id": "e51820e5-d598-4d82-810d-68dccfc5c619",
   "metadata": {},
   "outputs": [
    {
     "data": {
      "text/plain": [
       "(0.7, 0.3)"
      ]
     },
     "execution_count": 444,
     "metadata": {},
     "output_type": "execute_result"
    }
   ],
   "source": [
    "weight, bias"
   ]
  },
  {
   "cell_type": "code",
   "execution_count": 445,
   "id": "43b031a2-615a-4426-9dcd-109b3941bb8a",
   "metadata": {},
   "outputs": [
    {
     "data": {
      "text/plain": [
       "tensor([[0.8234],\n",
       "        [0.8352],\n",
       "        [0.8471],\n",
       "        [0.8590],\n",
       "        [0.8708],\n",
       "        [0.8827],\n",
       "        [0.8946],\n",
       "        [0.9064],\n",
       "        [0.9183],\n",
       "        [0.9302]], device='cuda:0')"
      ]
     },
     "execution_count": 445,
     "metadata": {},
     "output_type": "execute_result"
    }
   ],
   "source": [
    "model.eval()\n",
    "with torch.inference_mode():\n",
    "    y_preds = model(X_test)\n",
    "y_preds\n"
   ]
  },
  {
   "cell_type": "code",
   "execution_count": 446,
   "id": "20c63c20-dcaf-4341-9a94-40d6cf622513",
   "metadata": {},
   "outputs": [
    {
     "data": {
      "image/png": "[encoded data removed]",
      "text/plain": [
       "<Figure size 640x480 with 1 Axes>"
      ]
     },
     "metadata": {},
     "output_type": "display_data"
    }
   ],
   "source": [
    "plot_predictions(predictions=y_preds.cpu())"
   ]
  },
  {
   "cell_type": "code",
   "execution_count": null,
   "id": "cf974e09-f2ce-48dc-b8b4-5aa670e110aa",
   "metadata": {},
   "outputs": [],
   "source": []
  }
 ],
 "metadata": {
  "kernelspec": {
   "display_name": "Python 3 (ipykernel)",
   "language": "python",
   "name": "python3"
  },
  "language_info": {
   "codemirror_mode": {
    "name": "ipython",
    "version": 3
   },
   "file_extension": ".py",
   "mimetype": "text/x-python",
   "name": "python",
   "nbconvert_exporter": "python",
   "pygments_lexer": "ipython3",
   "version": "3.10.16"
  }
 },
 "nbformat": 4,
 "nbformat_minor": 5
}

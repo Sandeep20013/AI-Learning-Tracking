{
 "cells": [
  {
   "cell_type": "code",
   "execution_count": 1,
   "id": "1a23954c-31ea-4d03-ba21-f469e8a84a59",
   "metadata": {},
   "outputs": [],
   "source": [
    "import torch\n",
    "import numpy as np"
   ]
  },
  {
   "cell_type": "code",
   "execution_count": 2,
   "id": "6400cf0b-8bd5-4bd4-aaba-7def08574572",
   "metadata": {},
   "outputs": [
    {
     "name": "stdout",
     "output_type": "stream",
     "text": [
      "2.6.0+cu118\n"
     ]
    }
   ],
   "source": [
    "print(torch.__version__)"
   ]
  },
  {
   "cell_type": "markdown",
   "id": "dbad0779-14b9-440b-a47a-a5b518e41dad",
   "metadata": {},
   "source": [
    "# Introduction "
   ]
  },
  {
   "cell_type": "markdown",
   "id": "05994fec-36bf-43e7-bae1-b8dc94c4e6d2",
   "metadata": {},
   "source": [
    "### Creating Tensors"
   ]
  },
  {
   "cell_type": "code",
   "execution_count": 3,
   "id": "810b9133-0b83-4251-ac9e-2337b9b7ba69",
   "metadata": {},
   "outputs": [],
   "source": [
    "# scalar\n",
    "scalar = torch.tensor(7)"
   ]
  },
  {
   "cell_type": "code",
   "execution_count": 4,
   "id": "440ec42e-108e-47ac-a435-ddadfe9cb7bc",
   "metadata": {},
   "outputs": [
    {
     "data": {
      "text/plain": [
       "tensor(7)"
      ]
     },
     "execution_count": 4,
     "metadata": {},
     "output_type": "execute_result"
    }
   ],
   "source": [
    "scalar"
   ]
  },
  {
   "cell_type": "code",
   "execution_count": 5,
   "id": "04f70d98-f897-459b-bec6-7887480b374a",
   "metadata": {},
   "outputs": [
    {
     "data": {
      "text/plain": [
       "torch.int64"
      ]
     },
     "execution_count": 5,
     "metadata": {},
     "output_type": "execute_result"
    }
   ],
   "source": [
    "scalar.dtype"
   ]
  },
  {
   "cell_type": "code",
   "execution_count": 6,
   "id": "21a31933-5ae3-43a3-bde1-6b2a30831057",
   "metadata": {},
   "outputs": [
    {
     "data": {
      "text/plain": [
       "0"
      ]
     },
     "execution_count": 6,
     "metadata": {},
     "output_type": "execute_result"
    }
   ],
   "source": [
    "scalar.ndim"
   ]
  },
  {
   "cell_type": "code",
   "execution_count": 7,
   "id": "93722212-9231-48a2-b266-c11986324ad4",
   "metadata": {},
   "outputs": [
    {
     "data": {
      "text/plain": [
       "7"
      ]
     },
     "execution_count": 7,
     "metadata": {},
     "output_type": "execute_result"
    }
   ],
   "source": [
    "# Get tensor value back\n",
    "scalar.item()"
   ]
  },
  {
   "cell_type": "code",
   "execution_count": 8,
   "id": "b23b9f4c-a1f9-4e75-9ff4-e7aaab175311",
   "metadata": {},
   "outputs": [],
   "source": [
    "# Vector\n",
    "vector = torch.tensor([7,7,7])"
   ]
  },
  {
   "cell_type": "code",
   "execution_count": 9,
   "id": "4c7f8213-df03-41bf-8bb0-371340e5e14b",
   "metadata": {},
   "outputs": [
    {
     "data": {
      "text/plain": [
       "tensor([7, 7, 7])"
      ]
     },
     "execution_count": 9,
     "metadata": {},
     "output_type": "execute_result"
    }
   ],
   "source": [
    "vector"
   ]
  },
  {
   "cell_type": "code",
   "execution_count": 10,
   "id": "53ecadd5-e2ab-48af-8aa4-da8245d5569a",
   "metadata": {},
   "outputs": [
    {
     "data": {
      "text/plain": [
       "torch.int64"
      ]
     },
     "execution_count": 10,
     "metadata": {},
     "output_type": "execute_result"
    }
   ],
   "source": [
    "vector.dtype"
   ]
  },
  {
   "cell_type": "code",
   "execution_count": 11,
   "id": "bce9065a-ec53-4616-9b70-4cf1032534d5",
   "metadata": {},
   "outputs": [
    {
     "data": {
      "text/plain": [
       "1"
      ]
     },
     "execution_count": 11,
     "metadata": {},
     "output_type": "execute_result"
    }
   ],
   "source": [
    "vector.ndim"
   ]
  },
  {
   "cell_type": "code",
   "execution_count": 12,
   "id": "f1f35729-da63-429e-8220-9ae3b2e394ed",
   "metadata": {},
   "outputs": [
    {
     "data": {
      "text/plain": [
       "torch.Size([3])"
      ]
     },
     "execution_count": 12,
     "metadata": {},
     "output_type": "execute_result"
    }
   ],
   "source": [
    "vector.shape"
   ]
  },
  {
   "cell_type": "code",
   "execution_count": 13,
   "id": "3ad1697c-4957-44f9-aa0d-24a00d509ad2",
   "metadata": {},
   "outputs": [],
   "source": [
    "# MATRIX\n",
    "matrix = torch.tensor([[7,8], [2,3]])"
   ]
  },
  {
   "cell_type": "code",
   "execution_count": 14,
   "id": "d131d319-ab85-4a7c-b419-6207eb838e59",
   "metadata": {},
   "outputs": [
    {
     "data": {
      "text/plain": [
       "2"
      ]
     },
     "execution_count": 14,
     "metadata": {},
     "output_type": "execute_result"
    }
   ],
   "source": [
    "matrix.ndim"
   ]
  },
  {
   "cell_type": "code",
   "execution_count": 15,
   "id": "ad0a9803-efba-45ac-9d45-92f0d3148b86",
   "metadata": {},
   "outputs": [
    {
     "data": {
      "text/plain": [
       "torch.Size([2, 2])"
      ]
     },
     "execution_count": 15,
     "metadata": {},
     "output_type": "execute_result"
    }
   ],
   "source": [
    "matrix.shape"
   ]
  },
  {
   "cell_type": "code",
   "execution_count": 16,
   "id": "4fc241e6-226c-4156-897a-337367e73d7f",
   "metadata": {},
   "outputs": [
    {
     "data": {
      "text/plain": [
       "tensor([2, 3])"
      ]
     },
     "execution_count": 16,
     "metadata": {},
     "output_type": "execute_result"
    }
   ],
   "source": [
    "matrix[1]"
   ]
  },
  {
   "cell_type": "code",
   "execution_count": 17,
   "id": "90d6f623-8e49-4cb9-93b2-3ebfd1f8d7a5",
   "metadata": {},
   "outputs": [
    {
     "data": {
      "text/plain": [
       "tensor(3)"
      ]
     },
     "execution_count": 17,
     "metadata": {},
     "output_type": "execute_result"
    }
   ],
   "source": [
    "matrix[1][1]"
   ]
  },
  {
   "cell_type": "code",
   "execution_count": 18,
   "id": "6d0f71d0-b909-4a5a-8966-a376002dc2bd",
   "metadata": {},
   "outputs": [],
   "source": [
    "# Tensor\n",
    "TENSOR = torch.tensor([[[0.1,2,3],[4,5,6], [7,8,9]], [[1,3,4], [1,5,6], [1,4,3]]])"
   ]
  },
  {
   "cell_type": "code",
   "execution_count": 19,
   "id": "4c3c3f01-8c27-411d-b3ae-035359cb4dd8",
   "metadata": {},
   "outputs": [
    {
     "data": {
      "text/plain": [
       "tensor([[[0.1000, 2.0000, 3.0000],\n",
       "         [4.0000, 5.0000, 6.0000],\n",
       "         [7.0000, 8.0000, 9.0000]],\n",
       "\n",
       "        [[1.0000, 3.0000, 4.0000],\n",
       "         [1.0000, 5.0000, 6.0000],\n",
       "         [1.0000, 4.0000, 3.0000]]])"
      ]
     },
     "execution_count": 19,
     "metadata": {},
     "output_type": "execute_result"
    }
   ],
   "source": [
    "TENSOR"
   ]
  },
  {
   "cell_type": "code",
   "execution_count": 20,
   "id": "5aadccfa-72af-4294-8e62-c195f8da65e6",
   "metadata": {},
   "outputs": [
    {
     "data": {
      "text/plain": [
       "3"
      ]
     },
     "execution_count": 20,
     "metadata": {},
     "output_type": "execute_result"
    }
   ],
   "source": [
    "TENSOR.ndim"
   ]
  },
  {
   "cell_type": "code",
   "execution_count": 21,
   "id": "e7cab1f5-69bd-48b7-9a46-c723c3f19d3d",
   "metadata": {},
   "outputs": [
    {
     "data": {
      "text/plain": [
       "torch.Size([2, 3, 3])"
      ]
     },
     "execution_count": 21,
     "metadata": {},
     "output_type": "execute_result"
    }
   ],
   "source": [
    "TENSOR.shape"
   ]
  },
  {
   "cell_type": "code",
   "execution_count": 22,
   "id": "ac7f8666-96df-4eef-8731-8d7568c1105f",
   "metadata": {},
   "outputs": [
    {
     "data": {
      "text/plain": [
       "torch.float32"
      ]
     },
     "execution_count": 22,
     "metadata": {},
     "output_type": "execute_result"
    }
   ],
   "source": [
    "TENSOR.dtype"
   ]
  },
  {
   "cell_type": "markdown",
   "id": "99234ebf-0859-4052-aa4f-92aaa8f6da64",
   "metadata": {},
   "source": [
    "## Random Tensors:\n",
    "\n",
    "Why random tensors?\n",
    "\n",
    "Random Tensors are important because the way many neural networks learn is that they start with tensors full of random numbers and then adjust to random numbers\n",
    "\n",
    "`Start with Random Numbers` -> `look at data` -> `update random numbers` -> `look at data` -> `update random numbers`\n",
    "\n",
    "https://docs.pytorch.org/docs/stable/generated/torch.rand.html"
   ]
  },
  {
   "cell_type": "code",
   "execution_count": 23,
   "id": "21dbaa72-0ae7-4daf-b068-a123097e6098",
   "metadata": {},
   "outputs": [],
   "source": [
    "# Create a random tensor of shape (3, 4)\n",
    "random_tensor = torch.rand(1 ,10, 10)"
   ]
  },
  {
   "cell_type": "code",
   "execution_count": 24,
   "id": "65fa1773-ab1c-4811-8987-65799906f5d3",
   "metadata": {},
   "outputs": [
    {
     "data": {
      "text/plain": [
       "tensor([[[0.6568, 0.0136, 0.8032, 0.1384, 0.6687, 0.2018, 0.4297, 0.9056,\n",
       "          0.8508, 0.0558],\n",
       "         [0.5176, 0.1405, 0.8899, 0.5471, 0.9527, 0.2354, 0.3116, 0.4450,\n",
       "          0.4319, 0.3050],\n",
       "         [0.2239, 0.9280, 0.3444, 0.0083, 0.0373, 0.8639, 0.7611, 0.8091,\n",
       "          0.7374, 0.2115],\n",
       "         [0.9671, 0.2753, 0.5928, 0.7696, 0.9150, 0.9360, 0.4025, 0.9261,\n",
       "          0.3665, 0.8420],\n",
       "         [0.3097, 0.7043, 0.1591, 0.1050, 0.9369, 0.1520, 0.6709, 0.0415,\n",
       "          0.5848, 0.4323],\n",
       "         [0.1170, 0.2894, 0.4067, 0.0646, 0.3964, 0.3267, 0.2128, 0.4770,\n",
       "          0.8787, 0.9020],\n",
       "         [0.5842, 0.0410, 0.0720, 0.9427, 0.0303, 0.7480, 0.1827, 0.0319,\n",
       "          0.7127, 0.0152],\n",
       "         [0.8769, 0.7629, 0.2868, 0.2077, 0.3233, 0.0594, 0.2758, 0.3606,\n",
       "          0.7796, 0.7831],\n",
       "         [0.7882, 0.5605, 0.3880, 0.1482, 0.6817, 0.5181, 0.7943, 0.7301,\n",
       "          0.6237, 0.6444],\n",
       "         [0.7200, 0.9480, 0.1834, 0.1709, 0.6476, 0.1653, 0.1322, 0.2977,\n",
       "          0.1391, 0.3889]]])"
      ]
     },
     "execution_count": 24,
     "metadata": {},
     "output_type": "execute_result"
    }
   ],
   "source": [
    "random_tensor"
   ]
  },
  {
   "cell_type": "code",
   "execution_count": 25,
   "id": "4abc07a9-6ef4-44c2-8fa7-b0e5dbed64db",
   "metadata": {},
   "outputs": [
    {
     "data": {
      "text/plain": [
       "torch.Size([1, 10, 10])"
      ]
     },
     "execution_count": 25,
     "metadata": {},
     "output_type": "execute_result"
    }
   ],
   "source": [
    "random_tensor.shape"
   ]
  },
  {
   "cell_type": "code",
   "execution_count": 26,
   "id": "8cda6293-1db3-4acc-b00e-0d7fa36872fe",
   "metadata": {},
   "outputs": [
    {
     "data": {
      "text/plain": [
       "3"
      ]
     },
     "execution_count": 26,
     "metadata": {},
     "output_type": "execute_result"
    }
   ],
   "source": [
    "random_tensor.ndim"
   ]
  },
  {
   "cell_type": "code",
   "execution_count": 27,
   "id": "422ad61e-d06c-4502-a42d-98203ab6dfbc",
   "metadata": {},
   "outputs": [],
   "source": [
    "# Create a random tensor with similar shape to an image\n",
    "image_size_tensor = torch.rand(64, 64, 3) # RGB"
   ]
  },
  {
   "cell_type": "code",
   "execution_count": 28,
   "id": "c2ec6a09-64c8-49cc-9f37-b95cc6700286",
   "metadata": {},
   "outputs": [
    {
     "data": {
      "text/plain": [
       "torch.Size([64, 64, 3])"
      ]
     },
     "execution_count": 28,
     "metadata": {},
     "output_type": "execute_result"
    }
   ],
   "source": [
    "image_size_tensor.shape"
   ]
  },
  {
   "cell_type": "code",
   "execution_count": 29,
   "id": "7a36260c-c79c-47f3-a8d2-c977c1e6f173",
   "metadata": {},
   "outputs": [
    {
     "data": {
      "text/plain": [
       "3"
      ]
     },
     "execution_count": 29,
     "metadata": {},
     "output_type": "execute_result"
    }
   ],
   "source": [
    "image_size_tensor.ndim"
   ]
  },
  {
   "cell_type": "markdown",
   "id": "ec8ce9c5-a392-4cdc-9483-9e3bde62499f",
   "metadata": {},
   "source": [
    "### Manipulating Tensors\n",
    "\n",
    "Tensor operations include:\n",
    "* Addition\n",
    "* Subtraction\n",
    "* Multiplication (element-wise)\n",
    "* Division\n",
    "* Matrix Multiplication"
   ]
  },
  {
   "cell_type": "code",
   "execution_count": 30,
   "id": "e7cda462-858a-4126-b128-480e2d98fbc5",
   "metadata": {},
   "outputs": [
    {
     "data": {
      "text/plain": [
       "tensor([11, 12, 13])"
      ]
     },
     "execution_count": 30,
     "metadata": {},
     "output_type": "execute_result"
    }
   ],
   "source": [
    "# Create tensors\n",
    "tensor = torch.tensor([1,2,3])\n",
    "tensor + 10"
   ]
  },
  {
   "cell_type": "code",
   "execution_count": 31,
   "id": "83de1f63-e581-4b10-b02c-3fff0aa8baf3",
   "metadata": {},
   "outputs": [
    {
     "data": {
      "text/plain": [
       "tensor([2, 4, 6])"
      ]
     },
     "execution_count": 31,
     "metadata": {},
     "output_type": "execute_result"
    }
   ],
   "source": [
    "tensor * 2"
   ]
  },
  {
   "cell_type": "code",
   "execution_count": 32,
   "id": "6b52c49e-3c4e-4cfb-86fe-3c07c6f1906e",
   "metadata": {},
   "outputs": [
    {
     "data": {
      "text/plain": [
       "tensor([0.5000, 1.0000, 1.5000])"
      ]
     },
     "execution_count": 32,
     "metadata": {},
     "output_type": "execute_result"
    }
   ],
   "source": [
    "tensor / 2"
   ]
  },
  {
   "cell_type": "code",
   "execution_count": 33,
   "id": "e86b8303-adb7-4c8a-b9fc-aa995ffd7bf1",
   "metadata": {},
   "outputs": [
    {
     "data": {
      "text/plain": [
       "tensor([-9, -8, -7])"
      ]
     },
     "execution_count": 33,
     "metadata": {},
     "output_type": "execute_result"
    }
   ],
   "source": [
    "tensor - 10"
   ]
  },
  {
   "cell_type": "code",
   "execution_count": 34,
   "id": "5c12acd6-5126-4848-9755-6628bc3d302e",
   "metadata": {},
   "outputs": [
    {
     "data": {
      "text/plain": [
       "tensor([3, 6, 9])"
      ]
     },
     "execution_count": 34,
     "metadata": {},
     "output_type": "execute_result"
    }
   ],
   "source": [
    "torch.mul(tensor, 3)"
   ]
  },
  {
   "cell_type": "code",
   "execution_count": 35,
   "id": "9f29904b-c6a5-4d46-9f3f-52573049e3c9",
   "metadata": {},
   "outputs": [
    {
     "data": {
      "text/plain": [
       "tensor([11, 12, 13])"
      ]
     },
     "execution_count": 35,
     "metadata": {},
     "output_type": "execute_result"
    }
   ],
   "source": [
    "torch.add(tensor , 10)"
   ]
  },
  {
   "cell_type": "markdown",
   "id": "7defbed8-85ad-4af6-8586-c8dab1483447",
   "metadata": {},
   "source": [
    "## Matrix Multiplication\n",
    "\n",
    "Two main ways of performing multiplication in neural networks and deep learning\n",
    "\n",
    "1. Element Wise\n",
    "2. Matrix Multiplication"
   ]
  },
  {
   "cell_type": "code",
   "execution_count": 36,
   "id": "f6139a1c-52a2-492c-8c8a-bad68ada1a8f",
   "metadata": {},
   "outputs": [
    {
     "data": {
      "text/plain": [
       "tensor([[[1.0000e-02, 4.0000e+00, 9.0000e+00],\n",
       "         [1.6000e+01, 2.5000e+01, 3.6000e+01],\n",
       "         [4.9000e+01, 6.4000e+01, 8.1000e+01]],\n",
       "\n",
       "        [[1.0000e+00, 9.0000e+00, 1.6000e+01],\n",
       "         [1.0000e+00, 2.5000e+01, 3.6000e+01],\n",
       "         [1.0000e+00, 1.6000e+01, 9.0000e+00]]])"
      ]
     },
     "execution_count": 36,
     "metadata": {},
     "output_type": "execute_result"
    }
   ],
   "source": [
    "TENSOR = torch.tensor([[[0.1,2,3],[4,5,6], [7,8,9]], [[1,3,4], [1,5,6], [1,4,3]]])\n",
    "(TENSOR * TENSOR)"
   ]
  },
  {
   "cell_type": "code",
   "execution_count": 37,
   "id": "c3aa5cf3-5901-48cd-bb86-1caec74a0c71",
   "metadata": {},
   "outputs": [
    {
     "data": {
      "text/plain": [
       "tensor([[[ 29.0100,  34.2000,  39.3000],\n",
       "         [ 62.4000,  81.0000,  96.0000],\n",
       "         [ 95.7000, 126.0000, 150.0000]],\n",
       "\n",
       "        [[  8.0000,  34.0000,  34.0000],\n",
       "         [ 12.0000,  52.0000,  52.0000],\n",
       "         [  8.0000,  35.0000,  37.0000]]])"
      ]
     },
     "execution_count": 37,
     "metadata": {},
     "output_type": "execute_result"
    }
   ],
   "source": [
    "torch.matmul(TENSOR, TENSOR)"
   ]
  },
  {
   "cell_type": "code",
   "execution_count": 38,
   "id": "afffff65-a0dd-4d6b-b5e8-91f3345f93dd",
   "metadata": {},
   "outputs": [
    {
     "data": {
      "text/plain": [
       "tensor([[0.7324, 0.5939, 0.1555, 0.2252, 0.3676, 0.4571, 0.6417, 0.5844, 0.4028,\n",
       "         0.3900]])"
      ]
     },
     "execution_count": 38,
     "metadata": {},
     "output_type": "execute_result"
    }
   ],
   "source": [
    "torch.rand(1, 10)"
   ]
  },
  {
   "cell_type": "code",
   "execution_count": 39,
   "id": "5654c51c-e515-46df-9f47-aeddfe19d56c",
   "metadata": {},
   "outputs": [
    {
     "data": {
      "text/plain": [
       "tensor(985.6100)"
      ]
     },
     "execution_count": 39,
     "metadata": {},
     "output_type": "execute_result"
    }
   ],
   "source": [
    "torch.sum(torch.matmul(TENSOR, TENSOR))"
   ]
  },
  {
   "cell_type": "code",
   "execution_count": 40,
   "id": "b7632a1d-3a55-4c90-b3dd-dd27cf03d3fb",
   "metadata": {},
   "outputs": [],
   "source": [
    "x= torch.arange(0, 10, dtype = float)"
   ]
  },
  {
   "cell_type": "code",
   "execution_count": 41,
   "id": "f1b4ff1f-703a-4e81-adce-c1d7470a9ca5",
   "metadata": {},
   "outputs": [
    {
     "data": {
      "text/plain": [
       "tensor([0., 1., 2., 3., 4., 5., 6., 7., 8., 9.], dtype=torch.float64)"
      ]
     },
     "execution_count": 41,
     "metadata": {},
     "output_type": "execute_result"
    }
   ],
   "source": [
    "x"
   ]
  },
  {
   "cell_type": "code",
   "execution_count": 42,
   "id": "5ca24e60-fe93-45c1-9131-9dcc63fbefef",
   "metadata": {},
   "outputs": [
    {
     "data": {
      "text/plain": [
       "tensor(4.5000, dtype=torch.float64)"
      ]
     },
     "execution_count": 42,
     "metadata": {},
     "output_type": "execute_result"
    }
   ],
   "source": [
    "torch.mean(x)"
   ]
  },
  {
   "cell_type": "markdown",
   "id": "a5e14604-3aca-41a8-8649-252634a71e54",
   "metadata": {},
   "source": [
    "## Reshaping, Stacking, Squeezing, Unsqueezing \n",
    "\n",
    "* Reshaping: Reshapes a defined input tensor to a defined shape.\n",
    "* View: Return a view of an input tensor of certain shape but keep the same memory as the original tensor.\n",
    "* Stacking: Combine multiple tensors on top of each other (vstack) or side by side (hstack)\n",
    "* Squeeze: Removes all `1` dimension to a target tensor.\n",
    "* Unsqueeze: Add a `1` dimension to a target tensor.\n",
    "* Permute: Return a view of the input with dimensions permuted (swapped) in a certain way."
   ]
  },
  {
   "cell_type": "code",
   "execution_count": 44,
   "id": "ff09dd83-d4f4-4c34-adeb-657470b689bb",
   "metadata": {},
   "outputs": [],
   "source": [
    "import torch"
   ]
  },
  {
   "cell_type": "code",
   "execution_count": 63,
   "id": "1fd3c537-7276-40d2-b4cc-86aa8e40390b",
   "metadata": {},
   "outputs": [],
   "source": [
    "x = torch.arange(1, 11, dtype = float)"
   ]
  },
  {
   "cell_type": "code",
   "execution_count": 64,
   "id": "1a597e16-0295-4fb9-bf2f-6ff4ff552b78",
   "metadata": {},
   "outputs": [
    {
     "data": {
      "text/plain": [
       "tensor([ 1.,  2.,  3.,  4.,  5.,  6.,  7.,  8.,  9., 10.], dtype=torch.float64)"
      ]
     },
     "execution_count": 64,
     "metadata": {},
     "output_type": "execute_result"
    }
   ],
   "source": [
    "x"
   ]
  },
  {
   "cell_type": "code",
   "execution_count": 65,
   "id": "813366d4-f26f-47c8-8946-64622da03cfb",
   "metadata": {},
   "outputs": [
    {
     "data": {
      "text/plain": [
       "torch.Size([10])"
      ]
     },
     "execution_count": 65,
     "metadata": {},
     "output_type": "execute_result"
    }
   ],
   "source": [
    "x.shape"
   ]
  },
  {
   "cell_type": "code",
   "execution_count": 70,
   "id": "f3c84a74-93af-4670-8774-b8252a4c2628",
   "metadata": {},
   "outputs": [],
   "source": [
    "x_reshaped = x.reshape(5, 2)"
   ]
  },
  {
   "cell_type": "code",
   "execution_count": 71,
   "id": "edac50a9-f774-4f91-a0a0-b36223341490",
   "metadata": {},
   "outputs": [
    {
     "data": {
      "text/plain": [
       "tensor([[ 1.,  2.],\n",
       "        [ 3.,  4.],\n",
       "        [ 5.,  6.],\n",
       "        [ 7.,  8.],\n",
       "        [ 9., 10.]], dtype=torch.float64)"
      ]
     },
     "execution_count": 71,
     "metadata": {},
     "output_type": "execute_result"
    }
   ],
   "source": [
    "x_reshaped"
   ]
  },
  {
   "cell_type": "code",
   "execution_count": 72,
   "id": "f81190c0-33ed-4ab9-b0c7-c9bd0b83f185",
   "metadata": {},
   "outputs": [
    {
     "data": {
      "text/plain": [
       "tensor([[ 1.,  2.,  3.,  4.,  5.],\n",
       "        [ 6.,  7.,  8.,  9., 10.]], dtype=torch.float64)"
      ]
     },
     "execution_count": 72,
     "metadata": {},
     "output_type": "execute_result"
    }
   ],
   "source": [
    "z = x.view(2#, 5)\n",
    "z"
   ]
  },
  {
   "cell_type": "markdown",
   "id": "a44889a6-0358-4f63-b791-141c597bcc77",
   "metadata": {},
   "source": [
    "# Changing z changes x because view of a tensor shares the same memory as the original input"
   ]
  },
  {
   "cell_type": "code",
   "execution_count": 74,
   "id": "60d173a9-0540-4efd-915c-4eb35c1ef26f",
   "metadata": {},
   "outputs": [],
   "source": [
    "z[:, 0] = 5"
   ]
  },
  {
   "cell_type": "code",
   "execution_count": 75,
   "id": "d739e8bc-6c21-40e9-9b80-1b106b7ed05c",
   "metadata": {},
   "outputs": [
    {
     "data": {
      "text/plain": [
       "(tensor([[ 5.,  2.,  3.,  4.,  5.],\n",
       "         [ 5.,  7.,  8.,  9., 10.]], dtype=torch.float64),\n",
       " tensor([ 5.,  2.,  3.,  4.,  5.,  5.,  7.,  8.,  9., 10.], dtype=torch.float64))"
      ]
     },
     "execution_count": 75,
     "metadata": {},
     "output_type": "execute_result"
    }
   ],
   "source": [
    "z, x"
   ]
  },
  {
   "cell_type": "code",
   "execution_count": 98,
   "id": "60cfe03c-19f7-47a3-bc7e-78cdca17fbf6",
   "metadata": {},
   "outputs": [
    {
     "data": {
      "text/plain": [
       "tensor([[[ 5.,  2.,  3.,  4.,  5.],\n",
       "         [ 5.,  2.,  3.,  4.,  5.],\n",
       "         [ 5.,  2.,  3.,  4.,  5.],\n",
       "         [ 5.,  2.,  3.,  4.,  5.],\n",
       "         [ 5.,  2.,  3.,  4.,  5.]],\n",
       "\n",
       "        [[ 5.,  7.,  8.,  9., 10.],\n",
       "         [ 5.,  7.,  8.,  9., 10.],\n",
       "         [ 5.,  7.,  8.,  9., 10.],\n",
       "         [ 5.,  7.,  8.,  9., 10.],\n",
       "         [ 5.,  7.,  8.,  9., 10.]]], dtype=torch.float64)"
      ]
     },
     "execution_count": 98,
     "metadata": {},
     "output_type": "execute_result"
    }
   ],
   "source": [
    "# Stack Tensors on top \n",
    "x_stacked = torch.stack([z,z,z,z,z], dim = 1)\n",
    "x_stacked"
   ]
  },
  {
   "cell_type": "code",
   "execution_count": 104,
   "id": "b784b376-3690-49de-928b-ae7fbab9b54c",
   "metadata": {},
   "outputs": [
    {
     "data": {
      "text/plain": [
       "tensor([[ 5.,  2.,  3.,  4.,  5.],\n",
       "        [ 5.,  7.,  8.,  9., 10.]], dtype=torch.float64)"
      ]
     },
     "execution_count": 104,
     "metadata": {},
     "output_type": "execute_result"
    }
   ],
   "source": [
    "torch.squeeze(z)"
   ]
  },
  {
   "cell_type": "code",
   "execution_count": 105,
   "id": "4f70b0f5-4195-4c39-acb1-e57bcc8430e1",
   "metadata": {},
   "outputs": [
    {
     "data": {
      "text/plain": [
       "tensor([[ 5.,  2.,  3.,  4.,  5.],\n",
       "        [ 5.,  7.,  8.,  9., 10.]], dtype=torch.float64)"
      ]
     },
     "execution_count": 105,
     "metadata": {},
     "output_type": "execute_result"
    }
   ],
   "source": [
    "z"
   ]
  },
  {
   "cell_type": "code",
   "execution_count": 107,
   "id": "540e2acc-d62c-4cb8-88ec-18ef31077532",
   "metadata": {},
   "outputs": [
    {
     "data": {
      "text/plain": [
       "tensor([[[[[0., 0.]],\n",
       "\n",
       "          [[0., 0.]]]],\n",
       "\n",
       "\n",
       "\n",
       "        [[[[0., 0.]],\n",
       "\n",
       "          [[0., 0.]]]]])"
      ]
     },
     "execution_count": 107,
     "metadata": {},
     "output_type": "execute_result"
    }
   ],
   "source": [
    "x = torch.zeros(2,1,2,1,2)\n",
    "x"
   ]
  },
  {
   "cell_type": "code",
   "execution_count": 108,
   "id": "540ea604-7f8a-4095-969f-2f8570850862",
   "metadata": {},
   "outputs": [
    {
     "data": {
      "text/plain": [
       "torch.Size([2, 1, 2, 1, 2])"
      ]
     },
     "execution_count": 108,
     "metadata": {},
     "output_type": "execute_result"
    }
   ],
   "source": [
    "x.size()"
   ]
  },
  {
   "cell_type": "code",
   "execution_count": 112,
   "id": "2a9a17ee-75b3-452f-9e1a-e931e7f64d37",
   "metadata": {},
   "outputs": [],
   "source": [
    "y = torch.squeeze(x)"
   ]
  },
  {
   "cell_type": "code",
   "execution_count": 113,
   "id": "d7574f1b-80d5-4e53-9a57-f593f5bb3e87",
   "metadata": {},
   "outputs": [
    {
     "data": {
      "text/plain": [
       "tensor([[[0., 0.],\n",
       "         [0., 0.]],\n",
       "\n",
       "        [[0., 0.],\n",
       "         [0., 0.]]])"
      ]
     },
     "execution_count": 113,
     "metadata": {},
     "output_type": "execute_result"
    }
   ],
   "source": [
    "y"
   ]
  },
  {
   "cell_type": "code",
   "execution_count": 114,
   "id": "69873711-5cd5-4965-9783-7af09cb05895",
   "metadata": {},
   "outputs": [
    {
     "data": {
      "text/plain": [
       "tensor([[[0., 0.],\n",
       "         [0., 0.]],\n",
       "\n",
       "        [[0., 0.],\n",
       "         [0., 0.]]])"
      ]
     },
     "execution_count": 114,
     "metadata": {},
     "output_type": "execute_result"
    }
   ],
   "source": [
    "y.squeeze()"
   ]
  },
  {
   "cell_type": "code",
   "execution_count": 116,
   "id": "b65607b7-83b9-4854-b541-e52acc90c455",
   "metadata": {},
   "outputs": [
    {
     "data": {
      "text/plain": [
       "tensor([[[ 5.,  2.],\n",
       "         [ 3.,  4.],\n",
       "         [ 5.,  5.],\n",
       "         [ 7.,  8.],\n",
       "         [ 9., 10.]]], dtype=torch.float64)"
      ]
     },
     "execution_count": 116,
     "metadata": {},
     "output_type": "execute_result"
    }
   ],
   "source": [
    "# Unsqueeze\n",
    "torch.unsqueeze(x_reshaped, 0)"
   ]
  },
  {
   "cell_type": "code",
   "execution_count": 119,
   "id": "f8f5e843-48f9-4329-a065-ec04e9d34c80",
   "metadata": {},
   "outputs": [
    {
     "data": {
      "text/plain": [
       "tensor([[ 5.,  2.],\n",
       "        [ 3.,  4.],\n",
       "        [ 5.,  5.],\n",
       "        [ 7.,  8.],\n",
       "        [ 9., 10.]], dtype=torch.float64)"
      ]
     },
     "execution_count": 119,
     "metadata": {},
     "output_type": "execute_result"
    }
   ],
   "source": [
    "x_reshaped"
   ]
  },
  {
   "cell_type": "code",
   "execution_count": 120,
   "id": "3f46c6b8-2518-45d9-ab30-263f2a31f80b",
   "metadata": {},
   "outputs": [
    {
     "data": {
      "text/plain": [
       "tensor(9)"
      ]
     },
     "execution_count": 120,
     "metadata": {},
     "output_type": "execute_result"
    }
   ],
   "source": [
    "x_reshaped.argmax()"
   ]
  },
  {
   "cell_type": "markdown",
   "id": "f604fd27-774c-4c77-8488-d4fa944c5b0b",
   "metadata": {},
   "source": [
    "# Pytorch and Numpy:"
   ]
  },
  {
   "cell_type": "code",
   "execution_count": 124,
   "id": "932b64c9-3645-49bb-bef3-e2ca7c9fcfee",
   "metadata": {},
   "outputs": [
    {
     "data": {
      "text/plain": [
       "array([0, 1, 2, 3, 4, 5, 6, 7, 8, 9])"
      ]
     },
     "execution_count": 124,
     "metadata": {},
     "output_type": "execute_result"
    }
   ],
   "source": [
    "import torch\n",
    "import numpy\n",
    "array = np.arange(0 ,10)\n",
    "array"
   ]
  },
  {
   "cell_type": "code",
   "execution_count": 126,
   "id": "69accf5c-c402-45c8-bf42-e75fb025e4d7",
   "metadata": {},
   "outputs": [
    {
     "data": {
      "text/plain": [
       "tensor([0, 1, 2, 3, 4, 5, 6, 7, 8, 9])"
      ]
     },
     "execution_count": 126,
     "metadata": {},
     "output_type": "execute_result"
    }
   ],
   "source": [
    "x = torch.from_numpy(array)\n",
    "x"
   ]
  },
  {
   "cell_type": "code",
   "execution_count": 127,
   "id": "699011ee-e824-4a1d-aabd-25f9a510c64d",
   "metadata": {},
   "outputs": [
    {
     "name": "stdout",
     "output_type": "stream",
     "text": [
      "Fri May  9 15:49:49 2025       \n",
      "+-----------------------------------------------------------------------------------------+\n",
      "| NVIDIA-SMI 572.61                 Driver Version: 572.61         CUDA Version: 12.8     |\n",
      "|-----------------------------------------+------------------------+----------------------+\n",
      "| GPU  Name                  Driver-Model | Bus-Id          Disp.A | Volatile Uncorr. ECC |\n",
      "| Fan  Temp   Perf          Pwr:Usage/Cap |           Memory-Usage | GPU-Util  Compute M. |\n",
      "|                                         |                        |               MIG M. |\n",
      "|=========================================+========================+======================|\n",
      "|   0  NVIDIA GeForce GTX 1650      WDDM  |   00000000:01:00.0 Off |                  N/A |\n",
      "| N/A   51C    P0             16W /   50W |      77MiB /   4096MiB |      0%      Default |\n",
      "|                                         |                        |                  N/A |\n",
      "+-----------------------------------------+------------------------+----------------------+\n",
      "                                                                                         \n",
      "+-----------------------------------------------------------------------------------------+\n",
      "| Processes:                                                                              |\n",
      "|  GPU   GI   CI              PID   Type   Process name                        GPU Memory |\n",
      "|        ID   ID                                                               Usage      |\n",
      "|=========================================================================================|\n",
      "|    0   N/A  N/A            9952      C   ...al\\Programs\\Ollama\\ollama.exe      N/A      |\n",
      "|    0   N/A  N/A           12400    C+G   ....0.3240.50\\msedgewebview2.exe      N/A      |\n",
      "|    0   N/A  N/A           14736    C+G   ...App_cw5n1h2txyewy\\LockApp.exe      N/A      |\n",
      "|    0   N/A  N/A           19296    C+G   ...h_cw5n1h2txyewy\\SearchApp.exe      N/A      |\n",
      "|    0   N/A  N/A           19720    C+G   ...\\app-0.4.43\\Postman Agent.exe      N/A      |\n",
      "|    0   N/A  N/A           20240    C+G   ...y\\StartMenuExperienceHost.exe      N/A      |\n",
      "|    0   N/A  N/A           23268    C+G   ...5n1h2txyewy\\TextInputHost.exe      N/A      |\n",
      "|    0   N/A  N/A           25392    C+G   ...h_cw5n1h2txyewy\\SearchApp.exe      N/A      |\n",
      "+-----------------------------------------------------------------------------------------+\n"
     ]
    }
   ],
   "source": [
    "!nvidia-smi"
   ]
  },
  {
   "cell_type": "code",
   "execution_count": 128,
   "id": "114621d3-3212-4b19-977b-49f93c02dc38",
   "metadata": {},
   "outputs": [
    {
     "data": {
      "text/plain": [
       "True"
      ]
     },
     "execution_count": 128,
     "metadata": {},
     "output_type": "execute_result"
    }
   ],
   "source": [
    "torch.cuda.is_available()"
   ]
  },
  {
   "cell_type": "code",
   "execution_count": 129,
   "id": "647b3c87-6a4a-4a38-9fe0-4280ad353eae",
   "metadata": {},
   "outputs": [],
   "source": [
    "device = 'cuda' if torch.cuda.is_available() else \"cpu\""
   ]
  },
  {
   "cell_type": "code",
   "execution_count": 130,
   "id": "0c929846-b78e-4a1d-aecc-1870dc7e329f",
   "metadata": {},
   "outputs": [
    {
     "data": {
      "text/plain": [
       "'cuda'"
      ]
     },
     "execution_count": 130,
     "metadata": {},
     "output_type": "execute_result"
    }
   ],
   "source": [
    "device"
   ]
  },
  {
   "cell_type": "code",
   "execution_count": null,
   "id": "e3b45bea-aa19-4a8c-996a-936acecac99d",
   "metadata": {},
   "outputs": [],
   "source": []
  }
 ],
 "metadata": {
  "kernelspec": {
   "display_name": "Python 3 (ipykernel)",
   "language": "python",
   "name": "python3"
  },
  "language_info": {
   "codemirror_mode": {
    "name": "ipython",
    "version": 3
   },
   "file_extension": ".py",
   "mimetype": "text/x-python",
   "name": "python",
   "nbconvert_exporter": "python",
   "pygments_lexer": "ipython3",
   "version": "3.10.16"
  }
 },
 "nbformat": 4,
 "nbformat_minor": 5
}

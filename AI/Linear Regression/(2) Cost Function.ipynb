{
 "cells": [
  {
   "cell_type": "markdown",
   "id": "1308212c-174d-472a-8234-30c307039265",
   "metadata": {},
   "source": [
    "# Cost Function\n",
    "\n",
    "We will implement and explore the cost function for Linear Regression with one variable or uni-variate regression.\n",
    "\n",
    "## Tools \n",
    "\n",
    "We will use:\n",
    "* Pandas\n",
    "* Numpy\n",
    "* Matplotlib\n",
    "\n",
    "We will also use lab_utils_py imported from Coursera Optional Lab"
   ]
  },
  {
   "cell_type": "code",
   "execution_count": 1,
   "id": "177ce7cb-720d-46fa-9280-e18586476bba",
   "metadata": {},
   "outputs": [],
   "source": [
    "import sys\n",
    "sys.path.append('./LabUtlils/')"
   ]
  },
  {
   "cell_type": "code",
   "execution_count": 2,
   "id": "5e6d8e13-5491-42d9-bdba-85c8242e9ecc",
   "metadata": {},
   "outputs": [],
   "source": [
    "import numpy as np\n",
    "import matplotlib.pyplot as plt\n",
    "from lab_utils_uni import plt_intuition, plt_stationary, plt_update_onclick, soup_bowl"
   ]
  },
  {
   "cell_type": "markdown",
   "id": "05d26ef0-0dc8-42a5-b07e-8639585d668e",
   "metadata": {},
   "source": [
    "### Problem\n",
    "\n",
    "We would like a model that would predict housing prices given the size of the house.\n",
    "\n",
    "Let's use the same data as the the linear regression model representatio, a house with 1000 square feet sold for 300,000 dollars and a house with 2000 square feet sold for 500,000 dollars.\n",
    "\n",
    "| Size (1000 sqft) | Price (1000s of dollars) |\n",
    "|----------|----------|\n",
    "| 1 | 300 |\n",
    "| 2 | 500 |\n"
   ]
  },
  {
   "cell_type": "code",
   "execution_count": 3,
   "id": "fc9487d1-aff5-46b8-8cf1-731f01517193",
   "metadata": {},
   "outputs": [],
   "source": [
    "X_train = np.array([1.0, 2.0])\n",
    "y_train = np.array([300.0, 500.0])"
   ]
  },
  {
   "cell_type": "markdown",
   "id": "284d1179-bd38-4dc6-b246-a367789c9b79",
   "metadata": {},
   "source": [
    "### The formula for cost: i.e the measure of how well our model is performing is: \n",
    "\n",
    "$$\n",
    "J_{(w,b)} = \\frac{1}{2m}\\sum_{i=0}^{m-1} (f_{w,b}(x^i) - y^i)^2 \\tag{1}\n",
    "$$\n",
    "\n",
    "where \n",
    "\n",
    "$$\n",
    "f_{w,b}(x^i) = wx^{(i)} + b \\tag{2}\n",
    "$$\n",
    "\n",
    "* $f_{w,b}(x^i)$ is our prediction for example $i$ using parameters $w,b$\n",
    "\n",
    "* $(f_{w,b}(x^i) - y^i)^2$ is the sqaured difference between target value and predicition\n",
    "\n",
    "* These differences are summed over all the $m$ examples and divided by $2m$ to produce the cost of $J_{(w,b)}$\n",
    "\n",
    "The code below calculates cost by looping over each example.\n"
   ]
  },
  {
   "cell_type": "code",
   "execution_count": 4,
   "id": "2baad78d-081b-4d55-b744-88972613559e",
   "metadata": {},
   "outputs": [],
   "source": [
    "def compute_cost(x, y, w, b):\n",
    "    \"\"\"\n",
    "    Computes the cost function for the linear regression model (Mean Squared Error)\n",
    "\n",
    "    Args:\n",
    "    x: Data, m examples\n",
    "    y: target values\n",
    "    w,b: model parameters\n",
    "\n",
    "    Returns the total_cost which is the cost of using w,b as paramters for linear regression to fit the data points\n",
    "    \"\"\"\n",
    "    \n",
    "    m = len(x)\n",
    "    cost_sum = 0\n",
    "    for i in range(m):\n",
    "        f_wb = w * x[i]  + b\n",
    "        cost_sum = (f_wb - y[i]) ** 2\n",
    "    total_cost = (1/(2 * m)) * cost_sum\n",
    "    return total_cost\n"
   ]
  },
  {
   "cell_type": "markdown",
   "id": "5519a747-7f47-403c-a5a2-ddd57f2174f5",
   "metadata": {},
   "source": [
    "### Cost Function Intuition\n",
    "\n",
    "Our goal is to find $f_{w,b}(x) = wx + b$ with parameters $w,b$ which will accurately predict house values given an input $x$.\n",
    "\n",
    "The cost of function (1) above shows that if $w$ and $b$ can be selectedd such that the predictions $f_{w,b}(x)$ match the target data $y$. The $f_{w,b}(x^{(i)}) - y^{(i)})^2$ term will be zero and the cost minimized. In this two simple point example you can achieve this.\n"
   ]
  },
  {
   "cell_type": "code",
   "execution_count": 5,
   "id": "300f924c-7a26-4208-b926-fa6dde58ea33",
   "metadata": {},
   "outputs": [
    {
     "data": {
      "application/vnd.jupyter.widget-view+json": {
       "model_id": "c727c747f9b1495eb202f5557c4b2796",
       "version_major": 2,
       "version_minor": 0
      },
      "text/plain": [
       "interactive(children=(IntSlider(value=150, description='w', max=400, step=10), Output()), _dom_classes=('widge…"
      ]
     },
     "metadata": {},
     "output_type": "display_data"
    }
   ],
   "source": [
    "plt_intuition(X_train,y_train)"
   ]
  },
  {
   "cell_type": "markdown",
   "id": "40e3466f-892e-4943-8f77-aa77135230db",
   "metadata": {},
   "source": [
    "### Summary\n",
    "\n",
    "What I have learnt from this:\n",
    "\n",
    "* The cost equation provides how well the model is performing.\n",
    "* There are various types of cost functions formulas for different algorithms.\n",
    "* Minimizing the cost increases the performance of the model, therefore better predictions.\n",
    "  "
   ]
  },
  {
   "cell_type": "code",
   "execution_count": null,
   "id": "41066bba-2f6a-419a-af50-24c1e71acff4",
   "metadata": {},
   "outputs": [],
   "source": []
  }
 ],
 "metadata": {
  "kernelspec": {
   "display_name": "Python 3 (ipykernel)",
   "language": "python",
   "name": "python3"
  },
  "language_info": {
   "codemirror_mode": {
    "name": "ipython",
    "version": 3
   },
   "file_extension": ".py",
   "mimetype": "text/x-python",
   "name": "python",
   "nbconvert_exporter": "python",
   "pygments_lexer": "ipython3",
   "version": "3.10.16"
  }
 },
 "nbformat": 4,
 "nbformat_minor": 5
}

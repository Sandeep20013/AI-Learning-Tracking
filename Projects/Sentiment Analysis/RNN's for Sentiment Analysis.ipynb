{
 "cells": [
  {
   "cell_type": "code",
   "execution_count": 1,
   "id": "7347482a-142a-420e-b2ff-1f42191162f3",
   "metadata": {},
   "outputs": [],
   "source": [
    "import torch\n",
    "from torch import nn\n",
    "import string\n",
    "import matplotlib.pyplot as plt\n",
    "from collections import Counter\n",
    "import pandas as pd\n",
    "from torch.utils.data import Dataset, DataLoader\n",
    "import re\n",
    "from sklearn.model_selection import train_test_split\n",
    "import numpy as np\n",
    "from tqdm.auto import tqdm"
   ]
  },
  {
   "cell_type": "code",
   "execution_count": 2,
   "id": "6c6492ee-2a0d-4f1e-a45c-0d7686ead888",
   "metadata": {},
   "outputs": [
    {
     "name": "stdout",
     "output_type": "stream",
     "text": [
      "cuda\n"
     ]
    }
   ],
   "source": [
    "device = 'cuda' if torch.cuda.is_available() else 'cpu'\n",
    "print(device)"
   ]
  },
  {
   "cell_type": "code",
   "execution_count": 3,
   "id": "9b86525e-de6b-470a-8981-79a6dba4f2e5",
   "metadata": {},
   "outputs": [
    {
     "data": {
      "text/html": [
       "<div>\n",
       "<style scoped>\n",
       "    .dataframe tbody tr th:only-of-type {\n",
       "        vertical-align: middle;\n",
       "    }\n",
       "\n",
       "    .dataframe tbody tr th {\n",
       "        vertical-align: top;\n",
       "    }\n",
       "\n",
       "    .dataframe thead th {\n",
       "        text-align: right;\n",
       "    }\n",
       "</style>\n",
       "<table border=\"1\" class=\"dataframe\">\n",
       "  <thead>\n",
       "    <tr style=\"text-align: right;\">\n",
       "      <th></th>\n",
       "      <th>review</th>\n",
       "      <th>sentiment</th>\n",
       "    </tr>\n",
       "  </thead>\n",
       "  <tbody>\n",
       "    <tr>\n",
       "      <th>0</th>\n",
       "      <td>One of the other reviewers has mentioned that ...</td>\n",
       "      <td>positive</td>\n",
       "    </tr>\n",
       "    <tr>\n",
       "      <th>1</th>\n",
       "      <td>A wonderful little production. &lt;br /&gt;&lt;br /&gt;The...</td>\n",
       "      <td>positive</td>\n",
       "    </tr>\n",
       "    <tr>\n",
       "      <th>2</th>\n",
       "      <td>I thought this was a wonderful way to spend ti...</td>\n",
       "      <td>positive</td>\n",
       "    </tr>\n",
       "    <tr>\n",
       "      <th>3</th>\n",
       "      <td>Basically there's a family where a little boy ...</td>\n",
       "      <td>negative</td>\n",
       "    </tr>\n",
       "    <tr>\n",
       "      <th>4</th>\n",
       "      <td>Petter Mattei's \"Love in the Time of Money\" is...</td>\n",
       "      <td>positive</td>\n",
       "    </tr>\n",
       "  </tbody>\n",
       "</table>\n",
       "</div>"
      ],
      "text/plain": [
       "                                              review sentiment\n",
       "0  One of the other reviewers has mentioned that ...  positive\n",
       "1  A wonderful little production. <br /><br />The...  positive\n",
       "2  I thought this was a wonderful way to spend ti...  positive\n",
       "3  Basically there's a family where a little boy ...  negative\n",
       "4  Petter Mattei's \"Love in the Time of Money\" is...  positive"
      ]
     },
     "execution_count": 3,
     "metadata": {},
     "output_type": "execute_result"
    }
   ],
   "source": [
    "# Load dataset in pandas\n",
    "\n",
    "df = pd.read_csv('data/IMDB Dataset.csv')\n",
    "df.head()"
   ]
  },
  {
   "cell_type": "code",
   "execution_count": 4,
   "id": "dfd8b11f-b271-42e0-a085-96670d1bd2be",
   "metadata": {},
   "outputs": [
    {
     "name": "stdout",
     "output_type": "stream",
     "text": [
      "Average review length: 231\n"
     ]
    }
   ],
   "source": [
    "avg_len = int(df['review'].apply(lambda x: len(x.split())).mean())\n",
    "print(\"Average review length:\", avg_len)"
   ]
  },
  {
   "cell_type": "code",
   "execution_count": 5,
   "id": "0d96846b-e077-4aa2-9a0c-200ace036db5",
   "metadata": {},
   "outputs": [
    {
     "name": "stdout",
     "output_type": "stream",
     "text": [
      "95th percentile review length: 590\n"
     ]
    }
   ],
   "source": [
    "lengths = df['review'].apply(lambda x: len(x.split()))\n",
    "max_len_95 = int(np.percentile(lengths, 95))\n",
    "print(\"95th percentile review length:\", max_len_95)"
   ]
  },
  {
   "cell_type": "code",
   "execution_count": 6,
   "id": "f6de6362-f0a0-4139-bddd-b258fe5b7604",
   "metadata": {},
   "outputs": [
    {
     "name": "stdout",
     "output_type": "stream",
     "text": [
      "<class 'pandas.core.frame.DataFrame'>\n",
      "RangeIndex: 50000 entries, 0 to 49999\n",
      "Data columns (total 2 columns):\n",
      " #   Column     Non-Null Count  Dtype \n",
      "---  ------     --------------  ----- \n",
      " 0   review     50000 non-null  object\n",
      " 1   sentiment  50000 non-null  object\n",
      "dtypes: object(2)\n",
      "memory usage: 781.4+ KB\n"
     ]
    }
   ],
   "source": [
    "df.info()"
   ]
  },
  {
   "cell_type": "code",
   "execution_count": 7,
   "id": "41353da9-2953-4387-bffb-4bdffea80bb7",
   "metadata": {},
   "outputs": [
    {
     "data": {
      "text/plain": [
       "np.int64(0)"
      ]
     },
     "execution_count": 7,
     "metadata": {},
     "output_type": "execute_result"
    }
   ],
   "source": [
    "df['review'].isna().sum()"
   ]
  },
  {
   "cell_type": "code",
   "execution_count": 8,
   "id": "96999c20-9aa9-4fc5-86a2-c9219d3ed1c3",
   "metadata": {},
   "outputs": [
    {
     "data": {
      "text/plain": [
       "np.int64(0)"
      ]
     },
     "execution_count": 8,
     "metadata": {},
     "output_type": "execute_result"
    }
   ],
   "source": [
    "df['sentiment'].isna().sum()"
   ]
  },
  {
   "cell_type": "code",
   "execution_count": 9,
   "id": "48dc88c6-54d8-4bd1-8cce-9b91f6a4bbb5",
   "metadata": {},
   "outputs": [
    {
     "data": {
      "text/plain": [
       "sentiment\n",
       "positive    25000\n",
       "negative    25000\n",
       "Name: count, dtype: int64"
      ]
     },
     "execution_count": 9,
     "metadata": {},
     "output_type": "execute_result"
    }
   ],
   "source": [
    "df['sentiment'].value_counts()"
   ]
  },
  {
   "cell_type": "code",
   "execution_count": 10,
   "id": "0e934da1-5b66-441d-8c10-4ef1fcffd106",
   "metadata": {},
   "outputs": [],
   "source": [
    "# Clean text data\n",
    "def clean_text(text):\n",
    "    # Remove HTML tags\n",
    "    text = re.sub(r'<.*?>', '', text)\n",
    "    # Lower text just in case\n",
    "    text = text.lower()\n",
    "    # Remove punctuation\n",
    "    text = text.translate(str.maketrans(\"\", \"\", string.punctuation)) # str.maketrans is much faster\n",
    "    # Remove digits\n",
    "    text = re.sub(r'\\d+', '', text)\n",
    "    # Remove extra space\n",
    "    text = ' '.join(text.split())\n",
    "    return text"
   ]
  },
  {
   "cell_type": "code",
   "execution_count": 11,
   "id": "920305de-e34c-4c2d-896a-0adfc98196ca",
   "metadata": {},
   "outputs": [
    {
     "data": {
      "text/plain": [
       "'A wonderful little production. <br /><br />The filming technique is very unassuming- very old-time-BBC fashion and gives a comforting, and sometimes discomforting, sense of realism to the entire piece. <br /><br />The actors are extremely well chosen- Michael Sheen not only \"has got all the polari\" but he has all the voices down pat too! You can truly see the seamless editing guided by the references to Williams\\' diary entries, not only is it well worth the watching but it is a terrificly written and performed piece. A masterful production about one of the great master\\'s of comedy and his life. <br /><br />The realism really comes home with the little things: the fantasy of the guard which, rather than use the traditional \\'dream\\' techniques remains solid then disappears. It plays on our knowledge and our senses, particularly with the scenes concerning Orton and Halliwell and the sets (particularly of their flat with Halliwell\\'s murals decorating every surface) are terribly well done.'"
      ]
     },
     "execution_count": 11,
     "metadata": {},
     "output_type": "execute_result"
    }
   ],
   "source": [
    "df['review'][1]"
   ]
  },
  {
   "cell_type": "code",
   "execution_count": 12,
   "id": "6e3115b9-efa9-45cd-8b85-46c004b879dc",
   "metadata": {},
   "outputs": [
    {
     "data": {
      "text/plain": [
       "'a wonderful little production the filming technique is very unassuming very oldtimebbc fashion and gives a comforting and sometimes discomforting sense of realism to the entire piece the actors are extremely well chosen michael sheen not only has got all the polari but he has all the voices down pat too you can truly see the seamless editing guided by the references to williams diary entries not only is it well worth the watching but it is a terrificly written and performed piece a masterful production about one of the great masters of comedy and his life the realism really comes home with the little things the fantasy of the guard which rather than use the traditional dream techniques remains solid then disappears it plays on our knowledge and our senses particularly with the scenes concerning orton and halliwell and the sets particularly of their flat with halliwells murals decorating every surface are terribly well done'"
      ]
     },
     "execution_count": 12,
     "metadata": {},
     "output_type": "execute_result"
    }
   ],
   "source": [
    "clean_text(df['review'][1])"
   ]
  },
  {
   "cell_type": "code",
   "execution_count": 13,
   "id": "00d13f7a-0aed-4595-8b9c-7a74c733d48f",
   "metadata": {},
   "outputs": [],
   "source": [
    "## Tokenize and split the words by lowering them and splitting them by ' '\n",
    "def tokenize_line(line):\n",
    "    words = line.lower().split(' ')\n",
    "    return words"
   ]
  },
  {
   "cell_type": "code",
   "execution_count": 14,
   "id": "324c8799-9a48-4eb5-8918-a810c5788e81",
   "metadata": {},
   "outputs": [
    {
     "name": "stdout",
     "output_type": "stream",
     "text": [
      "['i', 'love', 'pizza']\n"
     ]
    }
   ],
   "source": [
    "# Example usage:\n",
    "line = 'I love pizza'\n",
    "print(tokenize_line(line))"
   ]
  },
  {
   "cell_type": "code",
   "execution_count": 15,
   "id": "48500adb-143f-4d74-a0ab-8c589f749b8f",
   "metadata": {},
   "outputs": [],
   "source": [
    "# Build vocabulary\n",
    "def build_vocab(tokenized_texts, min_freq = 2):\n",
    "    counter = Counter()\n",
    "    for tokens in tokenized_texts:\n",
    "        counter.update(tokens)\n",
    "        # print(counter)\n",
    "    vocab = {\"<pad>\": 0, \"<unk>\": 1}\n",
    "    for word, freq in counter.items():\n",
    "        # print(f\"{word}: {freq}\")\n",
    "        if freq >= min_freq:\n",
    "            vocab[word] = len(vocab)\n",
    "            # print(f\"Final Vocab: {vocab}\")\n",
    "    return vocab"
   ]
  },
  {
   "cell_type": "code",
   "execution_count": 16,
   "id": "9e3e16de-f2ea-4787-a5bf-a31a36d16ad8",
   "metadata": {},
   "outputs": [
    {
     "name": "stdout",
     "output_type": "stream",
     "text": [
      "{'<pad>': 0, '<unk>': 1, 'i': 2, 'love': 3, 'this': 4, 'movie': 5, 'hate': 6}\n"
     ]
    }
   ],
   "source": [
    "# Example usage\n",
    "texts = [\"I love this movie\", \"This movie is hate\", \"Love it\", \"I hate this movie\"]\n",
    "tokenized_texts = [tokenize_line(t) for t in texts]\n",
    "vocab = build_vocab(tokenized_texts)\n",
    "print(vocab)\n"
   ]
  },
  {
   "cell_type": "code",
   "execution_count": 17,
   "id": "f121a4a7-4b50-47a2-886a-76ba4ee87632",
   "metadata": {},
   "outputs": [
    {
     "data": {
      "text/plain": [
       "{'<pad>': 0, '<unk>': 1, 'i': 2, 'love': 3, 'this': 4, 'movie': 5, 'hate': 6}"
      ]
     },
     "execution_count": 17,
     "metadata": {},
     "output_type": "execute_result"
    }
   ],
   "source": [
    "vocab"
   ]
  },
  {
   "cell_type": "code",
   "execution_count": 18,
   "id": "e8664b81-b282-4f55-96be-4244dc00c69d",
   "metadata": {},
   "outputs": [],
   "source": [
    "# Function to encode text to int  \n",
    "def encode_text(tokenized_texts, vocab):\n",
    "    encoded_texts = []\n",
    "    for tokens in tokenized_texts:\n",
    "        encoded = [vocab.get(token, vocab[\"<unk>\"]) for token in tokens]\n",
    "        # print(f\"Encoded: {encoded}\")\n",
    "        encoded_texts.append(encoded)\n",
    "    return encoded_texts"
   ]
  },
  {
   "cell_type": "code",
   "execution_count": 19,
   "id": "f1f985e7-fe24-4c25-8200-5ca50ed296ac",
   "metadata": {},
   "outputs": [
    {
     "name": "stdout",
     "output_type": "stream",
     "text": [
      "Text after encoding: [[2, 3, 4, 5], [4, 5, 1, 6], [3, 1], [2, 6, 4, 5]]\n"
     ]
    }
   ],
   "source": [
    "# Example usage\n",
    "encoded_texts = encode_text(tokenized_texts=tokenized_texts, vocab= vocab)\n",
    "print(f\"Text after encoding: {encoded_texts}\")"
   ]
  },
  {
   "cell_type": "code",
   "execution_count": 20,
   "id": "cbd00fc5-4d69-4e1b-9dfe-9e8dbfba622a",
   "metadata": {},
   "outputs": [],
   "source": [
    "# Add padding for shorter sentences\n",
    "def pad_sequences(encoded_text, max_len):\n",
    "    padded_texts = []\n",
    "    for seq in encoded_text:\n",
    "        if len(seq) < max_len:\n",
    "            # Pad with 0's (for <pad)\n",
    "            seq = seq + [0] * (max_len - len(seq))\n",
    "        else:\n",
    "            # Truncate if too long\n",
    "            seq = seq[:max_len]\n",
    "        padded_texts.append(seq)\n",
    "    return padded_texts"
   ]
  },
  {
   "cell_type": "code",
   "execution_count": 21,
   "id": "931fc08a-708b-49a8-973a-b823153e9a26",
   "metadata": {},
   "outputs": [
    {
     "data": {
      "text/plain": [
       "[[2, 3, 4, 5], [4, 5, 1, 6], [3, 1, 0, 0], [2, 6, 4, 5]]"
      ]
     },
     "execution_count": 21,
     "metadata": {},
     "output_type": "execute_result"
    }
   ],
   "source": [
    "# Example usage\n",
    "max_len = max(len(seq) for seq in encoded_texts) \n",
    "pad_sequences(encoded_texts, max_len)"
   ]
  },
  {
   "cell_type": "code",
   "execution_count": 22,
   "id": "d4b4856e-2685-4cac-bbf9-f9ae556bad57",
   "metadata": {},
   "outputs": [],
   "source": [
    "def prepare_vocab(texts, min_freq = 2):\n",
    "    cleaned = texts.apply(clean_text)\n",
    "    tokenized = cleaned.apply(tokenize_line).tolist()\n",
    "    vocab = build_vocab(tokenized, min_freq)\n",
    "    return vocab, tokenized"
   ]
  },
  {
   "cell_type": "code",
   "execution_count": 23,
   "id": "9ea613de-99a2-4ff3-a3ed-3220d85ba0ee",
   "metadata": {},
   "outputs": [],
   "source": [
    "def encode_and_pad(tokenized_texts, vocab, max_len = 100):\n",
    "    encoded = encode_text(tokenized_texts, vocab)\n",
    "    padded = pad_sequences(encoded, max_len)\n",
    "    return padded"
   ]
  },
  {
   "cell_type": "code",
   "execution_count": 24,
   "id": "d625baca-a43f-4c09-bb5b-b91b4588ceac",
   "metadata": {},
   "outputs": [],
   "source": [
    "# Convert to tensors\n",
    "def convert_to_tensors(X, y):\n",
    "    X_tensor = torch.tensor(X, dtype = torch.long)\n",
    "    y_tensor = torch.tensor(y, dtype = torch.long)\n",
    "    return X_tensor, y_tensor"
   ]
  },
  {
   "cell_type": "code",
   "execution_count": 25,
   "id": "f96583c5-1fde-42b1-b6e6-0fa3fe92b8e7",
   "metadata": {},
   "outputs": [],
   "source": [
    "# Put all functions into one class\n",
    "\n",
    "class IMDBDataset(Dataset):\n",
    "    def __init__(self, df, max_len = 100, min_freq = 10, build_vocab = True, vocab = None):\n",
    "        \"\"\"\n",
    "        df: pandas DataFrame with columns 'review' and 'sentiment'\n",
    "        max_len: max sequence length for padding\n",
    "        min_freq: minimum frequency to keep a word in vocab\n",
    "        build_vocab: True if building vocab from df (train), False for test/new data\n",
    "        \"\"\"\n",
    "        self.max_len = max_len\n",
    "        self.min_freq = min_freq\n",
    "        self.vocab = None\n",
    "        # Encode sentiment to binary labels\n",
    "        df['sentiment'] = (df['sentiment'].str.lower() == 'positive').astype(int)\n",
    "        self.labels = df['sentiment'].values\n",
    "        # Clean and tokenize labels\n",
    "        self.texts = df['review'].apply(self.clean_text).apply(self.tokenize_line).tolist()\n",
    "\n",
    "        # Build vocab if required for training\n",
    "        if build_vocab:\n",
    "            self.vocab = self.build_vocab(self.texts, self.min_freq)\n",
    "        else:\n",
    "            if vocab is None:\n",
    "                raise ValueError(\"Vocab must be provided if build_vocab is False\")\n",
    "            self.vocab = vocab\n",
    "        self.encoded_texts = self.encode_and_pad(self.texts, self.vocab, self.max_len)\n",
    "    def __len__(self):\n",
    "        return len(self.labels)\n",
    "    def __getitem__(self, idx):\n",
    "        # Return encoded tensor and label tensor\n",
    "        return torch.tensor(self.encoded_texts[idx], dtype = torch.long), torch.tensor(self.labels[idx], dtype = torch.long)\n",
    "    @staticmethod\n",
    "    def clean_text(text):\n",
    "        # Remove HTML tags\n",
    "        text = re.sub(r'<.*?>', '', text)\n",
    "        # Lower text just in case\n",
    "        text = text.lower()\n",
    "        # Remove punctuation\n",
    "        text = text.translate(str.maketrans(\"\", \"\", string.punctuation)) # str.maketrans is much faster\n",
    "        # Remove digits\n",
    "        text = re.sub(r'\\d+', '', text)\n",
    "        # Remove extra space\n",
    "        text = ' '.join(text.split())\n",
    "        return text\n",
    "    @staticmethod\n",
    "    def tokenize_line(line):\n",
    "        words = line.lower().split(' ')\n",
    "        return words \n",
    "    # Build vocabulary\n",
    "    @staticmethod\n",
    "    def build_vocab(tokenized_texts, min_freq = 2):\n",
    "        counter = Counter()\n",
    "        for tokens in tokenized_texts:\n",
    "            counter.update(tokens)\n",
    "            # print(counter)\n",
    "        vocab = {\"<pad>\": 0, \"<unk>\": 1}\n",
    "        for word, freq in counter.items():\n",
    "            # print(f\"{word}: {freq}\")\n",
    "            if freq >= min_freq:\n",
    "                vocab[word] = len(vocab)\n",
    "                # print(f\"Final Vocab: {vocab}\")\n",
    "        return vocab\n",
    "    def encode_and_pad(self, tokenized_texts, vocab, max_len):\n",
    "        encoded = []\n",
    "        for tokens in tokenized_texts:\n",
    "            enc = [vocab.get(token, 0) for token in tokens]\n",
    "            # pad or truncate\n",
    "            if len(enc) < max_len:\n",
    "                enc.extend([0] * (max_len - len(enc)))\n",
    "            else:\n",
    "                enc = enc[:max_len]\n",
    "            encoded.append(enc)\n",
    "        return encoded\n",
    "    def encode_text(self, text):\n",
    "        # Clean, tokenize, encode, and a pad a single string (for new data)\n",
    "        clean = self.clean_text(text)\n",
    "        tokens = self.tokenize_line(clean)\n",
    "        enc = [self.vocab.get(token, 0) for token in tokens]\n",
    "        if len(enc) < self.max_len:\n",
    "            enc.extend([0] * (self.max_len - len(enc)))\n",
    "        else:\n",
    "            enc = enc[:self.max_len]\n",
    "        return torch.tensor(enc, dtype = torch.long)"
   ]
  },
  {
   "cell_type": "code",
   "execution_count": 26,
   "id": "66a7ee81-1f8f-4c1c-be9c-5354025287b2",
   "metadata": {},
   "outputs": [],
   "source": [
    "train_df, test_df = train_test_split(df, test_size = 0.2, stratify = df['sentiment'], random_state = 42)\n",
    "train_df, val_df = train_test_split(train_df, test_size=0.1, stratify=train_df['sentiment'], random_state=42)\n",
    "\n",
    "# Create train_dataset\n",
    "train_dataset = IMDBDataset(train_df, build_vocab=True, max_len=250)\n",
    "val_dataset = IMDBDataset(val_df, build_vocab=False, vocab=train_dataset.vocab, max_len=250)\n",
    "test_dataset = IMDBDataset(test_df, build_vocab=False, vocab=train_dataset.vocab, max_len=250)"
   ]
  },
  {
   "cell_type": "code",
   "execution_count": 27,
   "id": "b888f561-01c4-4b15-b749-594c7d5e486a",
   "metadata": {},
   "outputs": [],
   "source": [
    "# Use dataloader to load data into model\n",
    "torch.manual_seed(42)\n",
    "train_loader = DataLoader(train_dataset, batch_size=32, shuffle=True)\n",
    "val_loader = DataLoader(val_dataset, batch_size=32)\n",
    "test_loader = DataLoader(test_dataset, batch_size=32)"
   ]
  },
  {
   "cell_type": "code",
   "execution_count": 28,
   "id": "7bc4ba3a-b1fc-45b8-b91d-5d62b4fae094",
   "metadata": {},
   "outputs": [],
   "source": [
    "train_features_batch, train_labels_batch = next(iter(train_loader))"
   ]
  },
  {
   "cell_type": "code",
   "execution_count": 29,
   "id": "a2c61f93-a78c-4791-912e-9d8a49a0d4b6",
   "metadata": {},
   "outputs": [
    {
     "data": {
      "text/plain": [
       "(torch.Size([32, 250]), torch.Size([32]))"
      ]
     },
     "execution_count": 29,
     "metadata": {},
     "output_type": "execute_result"
    }
   ],
   "source": [
    "train_features_batch.shape, train_labels_batch.shape"
   ]
  },
  {
   "cell_type": "code",
   "execution_count": 30,
   "id": "e39c9dc0-8d27-4b9d-b22f-74a55dae5636",
   "metadata": {},
   "outputs": [],
   "source": [
    "from timeit import default_timer as timer\n",
    "\n",
    "def print_train_time(start: float, end: float, device: torch.device = None):\n",
    "    \"\"\"Prints difference between start and end time.\"\"\"\n",
    "    total_time = end - start\n",
    "    print(f\"Train time on {device}: {total_time:.3f} seconds\")\n",
    "    return total_time"
   ]
  },
  {
   "cell_type": "code",
   "execution_count": 35,
   "id": "8e128d1f-6c41-4791-927c-af4eb3609de6",
   "metadata": {},
   "outputs": [],
   "source": [
    "class SentimentRNN(nn.Module):\n",
    "    def __init__(self, vocab_size, embed_dim, hidden_dim, output_dim):\n",
    "        super().__init__()\n",
    "        # Embedding layer: converts vocab to dense vectors of size embed_dim\n",
    "        self.embedding = nn.Embedding(vocab_size, embed_dim, padding_idx= 0)\n",
    "        # RNN layer: processes sequences of embeddings, outputs hidden states of size hidden_dim\n",
    "        self.rnn = nn.RNN(embed_dim, hidden_dim, batch_first=True)\n",
    "        # Fully connected layer: maps the final hidden state to output_dim (e.g. number of classes)\n",
    "        self.fc = nn.Linear(hidden_dim, output_dim)\n",
    "\n",
    "    def forward(self, x):\n",
    "        # Pass input indices through embedding layer -> shape: (batch_size, seq_len, embed_dim)\n",
    "        embedded = self.embedding(x)\n",
    "        # Pass embeddings through RNN -> output (all hidden states), hidden (last hidden state)\n",
    "        output, hidden = self.rnn(embedded)\n",
    "        # Use last hidden state for classification; squeeze removes the extra dimension -> shape: (batch_size, hidden_dim)\n",
    "        out = self.fc(hidden.squeeze(0))\n",
    "        # Return the logits (unnormalized scores) for each class\n",
    "        return out"
   ]
  },
  {
   "cell_type": "code",
   "execution_count": 36,
   "id": "5ba346f8-9f77-4b3c-a78a-e2ec34b2299a",
   "metadata": {},
   "outputs": [],
   "source": [
    "model_v1 = SentimentRNN(\n",
    "    vocab_size= len(train_dataset.vocab),\n",
    "    embed_dim = 64, \n",
    "    hidden_dim= 128,\n",
    "    output_dim=1\n",
    ").to(device)"
   ]
  },
  {
   "cell_type": "code",
   "execution_count": 37,
   "id": "ca9eda86-1cf7-40d8-aba3-4560fcda8530",
   "metadata": {},
   "outputs": [
    {
     "data": {
      "text/plain": [
       "OrderedDict([('embedding.weight',\n",
       "              tensor([[ 0.0000,  0.0000,  0.0000,  ...,  0.0000,  0.0000,  0.0000],\n",
       "                      [-0.0236,  0.0073,  0.1665,  ..., -1.9107,  0.5609,  1.1578],\n",
       "                      [-1.1962,  0.7516,  0.6245,  ...,  1.7858,  0.2279, -1.4715],\n",
       "                      ...,\n",
       "                      [ 1.7592, -0.5671, -1.2568,  ..., -2.5005, -1.1814, -0.3040],\n",
       "                      [-0.5326, -0.3518, -1.9541,  ...,  0.8721, -0.0382, -1.0360],\n",
       "                      [ 0.1699, -1.0569, -1.6501,  ..., -3.3290, -0.9403,  1.5975]],\n",
       "                     device='cuda:0')),\n",
       "             ('rnn.weight_ih_l0',\n",
       "              tensor([[-0.0759, -0.0517,  0.0696,  ...,  0.0183,  0.0353, -0.0152],\n",
       "                      [ 0.0505, -0.0091, -0.0035,  ..., -0.0094, -0.0123, -0.0780],\n",
       "                      [ 0.0166,  0.0053,  0.0391,  ...,  0.0460, -0.0070, -0.0042],\n",
       "                      ...,\n",
       "                      [-0.0347, -0.0638,  0.0422,  ..., -0.0403, -0.0205, -0.0863],\n",
       "                      [-0.0318, -0.0784,  0.0772,  ...,  0.0117, -0.0296,  0.0490],\n",
       "                      [-0.0066,  0.0855,  0.0375,  ..., -0.0069,  0.0418,  0.0650]],\n",
       "                     device='cuda:0')),\n",
       "             ('rnn.weight_hh_l0',\n",
       "              tensor([[ 0.0077,  0.0385, -0.0454,  ...,  0.0753,  0.0369,  0.0026],\n",
       "                      [-0.0747, -0.0327,  0.0398,  ...,  0.0829,  0.0308,  0.0360],\n",
       "                      [-0.0324,  0.0546,  0.0046,  ...,  0.0744, -0.0209,  0.0655],\n",
       "                      ...,\n",
       "                      [-0.0727, -0.0022, -0.0692,  ..., -0.0839,  0.0143,  0.0254],\n",
       "                      [-0.0514, -0.0456, -0.0403,  ...,  0.0166, -0.0112, -0.0516],\n",
       "                      [-0.0165,  0.0820, -0.0690,  ...,  0.0566, -0.0327, -0.0333]],\n",
       "                     device='cuda:0')),\n",
       "             ('rnn.bias_ih_l0',\n",
       "              tensor([ 0.0713,  0.0498,  0.0378, -0.0370,  0.0627,  0.0050,  0.0548, -0.0091,\n",
       "                       0.0290,  0.0728, -0.0560,  0.0233,  0.0248,  0.0124, -0.0366,  0.0037,\n",
       "                      -0.0483, -0.0178,  0.0474,  0.0316, -0.0438, -0.0625, -0.0018,  0.0484,\n",
       "                      -0.0236,  0.0250,  0.0631,  0.0611, -0.0283,  0.0053, -0.0754, -0.0838,\n",
       "                      -0.0070, -0.0234, -0.0764,  0.0130,  0.0512, -0.0318,  0.0208, -0.0676,\n",
       "                       0.0708, -0.0091, -0.0537, -0.0450, -0.0316, -0.0629,  0.0467, -0.0089,\n",
       "                      -0.0833, -0.0094,  0.0452,  0.0744, -0.0657, -0.0828, -0.0265, -0.0591,\n",
       "                      -0.0098,  0.0482, -0.0481, -0.0060,  0.0664, -0.0329, -0.0446,  0.0137,\n",
       "                       0.0131, -0.0359,  0.0119, -0.0333, -0.0404, -0.0212,  0.0580, -0.0819,\n",
       "                      -0.0709, -0.0074,  0.0097, -0.0046,  0.0174, -0.0150,  0.0607,  0.0588,\n",
       "                       0.0853, -0.0815,  0.0353,  0.0358,  0.0547,  0.0201,  0.0630,  0.0231,\n",
       "                      -0.0398, -0.0245, -0.0768,  0.0425,  0.0791,  0.0294,  0.0767, -0.0635,\n",
       "                      -0.0616, -0.0537,  0.0043,  0.0518,  0.0593, -0.0221,  0.0055,  0.0346,\n",
       "                       0.0583, -0.0463,  0.0587,  0.0803,  0.0694, -0.0627, -0.0640, -0.0656,\n",
       "                      -0.0602,  0.0195,  0.0461,  0.0348, -0.0729, -0.0699,  0.0670, -0.0077,\n",
       "                       0.0187,  0.0634,  0.0275,  0.0588, -0.0078,  0.0265, -0.0307, -0.0438],\n",
       "                     device='cuda:0')),\n",
       "             ('rnn.bias_hh_l0',\n",
       "              tensor([ 6.3390e-02,  2.1520e-02, -5.9495e-02,  2.5275e-02, -1.7954e-02,\n",
       "                      -5.8739e-02, -3.9254e-02, -2.6441e-02,  4.0465e-02,  7.7281e-02,\n",
       "                      -5.1202e-02, -7.6501e-02,  3.1777e-02,  2.5161e-02, -4.0287e-02,\n",
       "                      -8.3591e-03,  3.4568e-02, -3.2472e-02,  1.7290e-02,  4.5050e-02,\n",
       "                      -8.3026e-02,  1.5888e-02, -3.9950e-02, -7.2147e-02, -1.3329e-02,\n",
       "                       2.6100e-02,  6.9552e-02, -2.0586e-02, -1.4920e-02, -8.9250e-03,\n",
       "                       6.1765e-05,  3.3219e-02,  3.9455e-02,  1.1453e-02,  6.1494e-02,\n",
       "                       8.7075e-02, -7.1684e-02, -6.5034e-02,  6.6558e-02,  5.1768e-02,\n",
       "                       7.4591e-02, -3.5245e-02,  2.1789e-02, -6.0682e-02,  6.5736e-02,\n",
       "                      -6.5097e-02, -3.5960e-02,  4.5944e-02, -1.3621e-02,  1.1565e-02,\n",
       "                      -7.1673e-02,  1.7268e-02,  2.6232e-02, -3.7003e-02,  1.7761e-02,\n",
       "                      -7.5062e-02, -5.1311e-02,  2.8845e-02,  6.8930e-02,  4.7246e-02,\n",
       "                       8.6262e-02,  3.1616e-03,  6.9648e-02, -7.1586e-02, -1.7015e-02,\n",
       "                      -3.5579e-02, -4.5648e-02, -4.8129e-02,  5.7748e-02,  4.5152e-02,\n",
       "                      -6.4197e-02,  3.9291e-02, -2.5548e-02, -2.9203e-02, -4.9612e-02,\n",
       "                      -8.5265e-03, -8.1986e-03,  5.5709e-02,  3.1898e-03,  1.0436e-02,\n",
       "                      -8.5270e-02,  7.0158e-02,  3.9115e-02, -7.6794e-02,  7.7673e-02,\n",
       "                      -1.3015e-02, -7.8638e-02,  2.7331e-02,  8.0002e-02,  7.7201e-02,\n",
       "                      -4.7981e-02, -1.1864e-02,  5.1284e-02,  1.9268e-02, -6.8550e-02,\n",
       "                       1.2203e-02, -1.0722e-02, -6.2263e-02,  5.8270e-02,  2.5236e-02,\n",
       "                       6.8532e-02,  1.5717e-02,  6.6304e-02, -5.0789e-02, -3.8745e-02,\n",
       "                      -6.9259e-02, -5.6173e-03, -3.5663e-02, -8.4811e-02,  1.7713e-02,\n",
       "                       3.1579e-02,  1.7493e-02,  2.1448e-02, -7.9303e-02,  3.2078e-04,\n",
       "                      -8.8215e-02,  4.6602e-02, -1.0061e-02,  7.5331e-03,  4.5845e-02,\n",
       "                       5.6834e-02,  6.1204e-02, -2.7986e-02, -1.3599e-03,  3.9028e-02,\n",
       "                      -4.3422e-02,  3.6617e-02, -1.7517e-02], device='cuda:0')),\n",
       "             ('fc.weight',\n",
       "              tensor([[ 0.0588, -0.0808,  0.0436, -0.0128,  0.0740,  0.0170, -0.0339, -0.0503,\n",
       "                       -0.0738,  0.0379,  0.0212,  0.0088,  0.0496, -0.0607, -0.0291, -0.0430,\n",
       "                       -0.0216,  0.0692,  0.0063,  0.0118, -0.0517, -0.0154, -0.0673,  0.0586,\n",
       "                        0.0468,  0.0685, -0.0473,  0.0467,  0.0883,  0.0880,  0.0577, -0.0263,\n",
       "                        0.0599, -0.0429,  0.0482, -0.0562, -0.0216,  0.0340,  0.0285,  0.0021,\n",
       "                        0.0171,  0.0781, -0.0449,  0.0312,  0.0224,  0.0317,  0.0016,  0.0135,\n",
       "                       -0.0796, -0.0523,  0.0607,  0.0412,  0.0798, -0.0608, -0.0612,  0.0540,\n",
       "                       -0.0701,  0.0637,  0.0066,  0.0874,  0.0850, -0.0185,  0.0418, -0.0734,\n",
       "                        0.0553, -0.0212, -0.0302, -0.0172, -0.0272, -0.0492, -0.0348, -0.0052,\n",
       "                       -0.0739, -0.0566,  0.0733, -0.0853,  0.0734, -0.0698,  0.0577, -0.0128,\n",
       "                       -0.0863,  0.0251,  0.0711, -0.0399,  0.0143,  0.0709,  0.0416, -0.0436,\n",
       "                        0.0144,  0.0473,  0.0805,  0.0162,  0.0062,  0.0426, -0.0831, -0.0295,\n",
       "                       -0.0530,  0.0012,  0.0793,  0.0333,  0.0597, -0.0118,  0.0564,  0.0529,\n",
       "                        0.0048,  0.0383,  0.0447, -0.0084,  0.0576,  0.0883, -0.0605, -0.0848,\n",
       "                       -0.0858, -0.0529, -0.0810, -0.0518,  0.0314,  0.0534, -0.0167,  0.0328,\n",
       "                       -0.0090,  0.0413, -0.0530,  0.0393,  0.0242, -0.0318,  0.0274, -0.0558]],\n",
       "                     device='cuda:0')),\n",
       "             ('fc.bias', tensor([0.0864], device='cuda:0'))])"
      ]
     },
     "execution_count": 37,
     "metadata": {},
     "output_type": "execute_result"
    }
   ],
   "source": [
    "model_v1.state_dict()"
   ]
  },
  {
   "cell_type": "code",
   "execution_count": 38,
   "id": "48674572-8720-485e-946c-8be651e427ed",
   "metadata": {},
   "outputs": [],
   "source": [
    "optimizer = torch.optim.Adam(model_v1.parameters(), lr=1e-3)\n",
    "loss_fn = nn.BCEWithLogitsLoss()"
   ]
  },
  {
   "cell_type": "code",
   "execution_count": 39,
   "id": "d7be09ba-97c4-4e48-8b8e-d6c3f6692e40",
   "metadata": {},
   "outputs": [],
   "source": [
    "def accuracy_fn(preds, labels):\n",
    "    return (preds == labels).sum().item() / len(labels)"
   ]
  },
  {
   "cell_type": "code",
   "execution_count": 40,
   "id": "a0813afd-5910-4fe8-9f15-06172530edeb",
   "metadata": {},
   "outputs": [],
   "source": [
    "def train_step(model:nn.Module,\n",
    "                train_dataloader: torch.utils.data,\n",
    "                optimizer: torch.optim,\n",
    "                loss_fn: torch.nn.Module,\n",
    "                device: torch.device= device):\n",
    "    model.train()\n",
    "    train_loss, train_acc = 0,0\n",
    "    for X, y in train_dataloader:\n",
    "        X = X.to(device)\n",
    "        y = y.to(device)\n",
    "        # Reset optimizer to 0 \n",
    "        optimizer.zero_grad()\n",
    "        # Make preds\n",
    "        y_pred = model(X).squeeze(1)\n",
    "        # Calcualte loss\n",
    "        loss = loss_fn(y_pred, y.float())\n",
    "        loss.backward()\n",
    "        optimizer.step()\n",
    "        train_loss += loss.item() * X.size(0) # Multiply just in case last batch size is less than 32\n",
    "        preds = (torch.sigmoid(y_pred) >= 0.5).float()\n",
    "        train_acc += accuracy_fn(preds, y) * X.size(0)\n",
    "    avg_loss = train_loss / len(train_dataloader.dataset)\n",
    "    avg_acc = train_acc / len(train_dataloader.dataset)\n",
    "    print(f\"Train Loss: {avg_loss:.4f} | Train Accuracy: {avg_acc:.4f}\")\n",
    "    return avg_loss, avg_acc"
   ]
  },
  {
   "cell_type": "code",
   "execution_count": 41,
   "id": "5decf31d-6f67-4272-afb1-d84c62874b2d",
   "metadata": {},
   "outputs": [],
   "source": [
    "def validate_step(model: nn.Module,\n",
    "                  test_dataloader: torch.utils.data,\n",
    "                  loss_fn: torch.nn.Module,\n",
    "                  device: torch.device = device):\n",
    "    test_loss, test_acc = 0, 0\n",
    "    total_samples = 0\n",
    "    model.eval()\n",
    "    with torch.inference_mode():\n",
    "        for X_test, y_test in test_dataloader:\n",
    "            X_test, y_test = X_test.to(device), y_test.to(device)\n",
    "            test_pred = model(X_test).squeeze(1)\n",
    "            # Pass raw logits to loss_fn\n",
    "            test_loss += loss_fn(test_pred, y_test.float()).item() * X_test.size(0)\n",
    "            preds = (torch.sigmoid(test_pred) >= 0.5).float()\n",
    "            test_acc += (preds == y_test).sum().item()\n",
    "            total_samples += y_test.size(0)\n",
    "    avg_loss = test_loss / total_samples\n",
    "    avg_acc = test_acc / total_samples\n",
    "    print(f\"Test Loss: {avg_loss:.4f} |  Test Accuracy: {avg_acc:.4f}\")"
   ]
  },
  {
   "cell_type": "code",
   "execution_count": 42,
   "id": "b46b7bb7-d7fa-4fc2-b8b9-4888d053a1cc",
   "metadata": {},
   "outputs": [
    {
     "data": {
      "application/vnd.jupyter.widget-view+json": {
       "model_id": "20fd972eedff48759a8cb49984374c95",
       "version_major": 2,
       "version_minor": 0
      },
      "text/plain": [
       "  0%|          | 0/50 [00:00<?, ?it/s]"
      ]
     },
     "metadata": {},
     "output_type": "display_data"
    },
    {
     "name": "stdout",
     "output_type": "stream",
     "text": [
      "Epoch: 0---\n",
      "\n",
      "Train Loss: 0.6952 | Train Accuracy: 0.5010\n",
      "Test Loss: 0.6952 |  Test Accuracy: 0.5012\n",
      "Epoch: 1---\n",
      "\n",
      "Train Loss: 0.6972 | Train Accuracy: 0.5021\n",
      "Test Loss: 0.7013 |  Test Accuracy: 0.4883\n",
      "Epoch: 2---\n",
      "\n",
      "Train Loss: 0.6949 | Train Accuracy: 0.5078\n",
      "Test Loss: 0.6944 |  Test Accuracy: 0.4868\n",
      "Epoch: 3---\n",
      "\n",
      "Train Loss: 0.6918 | Train Accuracy: 0.5208\n",
      "Test Loss: 0.6957 |  Test Accuracy: 0.5095\n",
      "Epoch: 4---\n",
      "\n",
      "Train Loss: 0.6832 | Train Accuracy: 0.5427\n",
      "Test Loss: 0.6951 |  Test Accuracy: 0.5162\n",
      "Epoch: 5---\n",
      "\n",
      "Train Loss: 0.6717 | Train Accuracy: 0.5614\n",
      "Test Loss: 0.6776 |  Test Accuracy: 0.5975\n",
      "Epoch: 6---\n",
      "\n",
      "Train Loss: 0.6644 | Train Accuracy: 0.5781\n",
      "Test Loss: 0.7078 |  Test Accuracy: 0.5347\n",
      "Epoch: 7---\n",
      "\n",
      "Train Loss: 0.6634 | Train Accuracy: 0.5651\n",
      "Test Loss: 0.7044 |  Test Accuracy: 0.5175\n",
      "Epoch: 8---\n",
      "\n",
      "Train Loss: 0.6345 | Train Accuracy: 0.6268\n",
      "Test Loss: 0.6789 |  Test Accuracy: 0.6155\n",
      "Epoch: 9---\n",
      "\n",
      "Train Loss: 0.6209 | Train Accuracy: 0.6493\n",
      "Test Loss: 0.7237 |  Test Accuracy: 0.5108\n",
      "Epoch: 10---\n",
      "\n",
      "Train Loss: 0.6169 | Train Accuracy: 0.6531\n",
      "Test Loss: 0.6873 |  Test Accuracy: 0.6168\n",
      "Epoch: 11---\n",
      "\n",
      "Train Loss: 0.5923 | Train Accuracy: 0.6905\n",
      "Test Loss: 0.6602 |  Test Accuracy: 0.6490\n",
      "Epoch: 12---\n",
      "\n",
      "Train Loss: 0.5715 | Train Accuracy: 0.7185\n",
      "Test Loss: 0.6684 |  Test Accuracy: 0.6435\n",
      "Epoch: 13---\n",
      "\n",
      "Train Loss: 0.5660 | Train Accuracy: 0.7206\n",
      "Test Loss: 0.6864 |  Test Accuracy: 0.6605\n",
      "Epoch: 14---\n",
      "\n",
      "Train Loss: 0.5679 | Train Accuracy: 0.7246\n",
      "Test Loss: 0.6775 |  Test Accuracy: 0.6670\n",
      "Epoch: 15---\n",
      "\n",
      "Train Loss: 0.6001 | Train Accuracy: 0.6481\n",
      "Test Loss: 0.7189 |  Test Accuracy: 0.5195\n",
      "Epoch: 16---\n",
      "\n",
      "Train Loss: 0.6336 | Train Accuracy: 0.5831\n",
      "Test Loss: 0.7189 |  Test Accuracy: 0.6000\n",
      "Epoch: 17---\n",
      "\n",
      "Train Loss: 0.6008 | Train Accuracy: 0.6499\n",
      "Test Loss: 0.7164 |  Test Accuracy: 0.5285\n",
      "Epoch: 18---\n",
      "\n",
      "Train Loss: 0.5868 | Train Accuracy: 0.6425\n",
      "Test Loss: 0.6715 |  Test Accuracy: 0.6530\n",
      "Epoch: 19---\n",
      "\n",
      "Train Loss: 0.5632 | Train Accuracy: 0.7242\n",
      "Test Loss: 0.6885 |  Test Accuracy: 0.6390\n",
      "Epoch: 20---\n",
      "\n",
      "Train Loss: 0.5476 | Train Accuracy: 0.7277\n",
      "Test Loss: 0.6891 |  Test Accuracy: 0.6650\n",
      "Epoch: 21---\n",
      "\n",
      "Train Loss: 0.5317 | Train Accuracy: 0.7388\n",
      "Test Loss: 0.7240 |  Test Accuracy: 0.6603\n",
      "Epoch: 22---\n",
      "\n",
      "Train Loss: 0.5216 | Train Accuracy: 0.7432\n",
      "Test Loss: 0.7191 |  Test Accuracy: 0.6365\n",
      "Epoch: 23---\n",
      "\n",
      "Train Loss: 0.5230 | Train Accuracy: 0.7403\n",
      "Test Loss: 0.7350 |  Test Accuracy: 0.6643\n",
      "Epoch: 24---\n",
      "\n",
      "Train Loss: 0.5211 | Train Accuracy: 0.7465\n",
      "Test Loss: 0.7432 |  Test Accuracy: 0.6472\n",
      "Epoch: 25---\n",
      "\n",
      "Train Loss: 0.5356 | Train Accuracy: 0.7351\n",
      "Test Loss: 0.7428 |  Test Accuracy: 0.5305\n",
      "Epoch: 26---\n",
      "\n",
      "Train Loss: 0.5533 | Train Accuracy: 0.6922\n",
      "Test Loss: 0.7186 |  Test Accuracy: 0.6610\n",
      "Epoch: 27---\n",
      "\n",
      "Train Loss: 0.5406 | Train Accuracy: 0.7313\n",
      "Test Loss: 0.7054 |  Test Accuracy: 0.6168\n",
      "Epoch: 28---\n",
      "\n",
      "Train Loss: 0.5632 | Train Accuracy: 0.6918\n",
      "Test Loss: 0.7413 |  Test Accuracy: 0.5252\n",
      "Epoch: 29---\n",
      "\n",
      "Train Loss: 0.6174 | Train Accuracy: 0.5866\n",
      "Test Loss: 0.7374 |  Test Accuracy: 0.5260\n",
      "Epoch: 30---\n",
      "\n",
      "Train Loss: 0.6151 | Train Accuracy: 0.6081\n",
      "Test Loss: 0.7386 |  Test Accuracy: 0.5400\n",
      "Epoch: 31---\n",
      "\n",
      "Train Loss: 0.6117 | Train Accuracy: 0.6015\n",
      "Test Loss: 0.7528 |  Test Accuracy: 0.5245\n",
      "Epoch: 32---\n",
      "\n",
      "Train Loss: 0.6030 | Train Accuracy: 0.6181\n",
      "Test Loss: 0.7374 |  Test Accuracy: 0.5760\n",
      "Epoch: 33---\n",
      "\n",
      "Train Loss: 0.5903 | Train Accuracy: 0.6465\n",
      "Test Loss: 0.7657 |  Test Accuracy: 0.5467\n",
      "Epoch: 34---\n",
      "\n",
      "Train Loss: 0.6141 | Train Accuracy: 0.5965\n",
      "Test Loss: 0.7441 |  Test Accuracy: 0.5155\n",
      "Epoch: 35---\n",
      "\n",
      "Train Loss: 0.6085 | Train Accuracy: 0.5899\n",
      "Test Loss: 0.7515 |  Test Accuracy: 0.5260\n",
      "Epoch: 36---\n",
      "\n",
      "Train Loss: 0.6004 | Train Accuracy: 0.6037\n",
      "Test Loss: 0.7722 |  Test Accuracy: 0.5510\n",
      "Epoch: 37---\n",
      "\n",
      "Train Loss: 0.6173 | Train Accuracy: 0.5970\n",
      "Test Loss: 0.7269 |  Test Accuracy: 0.5268\n",
      "Epoch: 38---\n",
      "\n",
      "Train Loss: 0.6123 | Train Accuracy: 0.5929\n",
      "Test Loss: 0.7469 |  Test Accuracy: 0.5308\n",
      "Epoch: 39---\n",
      "\n",
      "Train Loss: 0.5982 | Train Accuracy: 0.6019\n",
      "Test Loss: 0.7728 |  Test Accuracy: 0.5302\n",
      "Epoch: 40---\n",
      "\n",
      "Train Loss: 0.5822 | Train Accuracy: 0.6164\n",
      "Test Loss: 0.7769 |  Test Accuracy: 0.5635\n",
      "Epoch: 41---\n",
      "\n",
      "Train Loss: 0.5747 | Train Accuracy: 0.6271\n",
      "Test Loss: 0.7845 |  Test Accuracy: 0.5343\n",
      "Epoch: 42---\n",
      "\n",
      "Train Loss: 0.5662 | Train Accuracy: 0.6878\n",
      "Test Loss: 0.7052 |  Test Accuracy: 0.6340\n",
      "Epoch: 43---\n",
      "\n",
      "Train Loss: 0.5887 | Train Accuracy: 0.6413\n",
      "Test Loss: 0.7569 |  Test Accuracy: 0.5140\n",
      "Epoch: 44---\n",
      "\n",
      "Train Loss: 0.5967 | Train Accuracy: 0.6055\n",
      "Test Loss: 0.7553 |  Test Accuracy: 0.5347\n",
      "Epoch: 45---\n",
      "\n",
      "Train Loss: 0.5776 | Train Accuracy: 0.6125\n",
      "Test Loss: 0.7697 |  Test Accuracy: 0.5285\n",
      "Epoch: 46---\n",
      "\n",
      "Train Loss: 0.5950 | Train Accuracy: 0.6379\n",
      "Test Loss: 0.7062 |  Test Accuracy: 0.6208\n",
      "Epoch: 47---\n",
      "\n",
      "Train Loss: 0.5494 | Train Accuracy: 0.7196\n",
      "Test Loss: 0.6892 |  Test Accuracy: 0.6230\n",
      "Epoch: 48---\n",
      "\n",
      "Train Loss: 0.5622 | Train Accuracy: 0.7164\n",
      "Test Loss: 0.7525 |  Test Accuracy: 0.5280\n",
      "Epoch: 49---\n",
      "\n",
      "Train Loss: 0.5619 | Train Accuracy: 0.7120\n",
      "Test Loss: 0.6811 |  Test Accuracy: 0.6328\n",
      "Train time on cuda:0: 421.751 seconds\n"
     ]
    }
   ],
   "source": [
    "epochs = 50\n",
    "torch.manual_seed(42)\n",
    "train_time_start_gpu= timer()\n",
    "for epoch in tqdm(range(epochs)):\n",
    "    print(f\"Epoch: {epoch}---\\n\")\n",
    "    train_step(\n",
    "        model= model_v1,\n",
    "        train_dataloader=train_loader,\n",
    "        optimizer = optimizer, \n",
    "        loss_fn=loss_fn, \n",
    "        )\n",
    "    validate_step(model= model_v1,\n",
    "        test_dataloader=val_loader,\n",
    "        loss_fn=loss_fn, \n",
    "        )\n",
    "train_time_end_gpu = timer()\n",
    "total_train_time_model_1 = print_train_time(\n",
    "    start = train_time_start_gpu,\n",
    "    end = train_time_end_gpu,\n",
    "    device=str(next(model_v1.parameters()).device)\n",
    ")"
   ]
  },
  {
   "cell_type": "code",
   "execution_count": 43,
   "id": "7b6edf2c-4e91-44d2-b43a-01f8be32fc45",
   "metadata": {},
   "outputs": [],
   "source": [
    "torch.cuda.empty_cache()"
   ]
  },
  {
   "cell_type": "code",
   "execution_count": null,
   "id": "6582b690-1765-4259-9f21-6131a837a762",
   "metadata": {},
   "outputs": [],
   "source": []
  }
 ],
 "metadata": {
  "kernelspec": {
   "display_name": "Python 3 (ipykernel)",
   "language": "python",
   "name": "python3"
  },
  "language_info": {
   "codemirror_mode": {
    "name": "ipython",
    "version": 3
   },
   "file_extension": ".py",
   "mimetype": "text/x-python",
   "name": "python",
   "nbconvert_exporter": "python",
   "pygments_lexer": "ipython3",
   "version": "3.10.16"
  }
 },
 "nbformat": 4,
 "nbformat_minor": 5
}

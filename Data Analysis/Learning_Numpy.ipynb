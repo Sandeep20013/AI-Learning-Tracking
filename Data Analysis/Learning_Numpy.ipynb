{
 "cells": [
  {
   "cell_type": "code",
   "execution_count": 8,
   "id": "5165c2a6-c41b-4c48-bf64-98904ef89771",
   "metadata": {},
   "outputs": [],
   "source": [
    "import numpy as np"
   ]
  },
  {
   "cell_type": "code",
   "execution_count": 10,
   "id": "65ea8abd-49aa-4c8b-ba14-b6f49dc08350",
   "metadata": {},
   "outputs": [],
   "source": [
    "arr  = np.arange(10)"
   ]
  },
  {
   "cell_type": "code",
   "execution_count": 11,
   "id": "5a9bb41f-e4b4-47c0-bf11-ca79405e0061",
   "metadata": {},
   "outputs": [
    {
     "data": {
      "text/plain": [
       "array([0, 1, 2, 3, 4, 5, 6, 7, 8, 9])"
      ]
     },
     "execution_count": 11,
     "metadata": {},
     "output_type": "execute_result"
    }
   ],
   "source": [
    "arr"
   ]
  },
  {
   "cell_type": "code",
   "execution_count": 12,
   "id": "775cbb33-2439-49de-a983-9fb3f96240b7",
   "metadata": {},
   "outputs": [
    {
     "data": {
      "text/plain": [
       "array([0.        , 1.        , 1.41421356, 1.73205081, 2.        ,\n",
       "       2.23606798, 2.44948974, 2.64575131, 2.82842712, 3.        ])"
      ]
     },
     "execution_count": 12,
     "metadata": {},
     "output_type": "execute_result"
    }
   ],
   "source": [
    "np.sqrt(arr)"
   ]
  },
  {
   "cell_type": "code",
   "execution_count": 13,
   "id": "3c779964-1e2d-46d8-9f0d-44c4769b9539",
   "metadata": {},
   "outputs": [
    {
     "data": {
      "text/plain": [
       "array([1.00000000e+00, 2.71828183e+00, 7.38905610e+00, 2.00855369e+01,\n",
       "       5.45981500e+01, 1.48413159e+02, 4.03428793e+02, 1.09663316e+03,\n",
       "       2.98095799e+03, 8.10308393e+03])"
      ]
     },
     "execution_count": 13,
     "metadata": {},
     "output_type": "execute_result"
    }
   ],
   "source": [
    "np.exp(arr)"
   ]
  },
  {
   "cell_type": "code",
   "execution_count": 23,
   "id": "57284cf7-044a-47f4-975f-18888ddc7a70",
   "metadata": {},
   "outputs": [
    {
     "data": {
      "text/plain": [
       "array([[0., 0., 0.],\n",
       "       [0., 0., 0.]])"
      ]
     },
     "execution_count": 23,
     "metadata": {},
     "output_type": "execute_result"
    }
   ],
   "source": [
    "np.zeros((2,3))"
   ]
  },
  {
   "cell_type": "code",
   "execution_count": 25,
   "id": "9c1ba753-0349-46d2-9b57-8dfcb5260ccb",
   "metadata": {},
   "outputs": [
    {
     "data": {
      "text/plain": [
       "array([[ 0.29583956,  2.0743947 ,  0.68883234],\n",
       "       [ 0.67221641, -0.73856483, -1.78844628],\n",
       "       [ 0.22614279, -0.09082702,  0.76168662],\n",
       "       [ 1.11664101, -0.86245184,  0.9734642 ],\n",
       "       [ 0.81746039,  0.52978504, -0.93200663],\n",
       "       [-0.32355725,  1.3647097 ,  0.53018959],\n",
       "       [ 0.63623495, -0.58687705,  0.93940706],\n",
       "       [-0.05268748,  0.34064804, -1.1223772 ],\n",
       "       [-0.11338372, -1.53084996,  0.64117323],\n",
       "       [-1.36591705, -0.22988468, -1.34407512]])"
      ]
     },
     "execution_count": 25,
     "metadata": {},
     "output_type": "execute_result"
    }
   ],
   "source": [
    "np.random.randn(10,3)"
   ]
  },
  {
   "cell_type": "markdown",
   "id": "5f2c311d-3831-40b4-aa2a-7778b819a96e",
   "metadata": {},
   "source": [
    "### Reshaping"
   ]
  },
  {
   "cell_type": "code",
   "execution_count": 27,
   "id": "6cb4fc74-562a-4e79-bddf-e8277a61d045",
   "metadata": {},
   "outputs": [
    {
     "data": {
      "text/plain": [
       "array([0, 1, 2, 3, 4, 5, 6, 7, 8, 9])"
      ]
     },
     "execution_count": 27,
     "metadata": {},
     "output_type": "execute_result"
    }
   ],
   "source": [
    "arr = np.arange(0,10)\n",
    "arr"
   ]
  },
  {
   "cell_type": "code",
   "execution_count": 33,
   "id": "4085bc77-8d2c-4d33-92c0-c7e758f6e2b1",
   "metadata": {},
   "outputs": [
    {
     "data": {
      "text/plain": [
       "array([[0, 1, 2, 3, 4],\n",
       "       [5, 6, 7, 8, 9]])"
      ]
     },
     "execution_count": 33,
     "metadata": {},
     "output_type": "execute_result"
    }
   ],
   "source": [
    "arr = arr.reshape((2,5))\n",
    "arr"
   ]
  },
  {
   "cell_type": "markdown",
   "id": "b5a9834a-ef3a-41d7-adb8-9315f579e9ad",
   "metadata": {},
   "source": [
    "### Transposing"
   ]
  },
  {
   "cell_type": "code",
   "execution_count": 34,
   "id": "ca89591c-c19e-47bc-891a-0686eef54bb7",
   "metadata": {},
   "outputs": [
    {
     "data": {
      "text/plain": [
       "array([[0, 1, 2, 3, 4],\n",
       "       [5, 6, 7, 8, 9]])"
      ]
     },
     "execution_count": 34,
     "metadata": {},
     "output_type": "execute_result"
    }
   ],
   "source": [
    "arr"
   ]
  },
  {
   "cell_type": "code",
   "execution_count": 35,
   "id": "7219914c-cae0-4a41-af88-3985f4d248e4",
   "metadata": {},
   "outputs": [
    {
     "data": {
      "text/plain": [
       "array([[0, 5],\n",
       "       [1, 6],\n",
       "       [2, 7],\n",
       "       [3, 8],\n",
       "       [4, 9]])"
      ]
     },
     "execution_count": 35,
     "metadata": {},
     "output_type": "execute_result"
    }
   ],
   "source": [
    "arr.T"
   ]
  },
  {
   "cell_type": "markdown",
   "id": "b74a25b7-52fc-4c38-8348-27542c9da6e1",
   "metadata": {},
   "source": [
    "### Np.meshgrid"
   ]
  },
  {
   "cell_type": "code",
   "execution_count": 36,
   "id": "8b0082a4-8eaf-404a-9f5a-833eea99b49b",
   "metadata": {},
   "outputs": [],
   "source": [
    "points = np.arange(-5, 5, 0.01)"
   ]
  },
  {
   "cell_type": "code",
   "execution_count": 37,
   "id": "a8bf8323-cdcf-4a01-b01b-d8a4e16b0d9b",
   "metadata": {},
   "outputs": [],
   "source": [
    "xs, ys = np.meshgrid(points, points)"
   ]
  },
  {
   "cell_type": "code",
   "execution_count": 38,
   "id": "25dbf492-91fd-40ee-acff-930723fdb305",
   "metadata": {},
   "outputs": [
    {
     "data": {
      "text/plain": [
       "array([[-5.  , -5.  , -5.  , ..., -5.  , -5.  , -5.  ],\n",
       "       [-4.99, -4.99, -4.99, ..., -4.99, -4.99, -4.99],\n",
       "       [-4.98, -4.98, -4.98, ..., -4.98, -4.98, -4.98],\n",
       "       ...,\n",
       "       [ 4.97,  4.97,  4.97, ...,  4.97,  4.97,  4.97],\n",
       "       [ 4.98,  4.98,  4.98, ...,  4.98,  4.98,  4.98],\n",
       "       [ 4.99,  4.99,  4.99, ...,  4.99,  4.99,  4.99]],\n",
       "      shape=(1000, 1000))"
      ]
     },
     "execution_count": 38,
     "metadata": {},
     "output_type": "execute_result"
    }
   ],
   "source": [
    "ys"
   ]
  },
  {
   "cell_type": "markdown",
   "id": "e5fe923b-e788-41c9-9977-56689b213e4a",
   "metadata": {},
   "source": [
    "### Expressing Conditional and Logic Operations with Numpy\n",
    "\n"
   ]
  },
  {
   "cell_type": "code",
   "execution_count": 49,
   "id": "343a367f-24d2-492f-980e-a647df23fd9e",
   "metadata": {},
   "outputs": [
    {
     "data": {
      "text/plain": [
       "(array([1.1, 1.2, 1.3, 1.4, 1.5]), array([2.1, 2.2, 2.3, 2.4, 2.5]))"
      ]
     },
     "execution_count": 49,
     "metadata": {},
     "output_type": "execute_result"
    }
   ],
   "source": [
    "xarr = np.arange(1.1,1.6,0.1)\n",
    "yarr = np.arange(2.1, 2.6, 0.1)\n",
    "xarr, yarr"
   ]
  },
  {
   "cell_type": "code",
   "execution_count": 50,
   "id": "b0f8b91d-6a10-4a67-aa2a-f9d4dc8270e3",
   "metadata": {},
   "outputs": [
    {
     "data": {
      "text/plain": [
       "array([ True, False,  True, False, False])"
      ]
     },
     "execution_count": 50,
     "metadata": {},
     "output_type": "execute_result"
    }
   ],
   "source": [
    "cond = np.array([True, False, True, False, False])\n",
    "cond"
   ]
  },
  {
   "cell_type": "markdown",
   "id": "4763378e-4328-44f8-b1e9-a403d62aeb12",
   "metadata": {},
   "source": [
    "Let's say we want to take a value from `xarr` when cond[i] is True and a value from `yarr` when cond[i] is False we can use `np.where`:\n",
    "\n",
    "(The second and third arguments don't have to be an array, the first one can be a condition)"
   ]
  },
  {
   "cell_type": "code",
   "execution_count": 51,
   "id": "394204b1-d4f2-4b2c-847f-4a49f86d8e40",
   "metadata": {},
   "outputs": [],
   "source": [
    "result = np.where(cond, xarr, yarr)"
   ]
  },
  {
   "cell_type": "code",
   "execution_count": 52,
   "id": "024be28b-95cf-48ef-9036-97714336f770",
   "metadata": {},
   "outputs": [
    {
     "data": {
      "text/plain": [
       "array([1.1, 2.2, 1.3, 2.4, 2.5])"
      ]
     },
     "execution_count": 52,
     "metadata": {},
     "output_type": "execute_result"
    }
   ],
   "source": [
    "result"
   ]
  },
  {
   "cell_type": "code",
   "execution_count": 53,
   "id": "b80cd961-f22c-4dd5-a0d2-7ca09005a42e",
   "metadata": {},
   "outputs": [
    {
     "data": {
      "text/plain": [
       "array([[ 0.09680969, -0.28676487,  1.34648161, -0.62756455],\n",
       "       [ 1.33915764, -0.76269956,  0.84669775, -0.1477824 ],\n",
       "       [-0.12167134,  1.74031397,  1.31161248,  0.7884128 ],\n",
       "       [ 0.99858913, -0.30281798,  1.3155949 ,  0.66766742]])"
      ]
     },
     "execution_count": 53,
     "metadata": {},
     "output_type": "execute_result"
    }
   ],
   "source": [
    "arr = np.random.randn(4,4)\n",
    "arr"
   ]
  },
  {
   "cell_type": "code",
   "execution_count": 55,
   "id": "f7f6a982-9c5d-4979-ba9c-5bd330fa391c",
   "metadata": {},
   "outputs": [
    {
     "data": {
      "text/plain": [
       "array([[ 2.        , -0.28676487,  2.        , -0.62756455],\n",
       "       [ 2.        , -0.76269956,  2.        , -0.1477824 ],\n",
       "       [-0.12167134,  2.        ,  2.        ,  2.        ],\n",
       "       [ 2.        , -0.30281798,  2.        ,  2.        ]])"
      ]
     },
     "execution_count": 55,
     "metadata": {},
     "output_type": "execute_result"
    }
   ],
   "source": [
    "np.where(arr>0, 2, arr)"
   ]
  },
  {
   "cell_type": "code",
   "execution_count": null,
   "id": "580005a9-5094-4fd2-b0ad-aeac91da010d",
   "metadata": {},
   "outputs": [],
   "source": []
  }
 ],
 "metadata": {
  "kernelspec": {
   "display_name": "Python 3 (ipykernel)",
   "language": "python",
   "name": "python3"
  },
  "language_info": {
   "codemirror_mode": {
    "name": "ipython",
    "version": 3
   },
   "file_extension": ".py",
   "mimetype": "text/x-python",
   "name": "python",
   "nbconvert_exporter": "python",
   "pygments_lexer": "ipython3",
   "version": "3.10.16"
  }
 },
 "nbformat": 4,
 "nbformat_minor": 5
}
